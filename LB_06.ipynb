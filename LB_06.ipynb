{
 "cells": [
  {
   "cell_type": "markdown",
   "metadata": {},
   "source": [
    "# LB06: Знакомство за обработкой естественного языка"
   ]
  },
  {
   "cell_type": "markdown",
   "metadata": {},
   "source": [
    "<div style=\"text-align: right\"> ПСА 5 (Введение в машинное обучение). Мехмат, БГУ</div>\n",
    "    \n",
    "<div style=\"text-align: right\"> Тишуров Алексей, ноябрь 2021 </div>\n",
    "\n",
    "<div style=\"text-align: right\"> Выполнил студент 3 курса 5 группы ММФ БГУ </div>\n",
    "\n",
    "<div style=\"text-align: right\"> Кирилло Дмитрий </div>"
   ]
  },
  {
   "cell_type": "markdown",
   "metadata": {},
   "source": [
    "Данный материал использует лицензию [Creative Commons CC BY-NC-SA 4.0.](https://creativecommons.org/licenses/by-nc-sa/4.0/) со всеми вытекающими. На прилагаемый к материалу датасет лицензия не распространяется. "
   ]
  },
  {
   "cell_type": "markdown",
   "metadata": {},
   "source": [
    "Базовая оценка за работу - 8. Одно дополнительное задание превратит ее в 9. А еще одно в 10."
   ]
  },
  {
   "cell_type": "code",
   "execution_count": 4,
   "metadata": {},
   "outputs": [],
   "source": [
    "import pandas as pd\n",
    "import numpy as np\n",
    "import matplotlib.pyplot as plt\n",
    "%matplotlib inline\n",
    "import seaborn as sns"
   ]
  },
  {
   "cell_type": "markdown",
   "metadata": {},
   "source": [
    "В этой лабораторной работе вы будете знакомиться с NLP на примере задаче по определению \"неискренних\" вопросов на quora. По этой ссылке можно ознакомиться с задачей и данными https://www.kaggle.com/c/quora-insincere-questions-classification. Самое важное копирую сюда:\n",
    "\n",
    "In this competition you will be predicting whether a question asked on Quora is sincere or not.\n",
    "\n",
    "An insincere question is defined as a question intended to make a statement rather than look for helpful answers. Some characteristics that can signify that a question is insincere:\n",
    "\n",
    "    Has a non-neutral tone\n",
    "        Has an exaggerated tone to underscore a point about a group of people\n",
    "        Is rhetorical and meant to imply a statement about a group of people\n",
    "    Is disparaging or inflammatory\n",
    "        Suggests a discriminatory idea against a protected class of people, or seeks confirmation of a stereotype\n",
    "        Makes disparaging attacks/insults against a specific person or group of people\n",
    "        Based on an outlandish premise about a group of people\n",
    "        Disparages against a characteristic that is not fixable and not measurable \n",
    "    Isn't grounded in reality\n",
    "        Based on false information, or contains absurd assumptions\n",
    "    Uses sexual content (incest, bestiality, pedophilia) for shock value, and not to seek genuine answers\n",
    "\n",
    "The training data includes the question that was asked, and whether it was identified as insincere (target = 1). The ground-truth labels contain some amount of noise: they are not guaranteed to be perfect.\n",
    "\n",
    "Note that the distribution of questions in the dataset should not be taken to be representative of the distribution of questions asked on Quora. This is, in part, because of the combination of sampling procedures and sanitization measures that have been applied to the final dataset."
   ]
  },
  {
   "cell_type": "markdown",
   "metadata": {},
   "source": [
    "Датасет нужно скачивать со страницы https://www.kaggle.com/c/quora-insincere-questions-classification/data (нужно будет зарегистрироваться и принять правила соревнования)"
   ]
  },
  {
   "cell_type": "code",
   "execution_count": 5,
   "metadata": {},
   "outputs": [],
   "source": [
    "df = pd.read_csv('train.csv')\n",
    "#df = pd.read_csv('train.csv', skiprows=lambda row: row % 5 > 0)"
   ]
  },
  {
   "cell_type": "code",
   "execution_count": 3,
   "metadata": {},
   "outputs": [
    {
     "data": {
      "text/html": [
       "<div>\n",
       "<style scoped>\n",
       "    .dataframe tbody tr th:only-of-type {\n",
       "        vertical-align: middle;\n",
       "    }\n",
       "\n",
       "    .dataframe tbody tr th {\n",
       "        vertical-align: top;\n",
       "    }\n",
       "\n",
       "    .dataframe thead th {\n",
       "        text-align: right;\n",
       "    }\n",
       "</style>\n",
       "<table border=\"1\" class=\"dataframe\">\n",
       "  <thead>\n",
       "    <tr style=\"text-align: right;\">\n",
       "      <th></th>\n",
       "      <th>qid</th>\n",
       "      <th>question_text</th>\n",
       "      <th>target</th>\n",
       "    </tr>\n",
       "  </thead>\n",
       "  <tbody>\n",
       "    <tr>\n",
       "      <th>0</th>\n",
       "      <td>00002165364db923c7e6</td>\n",
       "      <td>How did Quebec nationalists see their province...</td>\n",
       "      <td>0</td>\n",
       "    </tr>\n",
       "    <tr>\n",
       "      <th>1</th>\n",
       "      <td>000032939017120e6e44</td>\n",
       "      <td>Do you have an adopted dog, how would you enco...</td>\n",
       "      <td>0</td>\n",
       "    </tr>\n",
       "    <tr>\n",
       "      <th>2</th>\n",
       "      <td>0000412ca6e4628ce2cf</td>\n",
       "      <td>Why does velocity affect time? Does velocity a...</td>\n",
       "      <td>0</td>\n",
       "    </tr>\n",
       "    <tr>\n",
       "      <th>3</th>\n",
       "      <td>000042bf85aa498cd78e</td>\n",
       "      <td>How did Otto von Guericke used the Magdeburg h...</td>\n",
       "      <td>0</td>\n",
       "    </tr>\n",
       "    <tr>\n",
       "      <th>4</th>\n",
       "      <td>0000455dfa3e01eae3af</td>\n",
       "      <td>Can I convert montra helicon D to a mountain b...</td>\n",
       "      <td>0</td>\n",
       "    </tr>\n",
       "  </tbody>\n",
       "</table>\n",
       "</div>"
      ],
      "text/plain": [
       "                    qid                                      question_text  \\\n",
       "0  00002165364db923c7e6  How did Quebec nationalists see their province...   \n",
       "1  000032939017120e6e44  Do you have an adopted dog, how would you enco...   \n",
       "2  0000412ca6e4628ce2cf  Why does velocity affect time? Does velocity a...   \n",
       "3  000042bf85aa498cd78e  How did Otto von Guericke used the Magdeburg h...   \n",
       "4  0000455dfa3e01eae3af  Can I convert montra helicon D to a mountain b...   \n",
       "\n",
       "   target  \n",
       "0       0  \n",
       "1       0  \n",
       "2       0  \n",
       "3       0  \n",
       "4       0  "
      ]
     },
     "execution_count": 3,
     "metadata": {},
     "output_type": "execute_result"
    }
   ],
   "source": [
    "df.head()"
   ]
  },
  {
   "cell_type": "code",
   "execution_count": 6,
   "metadata": {},
   "outputs": [
    {
     "data": {
      "text/html": [
       "<div>\n",
       "<style scoped>\n",
       "    .dataframe tbody tr th:only-of-type {\n",
       "        vertical-align: middle;\n",
       "    }\n",
       "\n",
       "    .dataframe tbody tr th {\n",
       "        vertical-align: top;\n",
       "    }\n",
       "\n",
       "    .dataframe thead th {\n",
       "        text-align: right;\n",
       "    }\n",
       "</style>\n",
       "<table border=\"1\" class=\"dataframe\">\n",
       "  <thead>\n",
       "    <tr style=\"text-align: right;\">\n",
       "      <th></th>\n",
       "      <th>qid</th>\n",
       "      <th>question_text</th>\n",
       "      <th>target</th>\n",
       "    </tr>\n",
       "  </thead>\n",
       "  <tbody>\n",
       "    <tr>\n",
       "      <th>0</th>\n",
       "      <td>00002165364db923c7e6</td>\n",
       "      <td>How did Quebec nationalists see their province...</td>\n",
       "      <td>0</td>\n",
       "    </tr>\n",
       "    <tr>\n",
       "      <th>1</th>\n",
       "      <td>000032939017120e6e44</td>\n",
       "      <td>Do you have an adopted dog, how would you enco...</td>\n",
       "      <td>0</td>\n",
       "    </tr>\n",
       "    <tr>\n",
       "      <th>2</th>\n",
       "      <td>0000412ca6e4628ce2cf</td>\n",
       "      <td>Why does velocity affect time? Does velocity a...</td>\n",
       "      <td>0</td>\n",
       "    </tr>\n",
       "    <tr>\n",
       "      <th>3</th>\n",
       "      <td>000042bf85aa498cd78e</td>\n",
       "      <td>How did Otto von Guericke used the Magdeburg h...</td>\n",
       "      <td>0</td>\n",
       "    </tr>\n",
       "    <tr>\n",
       "      <th>4</th>\n",
       "      <td>0000455dfa3e01eae3af</td>\n",
       "      <td>Can I convert montra helicon D to a mountain b...</td>\n",
       "      <td>0</td>\n",
       "    </tr>\n",
       "  </tbody>\n",
       "</table>\n",
       "</div>"
      ],
      "text/plain": [
       "                    qid                                      question_text  \\\n",
       "0  00002165364db923c7e6  How did Quebec nationalists see their province...   \n",
       "1  000032939017120e6e44  Do you have an adopted dog, how would you enco...   \n",
       "2  0000412ca6e4628ce2cf  Why does velocity affect time? Does velocity a...   \n",
       "3  000042bf85aa498cd78e  How did Otto von Guericke used the Magdeburg h...   \n",
       "4  0000455dfa3e01eae3af  Can I convert montra helicon D to a mountain b...   \n",
       "\n",
       "   target  \n",
       "0       0  \n",
       "1       0  \n",
       "2       0  \n",
       "3       0  \n",
       "4       0  "
      ]
     },
     "execution_count": 6,
     "metadata": {},
     "output_type": "execute_result"
    }
   ],
   "source": [
    "df_copy = df.copy()\n",
    "df_copy.head()"
   ]
  },
  {
   "cell_type": "markdown",
   "metadata": {},
   "source": [
    "ВНИМАНИЕ! Если ваш компьютер будет считать слишком долго на полном датасете, то загружайте вторым способом. skiprows=lambda row: row % 5 > 0 означает, что будет прочитана только каждая пятая строка.\n",
    "\n",
    "Либо используйте kaggle kernels или google colaboratory"
   ]
  },
  {
   "cell_type": "markdown",
   "metadata": {},
   "source": [
    "# Часть 0. Ваше впечатление от датасета"
   ]
  },
  {
   "cell_type": "markdown",
   "metadata": {},
   "source": [
    "Сделайте аналитику на ваш выбор. Во время выполнения следующих заданий вам может прийти в голову специфичная аналитика связанная именно с текстами. Не стесняйтесь ее релазировать и продемонстрировать.\n",
    "\n",
    "Посмотрите на распределение целевой переменной, почитайте тексты, для которых она равна 1. Сделайте выводы."
   ]
  },
  {
   "cell_type": "markdown",
   "metadata": {},
   "source": [
    "#### <i> Типы признаков в данных </i>"
   ]
  },
  {
   "cell_type": "code",
   "execution_count": 5,
   "metadata": {},
   "outputs": [
    {
     "data": {
      "text/plain": [
       "qid              object\n",
       "question_text    object\n",
       "target            int64\n",
       "dtype: object"
      ]
     },
     "execution_count": 5,
     "metadata": {},
     "output_type": "execute_result"
    }
   ],
   "source": [
    "df.dtypes"
   ]
  },
  {
   "cell_type": "code",
   "execution_count": 6,
   "metadata": {},
   "outputs": [
    {
     "data": {
      "text/plain": [
       "(1306122, 3)"
      ]
     },
     "execution_count": 6,
     "metadata": {},
     "output_type": "execute_result"
    }
   ],
   "source": [
    "df.shape"
   ]
  },
  {
   "cell_type": "markdown",
   "metadata": {},
   "source": [
    "#### <i> Пропуски данных </i>"
   ]
  },
  {
   "cell_type": "code",
   "execution_count": 7,
   "metadata": {},
   "outputs": [
    {
     "data": {
      "text/plain": [
       "False"
      ]
     },
     "execution_count": 7,
     "metadata": {},
     "output_type": "execute_result"
    }
   ],
   "source": [
    "df.isnull().values.any() "
   ]
  },
  {
   "cell_type": "code",
   "execution_count": 8,
   "metadata": {},
   "outputs": [
    {
     "data": {
      "text/plain": [
       "qid              0\n",
       "question_text    0\n",
       "target           0\n",
       "dtype: int64"
      ]
     },
     "execution_count": 8,
     "metadata": {},
     "output_type": "execute_result"
    }
   ],
   "source": [
    "df.isnull().sum()"
   ]
  },
  {
   "cell_type": "markdown",
   "metadata": {},
   "source": [
    "#### <i> Есть ли какие-то явные взаимосвязи между признаками? </i>"
   ]
  },
  {
   "cell_type": "code",
   "execution_count": 9,
   "metadata": {},
   "outputs": [
    {
     "data": {
      "text/html": [
       "<div>\n",
       "<style scoped>\n",
       "    .dataframe tbody tr th:only-of-type {\n",
       "        vertical-align: middle;\n",
       "    }\n",
       "\n",
       "    .dataframe tbody tr th {\n",
       "        vertical-align: top;\n",
       "    }\n",
       "\n",
       "    .dataframe thead th {\n",
       "        text-align: right;\n",
       "    }\n",
       "</style>\n",
       "<table border=\"1\" class=\"dataframe\">\n",
       "  <thead>\n",
       "    <tr style=\"text-align: right;\">\n",
       "      <th></th>\n",
       "      <th>target</th>\n",
       "    </tr>\n",
       "  </thead>\n",
       "  <tbody>\n",
       "    <tr>\n",
       "      <th>target</th>\n",
       "      <td>1.0</td>\n",
       "    </tr>\n",
       "  </tbody>\n",
       "</table>\n",
       "</div>"
      ],
      "text/plain": [
       "        target\n",
       "target     1.0"
      ]
     },
     "execution_count": 9,
     "metadata": {},
     "output_type": "execute_result"
    }
   ],
   "source": [
    "df.corr()"
   ]
  },
  {
   "cell_type": "markdown",
   "metadata": {},
   "source": [
    "#### <i> Распределения признаков и присутствие/отсутствие явных выбросов </i>"
   ]
  },
  {
   "cell_type": "code",
   "execution_count": 10,
   "metadata": {},
   "outputs": [
    {
     "data": {
      "image/png": "[encoded data removed]",
      "text/plain": [
       "<Figure size 1296x432 with 1 Axes>"
      ]
     },
     "metadata": {
      "needs_background": "light"
     },
     "output_type": "display_data"
    }
   ],
   "source": [
    "fig = plt.figure(figsize=(18,6))\n",
    "df['target'].hist()\n",
    "plt.title(f'target', fontsize=16)\n",
    "plt.show()"
   ]
  },
  {
   "cell_type": "code",
   "execution_count": 11,
   "metadata": {},
   "outputs": [
    {
     "data": {
      "image/png": "[encoded data removed]",
      "text/plain": [
       "<Figure size 1584x576 with 1 Axes>"
      ]
     },
     "metadata": {
      "needs_background": "light"
     },
     "output_type": "display_data"
    }
   ],
   "source": [
    "plt.figure(figsize=(22, 8))\n",
    "plt.title('Target Distribution')\n",
    "sns.histplot(df, x='target')\n",
    "plt.show()"
   ]
  },
  {
   "cell_type": "code",
   "execution_count": 12,
   "metadata": {},
   "outputs": [
    {
     "data": {
      "text/plain": [
       "0.06187017751787352"
      ]
     },
     "execution_count": 12,
     "metadata": {},
     "output_type": "execute_result"
    }
   ],
   "source": [
    "true_class_weight = df['target'].mean()\n",
    "true_class_weight"
   ]
  },
  {
   "cell_type": "markdown",
   "metadata": {
    "id": "qZV67OHD7Xle"
   },
   "source": [
    "Как можно заметить, соотношение классов очень несбалансированное"
   ]
  },
  {
   "cell_type": "code",
   "execution_count": 13,
   "metadata": {},
   "outputs": [
    {
     "data": {
      "text/plain": [
       "22         Has the United States become the largest dicta...\n",
       "30         Which babies are more sweeter to their parents...\n",
       "110        If blacks support school choice and mandatory ...\n",
       "114        I am gay boy and I love my cousin (boy). He is...\n",
       "115                     Which races have the smallest penis?\n",
       "                                 ...                        \n",
       "1306093    How is it to have intimate relation with your ...\n",
       "1306094    Why is it when singers have lyrics about voice...\n",
       "1306099                    Do pakis smell of curry and shit?\n",
       "1306103    Isn't Trump right after all? Why should the US...\n",
       "1306112                  Are you ashamed of being an Indian?\n",
       "Name: question_text, Length: 80810, dtype: object"
      ]
     },
     "execution_count": 13,
     "metadata": {},
     "output_type": "execute_result"
    }
   ],
   "source": [
    "text_question = df.loc[df['target'] == 1, 'question_text']\n",
    "text_question"
   ]
  },
  {
   "cell_type": "code",
   "execution_count": 14,
   "metadata": {},
   "outputs": [
    {
     "data": {
      "text/plain": [
       "80810"
      ]
     },
     "execution_count": 14,
     "metadata": {},
     "output_type": "execute_result"
    }
   ],
   "source": [
    "text_question.count()"
   ]
  },
  {
   "cell_type": "code",
   "execution_count": 15,
   "metadata": {},
   "outputs": [],
   "source": [
    "text_question = text_question.to_numpy()"
   ]
  },
  {
   "cell_type": "code",
   "execution_count": 16,
   "metadata": {},
   "outputs": [
    {
     "data": {
      "text/html": [
       "<div>\n",
       "<style scoped>\n",
       "    .dataframe tbody tr th:only-of-type {\n",
       "        vertical-align: middle;\n",
       "    }\n",
       "\n",
       "    .dataframe tbody tr th {\n",
       "        vertical-align: top;\n",
       "    }\n",
       "\n",
       "    .dataframe thead th {\n",
       "        text-align: right;\n",
       "    }\n",
       "</style>\n",
       "<table border=\"1\" class=\"dataframe\">\n",
       "  <thead>\n",
       "    <tr style=\"text-align: right;\">\n",
       "      <th></th>\n",
       "      <th>qid</th>\n",
       "      <th>question_text</th>\n",
       "      <th>target</th>\n",
       "    </tr>\n",
       "  </thead>\n",
       "  <tbody>\n",
       "    <tr>\n",
       "      <th>1816</th>\n",
       "      <td>005a568d1ca345707448</td>\n",
       "      <td>How is YouTuber Debasree Banerjee getting away...</td>\n",
       "      <td>0</td>\n",
       "    </tr>\n",
       "    <tr>\n",
       "      <th>2390</th>\n",
       "      <td>0077f50514fdb490710e</td>\n",
       "      <td>How can I stop feeling so insecure about my re...</td>\n",
       "      <td>0</td>\n",
       "    </tr>\n",
       "    <tr>\n",
       "      <th>5852</th>\n",
       "      <td>0121d0988c60db7c3691</td>\n",
       "      <td>How do I get more pageviews on my blog? Help!</td>\n",
       "      <td>0</td>\n",
       "    </tr>\n",
       "    <tr>\n",
       "      <th>9014</th>\n",
       "      <td>01c29ff9fa85107895b1</td>\n",
       "      <td>Will I fail 5th grade? I got only Fs and there...</td>\n",
       "      <td>0</td>\n",
       "    </tr>\n",
       "    <tr>\n",
       "      <th>11138</th>\n",
       "      <td>023096ea20d4b15fb370</td>\n",
       "      <td>What stylictic device and where is it used her...</td>\n",
       "      <td>0</td>\n",
       "    </tr>\n",
       "    <tr>\n",
       "      <th>...</th>\n",
       "      <td>...</td>\n",
       "      <td>...</td>\n",
       "      <td>...</td>\n",
       "    </tr>\n",
       "    <tr>\n",
       "      <th>1293633</th>\n",
       "      <td>fd8a27d299c222292a5a</td>\n",
       "      <td>I'm new to Quora, so my question is general in...</td>\n",
       "      <td>0</td>\n",
       "    </tr>\n",
       "    <tr>\n",
       "      <th>1296396</th>\n",
       "      <td>fe153cb745740832ecf4</td>\n",
       "      <td>How can we bring a family member or friends ba...</td>\n",
       "      <td>0</td>\n",
       "    </tr>\n",
       "    <tr>\n",
       "      <th>1297387</th>\n",
       "      <td>fe468486dae82bb19341</td>\n",
       "      <td>How can I travel to imphal, Manipur by train? ...</td>\n",
       "      <td>0</td>\n",
       "    </tr>\n",
       "    <tr>\n",
       "      <th>1300039</th>\n",
       "      <td>fecc8eaec7766f371cf0</td>\n",
       "      <td>What is the best testosterone supplement for a...</td>\n",
       "      <td>0</td>\n",
       "    </tr>\n",
       "    <tr>\n",
       "      <th>1301999</th>\n",
       "      <td>ff30a6292135516fe688</td>\n",
       "      <td>A socially anxious daughter of a well-known go...</td>\n",
       "      <td>0</td>\n",
       "    </tr>\n",
       "  </tbody>\n",
       "</table>\n",
       "<p>854 rows × 3 columns</p>\n",
       "</div>"
      ],
      "text/plain": [
       "                          qid  \\\n",
       "1816     005a568d1ca345707448   \n",
       "2390     0077f50514fdb490710e   \n",
       "5852     0121d0988c60db7c3691   \n",
       "9014     01c29ff9fa85107895b1   \n",
       "11138    023096ea20d4b15fb370   \n",
       "...                       ...   \n",
       "1293633  fd8a27d299c222292a5a   \n",
       "1296396  fe153cb745740832ecf4   \n",
       "1297387  fe468486dae82bb19341   \n",
       "1300039  fecc8eaec7766f371cf0   \n",
       "1301999  ff30a6292135516fe688   \n",
       "\n",
       "                                             question_text  target  \n",
       "1816     How is YouTuber Debasree Banerjee getting away...       0  \n",
       "2390     How can I stop feeling so insecure about my re...       0  \n",
       "5852         How do I get more pageviews on my blog? Help!       0  \n",
       "9014     Will I fail 5th grade? I got only Fs and there...       0  \n",
       "11138    What stylictic device and where is it used her...       0  \n",
       "...                                                    ...     ...  \n",
       "1293633  I'm new to Quora, so my question is general in...       0  \n",
       "1296396  How can we bring a family member or friends ba...       0  \n",
       "1297387  How can I travel to imphal, Manipur by train? ...       0  \n",
       "1300039  What is the best testosterone supplement for a...       0  \n",
       "1301999  A socially anxious daughter of a well-known go...       0  \n",
       "\n",
       "[854 rows x 3 columns]"
      ]
     },
     "execution_count": 16,
     "metadata": {},
     "output_type": "execute_result"
    }
   ],
   "source": [
    "df[df[\"question_text\"].str.lower().str.endswith(\"!\", na = False)]"
   ]
  },
  {
   "cell_type": "markdown",
   "metadata": {},
   "source": [
    "# Часть 1. Tf-Idf"
   ]
  },
  {
   "cell_type": "markdown",
   "metadata": {},
   "source": [
    "В этой части необходимо пройти классический путь решения задачи методом \"мешок слов\". Ваша задача:\n",
    "1. Нормализовать данные (если нужно)\n",
    "2. Выбрать вариант токенизации (начните с from nltk import word_tokenize и подумайте, достаточно ли его). Либо с помощью https://spacy.io/api/tokenizer/, если кажется, что нужно что-то большее.\n",
    "3. Определитесь со списком стоп-слов.\n",
    "4. Постройте конвейер (Pipeline), включающий в себя превращение текстов в векторы и непосредственно моделирование с помощью линейной модели.\n",
    "5. Объясните предсказания вашей модели при помощи eli5.\n",
    "5. Попробуйте подобрать лучшие параметры при помощи GridSearchCV или RandomizedSearchCV. Второй вариант НАМНОГО лучше, как вы уже успели убедиться в прошлом. Кроме того, тут вам нужно будет подбирать как параметры самой модели, так и параметры векторизатора (min_df и т.д.).\n",
    "6. Попробуйте как можно сильнее сжать пространство признаков путем фильтрации редких слов, при этом старайтесь не потерять в качестве.\n",
    "\n",
    "Ниже по пунктам подробнее. Не надо волноваться, если сразу что-то будет не получаться. Все ваши вопросы (в том числе и по kaggle) я ожидаю в канале в slack или в личке. "
   ]
  },
  {
   "cell_type": "code",
   "execution_count": 7,
   "metadata": {},
   "outputs": [
    {
     "name": "stderr",
     "output_type": "stream",
     "text": [
      "[nltk_data] Downloading package punkt to\n",
      "[nltk_data]     C:\\Users\\Asus\\AppData\\Roaming\\nltk_data...\n",
      "[nltk_data]   Package punkt is already up-to-date!\n",
      "[nltk_data] Downloading package stopwords to\n",
      "[nltk_data]     C:\\Users\\Asus\\AppData\\Roaming\\nltk_data...\n",
      "[nltk_data]   Package stopwords is already up-to-date!\n",
      "[nltk_data] Downloading package wordnet to\n",
      "[nltk_data]     C:\\Users\\Asus\\AppData\\Roaming\\nltk_data...\n",
      "[nltk_data]   Package wordnet is already up-to-date!\n"
     ]
    },
    {
     "data": {
      "text/plain": [
       "True"
      ]
     },
     "execution_count": 7,
     "metadata": {},
     "output_type": "execute_result"
    }
   ],
   "source": [
    "#загрузка дополнительных данных для nltk\n",
    "import nltk\n",
    "nltk.download('punkt')\n",
    "nltk.download('stopwords')\n",
    "nltk.download('wordnet')"
   ]
  },
  {
   "cell_type": "markdown",
   "metadata": {},
   "source": [
    "# Задание 1.1 Нормализация и токенизация"
   ]
  },
  {
   "cell_type": "markdown",
   "metadata": {},
   "source": [
    "Стоит быть честным и сказать, что тексты вопросов написаны очень хорошо, без шума, разделены в основном пробелами. Поэтому эта часть тривиальна. Поэтому, просто пощупайте и сравните 2 токенизатора."
   ]
  },
  {
   "cell_type": "code",
   "execution_count": 8,
   "metadata": {},
   "outputs": [],
   "source": [
    "from nltk.tokenize import word_tokenize"
   ]
  },
  {
   "cell_type": "code",
   "execution_count": 9,
   "metadata": {},
   "outputs": [],
   "source": [
    "from sklearn.feature_extraction.text import TfidfVectorizer\n",
    "vect = TfidfVectorizer()\n",
    "sklearn_tokenizer = vect.build_tokenizer()"
   ]
  },
  {
   "cell_type": "code",
   "execution_count": 20,
   "metadata": {},
   "outputs": [
    {
     "name": "stdout",
     "output_type": "stream",
     "text": [
      "['Has', 'the', 'United', 'States', 'become', 'the', 'largest', 'dictatorship', 'in', 'the', 'world', '?']\n",
      "['Which', 'babies', 'are', 'more', 'sweeter', 'to', 'their', 'parents', '?', 'Dark', 'skin', 'babies', 'or', 'light', 'skin', 'babies', '?']\n",
      "['If', 'blacks', 'support', 'school', 'choice', 'and', 'mandatory', 'sentencing', 'for', 'criminals', 'why', 'do', \"n't\", 'they', 'vote', 'Republican', '?']\n",
      "['I', 'am', 'gay', 'boy', 'and', 'I', 'love', 'my', 'cousin', '(', 'boy', ')', '.', 'He', 'is', 'sexy', ',', 'but', 'I', 'dont', 'know', 'what', 'to', 'do', '.', 'He', 'is', 'hot', ',', 'and', 'I', 'want', 'to', 'see', 'his', 'di', '*', '*', '.', 'What', 'should', 'I', 'do', '?']\n",
      "['Which', 'races', 'have', 'the', 'smallest', 'penis', '?']\n",
      "['Why', 'do', 'females', 'find', 'penises', 'ugly', '?']\n",
      "['How', 'do', 'I', 'marry', 'an', 'American', 'woman', 'for', 'a', 'Green', 'Card', '?', 'How', 'much', 'do', 'they', 'charge', '?']\n",
      "['Why', 'do', 'Europeans', 'say', 'they', \"'re\", 'the', 'superior', 'race', ',', 'when', 'in', 'fact', 'it', 'took', 'them', 'over', '2,000', 'years', 'until', 'mid', '19th', 'century', 'to', 'surpass', 'China', \"'s\", 'largest', 'economy', '?']\n",
      "['Did', 'Julius', 'Caesar', 'bring', 'a', 'tyrannosaurus', 'rex', 'on', 'his', 'campaigns', 'to', 'frighten', 'the', 'Celts', 'into', 'submission', '?']\n",
      "['In', 'what', 'manner', 'has', 'Republican', 'backing', 'of', \"'states\", 'rights', \"'\", 'been', 'hypocritical', 'and', 'what', 'ways', 'have', 'they', 'actually', 'restricted', 'the', 'ability', 'of', 'states', 'to', 'make', 'their', 'own', 'laws', '?']\n"
     ]
    }
   ],
   "source": [
    "print('\\n'.join([str(word_tokenize(text)) for text in text_question[:10]]))"
   ]
  },
  {
   "cell_type": "code",
   "execution_count": 21,
   "metadata": {},
   "outputs": [
    {
     "name": "stdout",
     "output_type": "stream",
     "text": [
      "['Has', 'the', 'United', 'States', 'become', 'the', 'largest', 'dictatorship', 'in', 'the', 'world']\n",
      "['Which', 'babies', 'are', 'more', 'sweeter', 'to', 'their', 'parents', 'Dark', 'skin', 'babies', 'or', 'light', 'skin', 'babies']\n",
      "['If', 'blacks', 'support', 'school', 'choice', 'and', 'mandatory', 'sentencing', 'for', 'criminals', 'why', 'don', 'they', 'vote', 'Republican']\n",
      "['am', 'gay', 'boy', 'and', 'love', 'my', 'cousin', 'boy', 'He', 'is', 'sexy', 'but', 'dont', 'know', 'what', 'to', 'do', 'He', 'is', 'hot', 'and', 'want', 'to', 'see', 'his', 'di', 'What', 'should', 'do']\n",
      "['Which', 'races', 'have', 'the', 'smallest', 'penis']\n",
      "['Why', 'do', 'females', 'find', 'penises', 'ugly']\n",
      "['How', 'do', 'marry', 'an', 'American', 'woman', 'for', 'Green', 'Card', 'How', 'much', 'do', 'they', 'charge']\n",
      "['Why', 'do', 'Europeans', 'say', 'they', 're', 'the', 'superior', 'race', 'when', 'in', 'fact', 'it', 'took', 'them', 'over', '000', 'years', 'until', 'mid', '19th', 'century', 'to', 'surpass', 'China', 'largest', 'economy']\n",
      "['Did', 'Julius', 'Caesar', 'bring', 'tyrannosaurus', 'rex', 'on', 'his', 'campaigns', 'to', 'frighten', 'the', 'Celts', 'into', 'submission']\n",
      "['In', 'what', 'manner', 'has', 'Republican', 'backing', 'of', 'states', 'rights', 'been', 'hypocritical', 'and', 'what', 'ways', 'have', 'they', 'actually', 'restricted', 'the', 'ability', 'of', 'states', 'to', 'make', 'their', 'own', 'laws']\n"
     ]
    }
   ],
   "source": [
    "print('\\n'.join([str(sklearn_tokenizer(text)) for text in text_question[:10]]))"
   ]
  },
  {
   "cell_type": "markdown",
   "metadata": {
    "id": "OoUtWCvjJF6v"
   },
   "source": [
    "Как можно заметить, что nltk-токенизатор оставляет знаки препинания в предложениях, что в некоторых задачах весьма полезно, если нужно знать оттенок фразы"
   ]
  },
  {
   "cell_type": "markdown",
   "metadata": {},
   "source": [
    "# Часть 1.2 Стоп-слова"
   ]
  },
  {
   "cell_type": "markdown",
   "metadata": {},
   "source": [
    "ВНИМАНИЕ! ВНИМАТЕЛЬНО ЧИТАЙТЕ, ЧТО НУЖНО СДЕЛАТЬ В РАМКАХ ЗАДАНИЯ.\n",
    "\n",
    "Токенизация должна быть согласована со стоп-словами. Т.е. токенизатор должен воспринимать стоп-слова как токены, а не как несколько токенов (не разбивать на несколько и не фильтровать). В этом задании вам нужно посмотреть на стоп-слова из nltk и проверить, являются ли два токенизатора выше согласованными со списком английских стоп-слов из nltk. Для этого попробуйте токенизировать по очереди все стоп-слова двумя текенизаторами и сделайте соответствующие выводы."
   ]
  },
  {
   "cell_type": "markdown",
   "metadata": {},
   "source": [
    "Стоп-слова – это слова, которые выкидываются из текста до/после обработки текста. Когда мы применяем машинное обучение к текстам, такие слова могут добавить много шума, поэтому необходимо избавляться от нерелевантных слов.\n",
    "\n",
    "Стоп-слова это обычно понимают артикли, междометия, союзы и т.д., которые не несут смысловой нагрузки. При этом надо понимать, что не существует универсального списка стоп-слов, все зависит от конкретного случая.\n",
    "\n",
    "В NLTK есть предустановленный список стоп-слов. Перед первым использованием нам понадобится его скачать: nltk.download(“stopwords”). После скачивания можно импортировать пакет stopwords и посмотреть на сами слова\n",
    "\n",
    "Мы конвертировали список во множество. Множество это абстрактный тип данных, который может хранить уникальные значения, в неопределенном порядке. Поиск по множеству гораздо быстрее поиска по списку. Для небольшого количества слов это не имеет значения, но если речь про большое количество слов, то строго рекомендуется использовать множества."
   ]
  },
  {
   "cell_type": "code",
   "execution_count": 10,
   "metadata": {},
   "outputs": [],
   "source": [
    "from nltk.corpus import stopwords"
   ]
  },
  {
   "cell_type": "code",
   "execution_count": 37,
   "metadata": {},
   "outputs": [
    {
     "name": "stdout",
     "output_type": "stream",
     "text": [
      "['i', 'me', 'my', 'myself', 'we', 'our', 'ours', 'ourselves', 'you', \"you're\", \"you've\", \"you'll\", \"you'd\", 'your', 'yours', 'yourself', 'yourselves', 'he', 'him', 'his', 'himself', 'she', \"she's\", 'her', 'hers', 'herself', 'it', \"it's\", 'its', 'itself', 'they', 'them', 'their', 'theirs', 'themselves', 'what', 'which', 'who', 'whom', 'this', 'that', \"that'll\", 'these', 'those', 'am', 'is', 'are', 'was', 'were', 'be', 'been', 'being', 'have', 'has', 'had', 'having', 'do', 'does', 'did', 'doing', 'a', 'an', 'the', 'and', 'but', 'if', 'or', 'because', 'as', 'until', 'while', 'of', 'at', 'by', 'for', 'with', 'about', 'against', 'between', 'into', 'through', 'during', 'before', 'after', 'above', 'below', 'to', 'from', 'up', 'down', 'in', 'out', 'on', 'off', 'over', 'under', 'again', 'further', 'then', 'once', 'here', 'there', 'when', 'where', 'why', 'how', 'all', 'any', 'both', 'each', 'few', 'more', 'most', 'other', 'some', 'such', 'no', 'nor', 'not', 'only', 'own', 'same', 'so', 'than', 'too', 'very', 's', 't', 'can', 'will', 'just', 'don', \"don't\", 'should', \"should've\", 'now', 'd', 'll', 'm', 'o', 're', 've', 'y', 'ain', 'aren', \"aren't\", 'couldn', \"couldn't\", 'didn', \"didn't\", 'doesn', \"doesn't\", 'hadn', \"hadn't\", 'hasn', \"hasn't\", 'haven', \"haven't\", 'isn', \"isn't\", 'ma', 'mightn', \"mightn't\", 'mustn', \"mustn't\", 'needn', \"needn't\", 'shan', \"shan't\", 'shouldn', \"shouldn't\", 'wasn', \"wasn't\", 'weren', \"weren't\", 'won', \"won't\", 'wouldn', \"wouldn't\"]\n"
     ]
    }
   ],
   "source": [
    "print(stopwords.words('english'))"
   ]
  },
  {
   "cell_type": "code",
   "execution_count": 38,
   "metadata": {
    "colab": {
     "base_uri": "https://localhost:8080/"
    },
    "executionInfo": {
     "elapsed": 555,
     "status": "ok",
     "timestamp": 1622135030091,
     "user": {
      "displayName": "Тимур Каханович",
      "photoUrl": "",
      "userId": "01126912824027436107"
     },
     "user_tz": -180
    },
    "id": "cVWO0N4tcHjm",
    "outputId": "2f52984b-6e10-480c-f624-bf4c399434be"
   },
   "outputs": [
    {
     "data": {
      "text/plain": [
       "[(['i'], 'i'),\n",
       " (['me'], 'me'),\n",
       " (['my'], 'my'),\n",
       " (['myself'], 'myself'),\n",
       " (['we'], 'we'),\n",
       " (['our'], 'our'),\n",
       " (['ours'], 'ours'),\n",
       " (['ourselves'], 'ourselves'),\n",
       " (['you'], 'you'),\n",
       " (['you', \"'re\"], \"you're\"),\n",
       " (['you', \"'ve\"], \"you've\"),\n",
       " (['you', \"'ll\"], \"you'll\"),\n",
       " (['you', \"'d\"], \"you'd\"),\n",
       " (['your'], 'your'),\n",
       " (['yours'], 'yours'),\n",
       " (['yourself'], 'yourself'),\n",
       " (['yourselves'], 'yourselves'),\n",
       " (['he'], 'he'),\n",
       " (['him'], 'him'),\n",
       " (['his'], 'his'),\n",
       " (['himself'], 'himself'),\n",
       " (['she'], 'she'),\n",
       " (['she', \"'s\"], \"she's\"),\n",
       " (['her'], 'her'),\n",
       " (['hers'], 'hers'),\n",
       " (['herself'], 'herself'),\n",
       " (['it'], 'it'),\n",
       " (['it', \"'s\"], \"it's\"),\n",
       " (['its'], 'its'),\n",
       " (['itself'], 'itself'),\n",
       " (['they'], 'they'),\n",
       " (['them'], 'them'),\n",
       " (['their'], 'their'),\n",
       " (['theirs'], 'theirs'),\n",
       " (['themselves'], 'themselves'),\n",
       " (['what'], 'what'),\n",
       " (['which'], 'which'),\n",
       " (['who'], 'who'),\n",
       " (['whom'], 'whom'),\n",
       " (['this'], 'this'),\n",
       " (['that'], 'that'),\n",
       " (['that', \"'ll\"], \"that'll\"),\n",
       " (['these'], 'these'),\n",
       " (['those'], 'those'),\n",
       " (['am'], 'am'),\n",
       " (['is'], 'is'),\n",
       " (['are'], 'are'),\n",
       " (['was'], 'was'),\n",
       " (['were'], 'were'),\n",
       " (['be'], 'be'),\n",
       " (['been'], 'been'),\n",
       " (['being'], 'being'),\n",
       " (['have'], 'have'),\n",
       " (['has'], 'has'),\n",
       " (['had'], 'had'),\n",
       " (['having'], 'having'),\n",
       " (['do'], 'do'),\n",
       " (['does'], 'does'),\n",
       " (['did'], 'did'),\n",
       " (['doing'], 'doing'),\n",
       " (['a'], 'a'),\n",
       " (['an'], 'an'),\n",
       " (['the'], 'the'),\n",
       " (['and'], 'and'),\n",
       " (['but'], 'but'),\n",
       " (['if'], 'if'),\n",
       " (['or'], 'or'),\n",
       " (['because'], 'because'),\n",
       " (['as'], 'as'),\n",
       " (['until'], 'until'),\n",
       " (['while'], 'while'),\n",
       " (['of'], 'of'),\n",
       " (['at'], 'at'),\n",
       " (['by'], 'by'),\n",
       " (['for'], 'for'),\n",
       " (['with'], 'with'),\n",
       " (['about'], 'about'),\n",
       " (['against'], 'against'),\n",
       " (['between'], 'between'),\n",
       " (['into'], 'into'),\n",
       " (['through'], 'through'),\n",
       " (['during'], 'during'),\n",
       " (['before'], 'before'),\n",
       " (['after'], 'after'),\n",
       " (['above'], 'above'),\n",
       " (['below'], 'below'),\n",
       " (['to'], 'to'),\n",
       " (['from'], 'from'),\n",
       " (['up'], 'up'),\n",
       " (['down'], 'down'),\n",
       " (['in'], 'in'),\n",
       " (['out'], 'out'),\n",
       " (['on'], 'on'),\n",
       " (['off'], 'off'),\n",
       " (['over'], 'over'),\n",
       " (['under'], 'under'),\n",
       " (['again'], 'again'),\n",
       " (['further'], 'further'),\n",
       " (['then'], 'then'),\n",
       " (['once'], 'once'),\n",
       " (['here'], 'here'),\n",
       " (['there'], 'there'),\n",
       " (['when'], 'when'),\n",
       " (['where'], 'where'),\n",
       " (['why'], 'why'),\n",
       " (['how'], 'how'),\n",
       " (['all'], 'all'),\n",
       " (['any'], 'any'),\n",
       " (['both'], 'both'),\n",
       " (['each'], 'each'),\n",
       " (['few'], 'few'),\n",
       " (['more'], 'more'),\n",
       " (['most'], 'most'),\n",
       " (['other'], 'other'),\n",
       " (['some'], 'some'),\n",
       " (['such'], 'such'),\n",
       " (['no'], 'no'),\n",
       " (['nor'], 'nor'),\n",
       " (['not'], 'not'),\n",
       " (['only'], 'only'),\n",
       " (['own'], 'own'),\n",
       " (['same'], 'same'),\n",
       " (['so'], 'so'),\n",
       " (['than'], 'than'),\n",
       " (['too'], 'too'),\n",
       " (['very'], 'very'),\n",
       " (['s'], 's'),\n",
       " (['t'], 't'),\n",
       " (['can'], 'can'),\n",
       " (['will'], 'will'),\n",
       " (['just'], 'just'),\n",
       " (['don'], 'don'),\n",
       " (['do', \"n't\"], \"don't\"),\n",
       " (['should'], 'should'),\n",
       " (['should', \"'ve\"], \"should've\"),\n",
       " (['now'], 'now'),\n",
       " (['d'], 'd'),\n",
       " (['ll'], 'll'),\n",
       " (['m'], 'm'),\n",
       " (['o'], 'o'),\n",
       " (['re'], 're'),\n",
       " (['ve'], 've'),\n",
       " (['y'], 'y'),\n",
       " (['ain'], 'ain'),\n",
       " (['aren'], 'aren'),\n",
       " (['are', \"n't\"], \"aren't\"),\n",
       " (['couldn'], 'couldn'),\n",
       " (['could', \"n't\"], \"couldn't\"),\n",
       " (['didn'], 'didn'),\n",
       " (['did', \"n't\"], \"didn't\"),\n",
       " (['doesn'], 'doesn'),\n",
       " (['does', \"n't\"], \"doesn't\"),\n",
       " (['hadn'], 'hadn'),\n",
       " (['had', \"n't\"], \"hadn't\"),\n",
       " (['hasn'], 'hasn'),\n",
       " (['has', \"n't\"], \"hasn't\"),\n",
       " (['haven'], 'haven'),\n",
       " (['have', \"n't\"], \"haven't\"),\n",
       " (['isn'], 'isn'),\n",
       " (['is', \"n't\"], \"isn't\"),\n",
       " (['ma'], 'ma'),\n",
       " (['mightn'], 'mightn'),\n",
       " (['might', \"n't\"], \"mightn't\"),\n",
       " (['mustn'], 'mustn'),\n",
       " (['must', \"n't\"], \"mustn't\"),\n",
       " (['needn'], 'needn'),\n",
       " (['need', \"n't\"], \"needn't\"),\n",
       " (['shan'], 'shan'),\n",
       " (['sha', \"n't\"], \"shan't\"),\n",
       " (['shouldn'], 'shouldn'),\n",
       " (['should', \"n't\"], \"shouldn't\"),\n",
       " (['wasn'], 'wasn'),\n",
       " (['was', \"n't\"], \"wasn't\"),\n",
       " (['weren'], 'weren'),\n",
       " (['were', \"n't\"], \"weren't\"),\n",
       " (['won'], 'won'),\n",
       " (['wo', \"n't\"], \"won't\"),\n",
       " (['wouldn'], 'wouldn'),\n",
       " (['would', \"n't\"], \"wouldn't\")]"
      ]
     },
     "execution_count": 38,
     "metadata": {},
     "output_type": "execute_result"
    }
   ],
   "source": [
    "[(word_tokenize(text), text) for text in stopwords.words('english')]"
   ]
  },
  {
   "cell_type": "code",
   "execution_count": 39,
   "metadata": {
    "colab": {
     "base_uri": "https://localhost:8080/"
    },
    "executionInfo": {
     "elapsed": 5,
     "status": "ok",
     "timestamp": 1622135030091,
     "user": {
      "displayName": "Тимур Каханович",
      "photoUrl": "",
      "userId": "01126912824027436107"
     },
     "user_tz": -180
    },
    "id": "EtqasXTXeddM",
    "outputId": "608922c8-07d9-4461-e160-8dbe853ec051"
   },
   "outputs": [
    {
     "data": {
      "text/plain": [
       "[([], 'i'),\n",
       " (['me'], 'me'),\n",
       " (['my'], 'my'),\n",
       " (['myself'], 'myself'),\n",
       " (['we'], 'we'),\n",
       " (['our'], 'our'),\n",
       " (['ours'], 'ours'),\n",
       " (['ourselves'], 'ourselves'),\n",
       " (['you'], 'you'),\n",
       " (['you', 're'], \"you're\"),\n",
       " (['you', 've'], \"you've\"),\n",
       " (['you', 'll'], \"you'll\"),\n",
       " (['you'], \"you'd\"),\n",
       " (['your'], 'your'),\n",
       " (['yours'], 'yours'),\n",
       " (['yourself'], 'yourself'),\n",
       " (['yourselves'], 'yourselves'),\n",
       " (['he'], 'he'),\n",
       " (['him'], 'him'),\n",
       " (['his'], 'his'),\n",
       " (['himself'], 'himself'),\n",
       " (['she'], 'she'),\n",
       " (['she'], \"she's\"),\n",
       " (['her'], 'her'),\n",
       " (['hers'], 'hers'),\n",
       " (['herself'], 'herself'),\n",
       " (['it'], 'it'),\n",
       " (['it'], \"it's\"),\n",
       " (['its'], 'its'),\n",
       " (['itself'], 'itself'),\n",
       " (['they'], 'they'),\n",
       " (['them'], 'them'),\n",
       " (['their'], 'their'),\n",
       " (['theirs'], 'theirs'),\n",
       " (['themselves'], 'themselves'),\n",
       " (['what'], 'what'),\n",
       " (['which'], 'which'),\n",
       " (['who'], 'who'),\n",
       " (['whom'], 'whom'),\n",
       " (['this'], 'this'),\n",
       " (['that'], 'that'),\n",
       " (['that', 'll'], \"that'll\"),\n",
       " (['these'], 'these'),\n",
       " (['those'], 'those'),\n",
       " (['am'], 'am'),\n",
       " (['is'], 'is'),\n",
       " (['are'], 'are'),\n",
       " (['was'], 'was'),\n",
       " (['were'], 'were'),\n",
       " (['be'], 'be'),\n",
       " (['been'], 'been'),\n",
       " (['being'], 'being'),\n",
       " (['have'], 'have'),\n",
       " (['has'], 'has'),\n",
       " (['had'], 'had'),\n",
       " (['having'], 'having'),\n",
       " (['do'], 'do'),\n",
       " (['does'], 'does'),\n",
       " (['did'], 'did'),\n",
       " (['doing'], 'doing'),\n",
       " ([], 'a'),\n",
       " (['an'], 'an'),\n",
       " (['the'], 'the'),\n",
       " (['and'], 'and'),\n",
       " (['but'], 'but'),\n",
       " (['if'], 'if'),\n",
       " (['or'], 'or'),\n",
       " (['because'], 'because'),\n",
       " (['as'], 'as'),\n",
       " (['until'], 'until'),\n",
       " (['while'], 'while'),\n",
       " (['of'], 'of'),\n",
       " (['at'], 'at'),\n",
       " (['by'], 'by'),\n",
       " (['for'], 'for'),\n",
       " (['with'], 'with'),\n",
       " (['about'], 'about'),\n",
       " (['against'], 'against'),\n",
       " (['between'], 'between'),\n",
       " (['into'], 'into'),\n",
       " (['through'], 'through'),\n",
       " (['during'], 'during'),\n",
       " (['before'], 'before'),\n",
       " (['after'], 'after'),\n",
       " (['above'], 'above'),\n",
       " (['below'], 'below'),\n",
       " (['to'], 'to'),\n",
       " (['from'], 'from'),\n",
       " (['up'], 'up'),\n",
       " (['down'], 'down'),\n",
       " (['in'], 'in'),\n",
       " (['out'], 'out'),\n",
       " (['on'], 'on'),\n",
       " (['off'], 'off'),\n",
       " (['over'], 'over'),\n",
       " (['under'], 'under'),\n",
       " (['again'], 'again'),\n",
       " (['further'], 'further'),\n",
       " (['then'], 'then'),\n",
       " (['once'], 'once'),\n",
       " (['here'], 'here'),\n",
       " (['there'], 'there'),\n",
       " (['when'], 'when'),\n",
       " (['where'], 'where'),\n",
       " (['why'], 'why'),\n",
       " (['how'], 'how'),\n",
       " (['all'], 'all'),\n",
       " (['any'], 'any'),\n",
       " (['both'], 'both'),\n",
       " (['each'], 'each'),\n",
       " (['few'], 'few'),\n",
       " (['more'], 'more'),\n",
       " (['most'], 'most'),\n",
       " (['other'], 'other'),\n",
       " (['some'], 'some'),\n",
       " (['such'], 'such'),\n",
       " (['no'], 'no'),\n",
       " (['nor'], 'nor'),\n",
       " (['not'], 'not'),\n",
       " (['only'], 'only'),\n",
       " (['own'], 'own'),\n",
       " (['same'], 'same'),\n",
       " (['so'], 'so'),\n",
       " (['than'], 'than'),\n",
       " (['too'], 'too'),\n",
       " (['very'], 'very'),\n",
       " ([], 's'),\n",
       " ([], 't'),\n",
       " (['can'], 'can'),\n",
       " (['will'], 'will'),\n",
       " (['just'], 'just'),\n",
       " (['don'], 'don'),\n",
       " (['don'], \"don't\"),\n",
       " (['should'], 'should'),\n",
       " (['should', 've'], \"should've\"),\n",
       " (['now'], 'now'),\n",
       " ([], 'd'),\n",
       " (['ll'], 'll'),\n",
       " ([], 'm'),\n",
       " ([], 'o'),\n",
       " (['re'], 're'),\n",
       " (['ve'], 've'),\n",
       " ([], 'y'),\n",
       " (['ain'], 'ain'),\n",
       " (['aren'], 'aren'),\n",
       " (['aren'], \"aren't\"),\n",
       " (['couldn'], 'couldn'),\n",
       " (['couldn'], \"couldn't\"),\n",
       " (['didn'], 'didn'),\n",
       " (['didn'], \"didn't\"),\n",
       " (['doesn'], 'doesn'),\n",
       " (['doesn'], \"doesn't\"),\n",
       " (['hadn'], 'hadn'),\n",
       " (['hadn'], \"hadn't\"),\n",
       " (['hasn'], 'hasn'),\n",
       " (['hasn'], \"hasn't\"),\n",
       " (['haven'], 'haven'),\n",
       " (['haven'], \"haven't\"),\n",
       " (['isn'], 'isn'),\n",
       " (['isn'], \"isn't\"),\n",
       " (['ma'], 'ma'),\n",
       " (['mightn'], 'mightn'),\n",
       " (['mightn'], \"mightn't\"),\n",
       " (['mustn'], 'mustn'),\n",
       " (['mustn'], \"mustn't\"),\n",
       " (['needn'], 'needn'),\n",
       " (['needn'], \"needn't\"),\n",
       " (['shan'], 'shan'),\n",
       " (['shan'], \"shan't\"),\n",
       " (['shouldn'], 'shouldn'),\n",
       " (['shouldn'], \"shouldn't\"),\n",
       " (['wasn'], 'wasn'),\n",
       " (['wasn'], \"wasn't\"),\n",
       " (['weren'], 'weren'),\n",
       " (['weren'], \"weren't\"),\n",
       " (['won'], 'won'),\n",
       " (['won'], \"won't\"),\n",
       " (['wouldn'], 'wouldn'),\n",
       " (['wouldn'], \"wouldn't\")]"
      ]
     },
     "execution_count": 39,
     "metadata": {},
     "output_type": "execute_result"
    }
   ],
   "source": [
    "[(sklearn_tokenizer(text), text) for text in stopwords.words('english')]"
   ]
  },
  {
   "cell_type": "markdown",
   "metadata": {
    "id": "ej_y7BJ8EBgj"
   },
   "source": [
    "Как можно заметить, оба токенизатора воспринимают стоп-слова как несколько отдельных токенов. Это, вероятно, не такая большая проблема, так как множество стоп-слов содержит и их разбитие на токены, что позволит выбросить неважные токены из данных."
   ]
  },
  {
   "cell_type": "markdown",
   "metadata": {},
   "source": [
    "# Часть 1.3 Pipeline и процесс обучения"
   ]
  },
  {
   "cell_type": "markdown",
   "metadata": {},
   "source": [
    "Когда в процессе моделирования есть несколько шагов, их бывает удобно объединить в конвейер. В sklearn это реализовано в классе Pipeline. Ниже вам представлен пример его использования.\n",
    "Также в этой лабе мы будем пользоваться cross_val_predict, чтобы считать честные предсказанные вероятности. Для этого указан параметр method='predict_proba' в примере внизу. Как вы можете видеть, векторизатор и классификатор остались с параметрами по умолчанию. Ваша цель - **выбрать для них нормальные параметры и полностью разбираться в том, что они значат** на основе знаний, которые вы получили на всех прошлых занятиях. На практике у вас обязательно будут спрашивать про эти параметры, а также про то, как работает TfIdfVectorizer и SGDClassifier. Типичные вопросы, ответы на которые необходимо знать для хорошей оценки:\n",
    "1. Что такое стохастический градиентный спуск?\n",
    "2. Как обучается и делает предсказания логистическая регрессия?\n",
    "3. Что такое tf-idf и зачем это нужно?\n",
    "4. Что такое кросс-валидация? Как производится кросс-валидация классом StratifiedKFold?\n",
    "\n",
    "И, конечно же, многие другие вопросы. Аналогичные вопросы будут и к другим пунктам лабы.\n",
    "\n"
   ]
  },
  {
   "cell_type": "markdown",
   "metadata": {},
   "source": [
    "Поиск по сетке можно рассматривать как исчерпывающий поиск для выбора модели.\n",
    "В GridSearchCV, исходя из данных, создается сетка значений гиперпараметров и для каждой комбинации обучается модель и оценивается данные тестирования.\n",
    "В этом подходе проверяется каждая комбинация значений гиперпараметров, что может быть очень неэффективным.\n",
    "Например, поиск 20 различных значений параметров для каждого из 4 параметров потребует 160 000 попыток перекрестной проверки. \n",
    "Это соответствует 1 600 000 подгонок модели и 1 600 000 прогнозов, если используется 10-кратная перекрестная проверка. \n",
    "Это чрезвычайно затратно как по вычислительной мощности, так и по времени.\n",
    "Напротив, RandomizedSearchCV создает сетку значений гиперпараметров и выбирает случайные комбинации для обучения модели и оценки. \n",
    "Это позволяет нам явно контролировать количество попыток сочетания параметров. Количество итераций поиска устанавливается в зависимости от времени или ресурсов. \n",
    "Хотя возможно, что RandomizedSearchCV не найдет такого точного результата, как GridSearchCV, он, как ни странно, выбирает лучший результат чаще, чем нет, \n",
    "и занимает меньше времени, чем GridSearchCV. При тех же ресурсах рандомизированный поиск может даже превзойти поиск по сетке. "
   ]
  },
  {
   "cell_type": "markdown",
   "metadata": {},
   "source": [
    "1. Стохастический градиентный спуск − оптимизационный алгоритм, отличающийся от обычного градиентного спуска тем, что градиент оптимизируемой функции считается на каждом шаге не как сумма градиентов от каждого элемента выборки, а как градиент от одного, случайно выбранного элемента. То есть проблема градиентного спуска заключается в том, что чтобы определить новое приближение вектора весов необходимо вычислить градиент от каждого элемента выборки, что может сильно замедлять алгоритм. Идея ускорения алгоритма (стохастического градиентного спуска) заключается в использовании только одного элемента, либо некоторой подвыборки для подсчета нового приближения весов."
   ]
  },
  {
   "cell_type": "markdown",
   "metadata": {},
   "source": [
    "2. В отличие от обычной регрессии, в методе логистической регрессии не производится предсказание значения числовой переменной исходя из выборки исходных значений. Вместо этого, значением функции является вероятность того, что данное исходное значение принадлежит к определенному классу. То есть, результат логистической регрессии всегда находится в интервале [0, 1]. Основная идея логистической регрессии заключается в том, что пространство исходных значений может быть разделено линейной границей (т.е. прямой) на две соответствующих классам области. Итак, что же имеется ввиду под линейной границей? В случае двух измерений — это просто прямая линия без изгибов. В случае трех — плоскость, и так далее. Эта граница задается в зависимости от имеющихся исходных данных и обучающего алгоритма. Чтобы все работало, точки исходных данных должны разделяться линейной границей на две вышеупомянутых области. Если точки исходных данных удовлетворяют этому требованию, то их можно назвать линейно разделяемыми.\n",
    "Механизм обучения логистической регрессии старается максимизировать среднее значение image. А название этого метода — метод максимального правдоподобия. \n",
    "https://habr.com/ru/company/io/blog/265007/"
   ]
  },
  {
   "cell_type": "markdown",
   "metadata": {},
   "source": [
    "3. TF-IDF (term frequency-inverse document frequency) - частотность терминов-обратная частотность документов. Это простой и удобный способ оценить важность термина для какого-либо документа относительно всех остальных документов. Принцип такой — если слово встречается в каком-либо документе часто, при этом встречаясь редко во всех остальных документах — это слово имеет большую значимость для того самого документа.\n",
    "\n",
    "Метрика хороша тем, что\n",
    "    -- Слова, неважные для вообще всех документов, например, предлоги или междометия — получат очень низкий вес TF-IDF (потому что часто встречаются во всех-всех документах),         а важные — высокий;\n",
    "    -- Её просто считать;\n",
    "    -- Выявление важных слов и стоп-слов в документах;\n",
    "    -- Некоторые расширения этой формулы можно использовать для улучшения работы классификаторов тональности\n",
    "\n",
    "TF  — это частотность термина, которая измеряет, насколько часто термин встречается в документе. Логично предположить, что в длинных документах термин может встретиться в больших количествах, чем в коротких, поэтому абсолютные числа тут не подходят. Исходя из этого применяют относительные — делят количество раз, когда нужный термин встретился в тексте, на общее количество слов в тексте:\n",
    "TF термина Х = (Количество раз, когда термин Х встретился в тексте / количество всех слов в тексте)\n",
    "IDF — это обратная частотность документов. Она измеряет непосредственно важность термина. То есть, когда мы считали TF, все термины считаются как бы равными по важности друг другу. Но всем известно, что, например, предлоги встречаются очень часто, хотя практически не влияют на смысл текста. Тогда мы подсчитываем IDF. Он считается как логарифм от общего количества документов, делённого на количество документов, в которых встречается термин Х:\n",
    "IDF термина Х = логарифм(Общее количество документов / Количество документов, в которых встречается термин Х)\n",
    "\n",
    "Логарифм, можно выбирать любой, так как TF-IDF является относительной мерой, то есть веса терминов не выражаются в каких-то единицах, а существуют друг относительно друга. Обычно используют натуральный логарифм\n",
    "\n",
    "Если мы умножим TF на IDF, то получим TF-IDF:\n",
    "TF-IDF термина Х = (TF термина Х) * (IDF термина Х)\n",
    "\n",
    "В виде кода это будет выглядеть так:\n",
    "Мы обходим каждый текст в корпусе текстов, считаем для него TF всех слов, находящихся в нем. Затем для каждого слова считаем IDF и умножаем его на уже посчитанный TF. Полученный словарь (dictionary) мы добавляем в список, чтобы сохранить такой же порядок текстов, какой был на входе. И возвращаем этот список словарей с посчитанными TF-IDF для каждого термина."
   ]
  },
  {
   "cell_type": "markdown",
   "metadata": {},
   "source": [
    "4. Кросс-валидация (перекрестная проверка) — это статистический метод, используемый для оценки модели машинного обучения на независимых данных.\n",
    "Проверка обычно используется в машинном обучении для сравнения и выбора модели для данной проблемы прогнозного моделирования, потому что она проста для понимания, проста в реализации и приводит к оценке качесва, которые обычно имеют более низкую предвзятость, чем другие методы. Этот объект кросс-валидации является разновидностью KFold, который возвращает стратифицированные складки. Складки сделаны с сохранением процентного содержания образцов для каждого класса. То есть в StratifiedKFold каждый набор тестов не должен перекрываться, даже при перемешивании. С помощью StratifiedKFold и shuffle данные перетасовываются один раз в начале, а затем делятся на количество желаемых разбиений. Тестовые данные всегда являются одним из разбиений, данные поезда-это rest.\n",
    "\n"
   ]
  },
  {
   "cell_type": "markdown",
   "metadata": {},
   "source": [
    "4 группы прогнозов:\n",
    "Истинноположительные (ИП). Мошеннические операции, классифицированные, как мошеннические.\n",
    "Истинноотрицательные (ИО). Добросовестные операции, классифицированные, как добросовестные.\n",
    "Ложноположительные (ЛП). Добросовестные операции, классифицированные, как мошеннические.\n",
    "Ложноотрицательные (ЛО). Мошеннические операции, классифицированные, как добросовестные.\n",
    "\n",
    "Чувствительность (sensitivity), также известная, как полнота (recall), вычисляется по следующей формуле:\n",
    "Чувствительность = ИП / (ИП + ЛО)\n",
    "\n",
    "Специфичность (specificity) вычисляется по следующей формуле:\n",
    "Специфичность = ИО / (ИО + ЛП)\n",
    "\n",
    "Точность (precision) вычисляется по следующей формуле:\n",
    "Точность = ИП / (ИП + ЛП)\n",
    "\n",
    "F-мера (F1 score) представляет собой совместную оценку точности и полноты. Данная метрика вычисляется по следующей формуле:\n",
    "F-мера = 2 * Точность * Полнота / (Точность + Полнота)"
   ]
  },
  {
   "cell_type": "code",
   "execution_count": 11,
   "metadata": {
    "tags": []
   },
   "outputs": [],
   "source": [
    "from sklearn.pipeline import Pipeline\n",
    "from sklearn.linear_model import SGDClassifier\n",
    "from sklearn.metrics import make_scorer\n",
    "from sklearn.model_selection import cross_val_predict\n",
    "from sklearn.model_selection import StratifiedKFold\n",
    "from sklearn.model_selection import RandomizedSearchCV\n",
    "from sklearn.metrics import roc_auc_score, classification_report, f1_score"
   ]
  },
  {
   "cell_type": "code",
   "execution_count": 12,
   "metadata": {
    "id": "YN-ZQko9Cc--"
   },
   "outputs": [],
   "source": [
    "def my_f1_score(y_true, y_pred):\n",
    "    return np.max(np.array([f1_score(y_true, y_pred >= rapid) for rapid in np.arange(0.4, 0.7, 0.05)]))"
   ]
  },
  {
   "cell_type": "code",
   "execution_count": 13,
   "metadata": {
    "id": "RO8YzeLBGZuq"
   },
   "outputs": [],
   "source": [
    "f1_make_scorer = make_scorer(my_f1_score)"
   ]
  },
  {
   "cell_type": "code",
   "execution_count": 13,
   "metadata": {
    "id": "uHU01GrbCnvt"
   },
   "outputs": [],
   "source": [
    "param_grid = {\n",
    "    'clf__alpha': [1e-5, 1e-6, 1e-7],\n",
    "    'clf__l1_ratio': [0.1, 0.3, 0.5],\n",
    "    'clf__average': [50, 100, 1000]\n",
    "}"
   ]
  },
  {
   "cell_type": "code",
   "execution_count": 14,
   "metadata": {
    "id": "Msy_qfzP20Ob"
   },
   "outputs": [],
   "source": [
    "vect = TfidfVectorizer(stop_words='english')\n",
    "clf = SGDClassifier(loss='modified_huber', penalty='elasticnet', n_jobs=-1, random_state=42, class_weight='balanced')\n",
    "model = Pipeline([('vect', vect), ('clf', clf)])\n",
    "estimator = RandomizedSearchCV(model, param_grid, scoring=f1_make_scorer, n_jobs=-1, n_iter=20,\n",
    "                               cv=StratifiedKFold(5), random_state=42, verbose=1)"
   ]
  },
  {
   "cell_type": "code",
   "execution_count": 14,
   "metadata": {
    "colab": {
     "base_uri": "https://localhost:8080/"
    },
    "executionInfo": {
     "elapsed": 2236735,
     "status": "ok",
     "timestamp": 1622146066302,
     "user": {
      "displayName": "Тимур Каханович",
      "photoUrl": "",
      "userId": "01126912824027436107"
     },
     "user_tz": -180
    },
    "id": "hfSdOFeVSKyY",
    "outputId": "b1cffef8-f107-448d-aa24-f5988be86502"
   },
   "outputs": [
    {
     "name": "stdout",
     "output_type": "stream",
     "text": [
      "Fitting 5 folds for each of 20 candidates, totalling 100 fits\n"
     ]
    },
    {
     "data": {
      "text/plain": [
       "RandomizedSearchCV(cv=StratifiedKFold(n_splits=5, random_state=None, shuffle=False),\n",
       "                   estimator=Pipeline(steps=[('vect',\n",
       "                                              TfidfVectorizer(stop_words='english')),\n",
       "                                             ('clf',\n",
       "                                              SGDClassifier(class_weight='balanced',\n",
       "                                                            loss='modified_huber',\n",
       "                                                            n_jobs=-1,\n",
       "                                                            penalty='elasticnet',\n",
       "                                                            random_state=42))]),\n",
       "                   n_iter=20, n_jobs=-1,\n",
       "                   param_distributions={'clf__alpha': [1e-05, 1e-06, 1e-07],\n",
       "                                        'clf__average': [50, 100, 1000],\n",
       "                                        'clf__l1_ratio': [0.1, 0.3, 0.5]},\n",
       "                   random_state=42, scoring=make_scorer(my_f1_score),\n",
       "                   verbose=1)"
      ]
     },
     "execution_count": 14,
     "metadata": {},
     "output_type": "execute_result"
    }
   ],
   "source": [
    "estimator.fit(df['question_text'].values, df['target'].values)"
   ]
  },
  {
   "cell_type": "code",
   "execution_count": 16,
   "metadata": {
    "colab": {
     "base_uri": "https://localhost:8080/"
    },
    "executionInfo": {
     "elapsed": 237,
     "status": "ok",
     "timestamp": 1622146097803,
     "user": {
      "displayName": "Тимур Каханович",
      "photoUrl": "",
      "userId": "01126912824027436107"
     },
     "user_tz": -180
    },
    "id": "-rF26cCgcMF7",
    "outputId": "54e6e8d0-6d84-4132-de51-6034e60528e3"
   },
   "outputs": [
    {
     "data": {
      "text/plain": [
       "{'clf__l1_ratio': 0.1, 'clf__average': 1000, 'clf__alpha': 1e-06}"
      ]
     },
     "execution_count": 16,
     "metadata": {},
     "output_type": "execute_result"
    }
   ],
   "source": [
    "estimator.best_params_"
   ]
  },
  {
   "cell_type": "code",
   "execution_count": 17,
   "metadata": {
    "colab": {
     "base_uri": "https://localhost:8080/"
    },
    "executionInfo": {
     "elapsed": 220,
     "status": "ok",
     "timestamp": 1622146109226,
     "user": {
      "displayName": "Тимур Каханович",
      "photoUrl": "",
      "userId": "01126912824027436107"
     },
     "user_tz": -180
    },
    "id": "Cw1ImAA4cTdE",
    "outputId": "681ee2dc-c2eb-4d23-97bc-6af723450fc3"
   },
   "outputs": [
    {
     "data": {
      "text/plain": [
       "0.5522173943594892"
      ]
     },
     "execution_count": 17,
     "metadata": {},
     "output_type": "execute_result"
    }
   ],
   "source": [
    "estimator.best_score_"
   ]
  },
  {
   "cell_type": "markdown",
   "metadata": {},
   "source": [
    "Итог лучшего estimator:\n",
    "Fitting 5 folds for each of 20 candidates, totalling 100 fits \n",
    "\n",
    "RandomizedSearchCV(cv=StratifiedKFold(n_splits=5, random_state=None, shuffle=False),\n",
    "\n",
    "                   estimator=Pipeline(steps=[('vect',\n",
    "                                              TfidfVectorizer(stop_words='english')),\n",
    "                                             ('clf',\n",
    "                                              SGDClassifier(class_weight='balanced',\n",
    "                                                            loss='modified_huber',\n",
    "                                                            n_jobs=-1,\n",
    "                                                            penalty='elasticnet',\n",
    "                                                            random_state=42))]),\n",
    "                   n_iter=20, n_jobs=-1,\n",
    "                   param_distributions={'clf__alpha': [1e-05, 1e-06, 1e-07],\n",
    "                                        'clf__average': [50, 100, 1000],\n",
    "                                        'clf__l1_ratio': [0.1, 0.3, 0.5]},\n",
    "                   random_state=42, scoring=make_scorer(my_f1_score),\n",
    "                   verbose=1)\n",
    "\n",
    "estimator.best_params_:{'clf__l1_ratio': 0.1, 'clf__average': 1000, 'clf__alpha': 1e-06}\n",
    "estimator.best_score_: 0.5522173943594892"
   ]
  },
  {
   "cell_type": "code",
   "execution_count": 18,
   "metadata": {},
   "outputs": [],
   "source": [
    "estimatore = RandomizedSearchCV(model, param_grid, scoring=f1_make_scorer, n_iter=20,\n",
    "                               cv=StratifiedKFold(5), random_state=42)"
   ]
  },
  {
   "cell_type": "code",
   "execution_count": 19,
   "metadata": {},
   "outputs": [
    {
     "data": {
      "text/plain": [
       "RandomizedSearchCV(cv=StratifiedKFold(n_splits=5, random_state=None, shuffle=False),\n",
       "                   estimator=Pipeline(steps=[('vect',\n",
       "                                              TfidfVectorizer(stop_words='english')),\n",
       "                                             ('clf',\n",
       "                                              SGDClassifier(class_weight='balanced',\n",
       "                                                            loss='modified_huber',\n",
       "                                                            n_jobs=-1,\n",
       "                                                            penalty='elasticnet',\n",
       "                                                            random_state=42))]),\n",
       "                   n_iter=20,\n",
       "                   param_distributions={'clf__alpha': [1e-05, 1e-06, 1e-07],\n",
       "                                        'clf__average': [50, 100, 1000],\n",
       "                                        'clf__l1_ratio': [0.1, 0.3, 0.5]},\n",
       "                   random_state=42, scoring=make_scorer(my_f1_score))"
      ]
     },
     "execution_count": 19,
     "metadata": {},
     "output_type": "execute_result"
    }
   ],
   "source": [
    "estimatore.fit(df['question_text'].values, df['target'].values)"
   ]
  },
  {
   "cell_type": "code",
   "execution_count": 20,
   "metadata": {
    "colab": {
     "base_uri": "https://localhost:8080/"
    },
    "executionInfo": {
     "elapsed": 237,
     "status": "ok",
     "timestamp": 1622146097803,
     "user": {
      "displayName": "Тимур Каханович",
      "photoUrl": "",
      "userId": "01126912824027436107"
     },
     "user_tz": -180
    },
    "id": "-rF26cCgcMF7",
    "outputId": "54e6e8d0-6d84-4132-de51-6034e60528e3"
   },
   "outputs": [
    {
     "data": {
      "text/plain": [
       "{'clf__l1_ratio': 0.1, 'clf__average': 1000, 'clf__alpha': 1e-06}"
      ]
     },
     "execution_count": 20,
     "metadata": {},
     "output_type": "execute_result"
    }
   ],
   "source": [
    "estimatore.best_params_"
   ]
  },
  {
   "cell_type": "code",
   "execution_count": 21,
   "metadata": {
    "colab": {
     "base_uri": "https://localhost:8080/"
    },
    "executionInfo": {
     "elapsed": 220,
     "status": "ok",
     "timestamp": 1622146109226,
     "user": {
      "displayName": "Тимур Каханович",
      "photoUrl": "",
      "userId": "01126912824027436107"
     },
     "user_tz": -180
    },
    "id": "Cw1ImAA4cTdE",
    "outputId": "681ee2dc-c2eb-4d23-97bc-6af723450fc3"
   },
   "outputs": [
    {
     "data": {
      "text/plain": [
       "0.5522173943594892"
      ]
     },
     "execution_count": 21,
     "metadata": {},
     "output_type": "execute_result"
    }
   ],
   "source": [
    "estimatore.best_score_"
   ]
  },
  {
   "cell_type": "markdown",
   "metadata": {},
   "source": [
    "Итог лучшего estimatore:\n",
    "\n",
    "RandomizedSearchCV(cv=StratifiedKFold(n_splits=5, random_state=None, shuffle=False),\n",
    "\n",
    "                   estimator=Pipeline(steps=[('vect',\n",
    "                                              TfidfVectorizer(stop_words='english')),\n",
    "                                             ('clf',\n",
    "                                              SGDClassifier(class_weight='balanced',\n",
    "                                                            loss='modified_huber',\n",
    "                                                            n_jobs=-1,\n",
    "                                                            penalty='elasticnet',\n",
    "                                                            random_state=42))]),\n",
    "                   n_iter=20, n_jobs=-1,\n",
    "                   param_distributions={'clf__alpha': [1e-05, 1e-06, 1e-07],\n",
    "                                        'clf__average': [50, 100, 1000],\n",
    "                                        'clf__l1_ratio': [0.1, 0.3, 0.5]},\n",
    "                   random_state=42, scoring=make_scorer(my_f1_score),\n",
    "                   verbose=1)\n",
    "\n",
    "estimator.best_params_:{'clf__l1_ratio': 0.1, 'clf__average': 1000, 'clf__alpha': 1e-06}\n",
    "estimator.best_score_: 0.5522173943594892"
   ]
  },
  {
   "cell_type": "code",
   "execution_count": 14,
   "metadata": {
    "id": "b9xx1HSjPSpx"
   },
   "outputs": [],
   "source": [
    "def plot_f1(target, pred):\n",
    "    rapids = np.arange(0.1, 0.95, 0.05)\n",
    "    f1_res = np.array([f1_score(target, pred >= rapid) for rapid in rapids]) \n",
    "    best_rapid = rapids[np.argmax(f1_res)]\n",
    "    print(f'ROC-AUC score: {roc_auc_score(target, pred)}\\n',\n",
    "            f'Best rapids for f1-score: {best_rapid}\\n',\n",
    "            f'f1-score: {np.max(f1_res)}')\n",
    "    plt.figure(figsize=(18, 8))\n",
    "    plt.title('f1-score')\n",
    "    plt.xlabel('Rapids')\n",
    "    plt.ylabel('f1-score')\n",
    "    plt.plot(rapids, f1_res)\n",
    "    plt.show()\n",
    "    print(classification_report(target, pred >= best_rapid))"
   ]
  },
  {
   "cell_type": "code",
   "execution_count": 45,
   "metadata": {},
   "outputs": [
    {
     "name": "stdout",
     "output_type": "stream",
     "text": [
      "Wall time: 1min 50s\n"
     ]
    }
   ],
   "source": [
    "%%time\n",
    "pred1 = cross_val_predict(model, df.question_text.values, df.target.values,\n",
    "                          cv=StratifiedKFold(5), n_jobs=1,\n",
    "                          method='predict_proba')[:, 1]"
   ]
  },
  {
   "cell_type": "code",
   "execution_count": 46,
   "metadata": {
    "colab": {
     "base_uri": "https://localhost:8080/",
     "height": 748
    },
    "executionInfo": {
     "elapsed": 8493,
     "status": "ok",
     "timestamp": 1622371714290,
     "user": {
      "displayName": "Тимур Каханович",
      "photoUrl": "",
      "userId": "01126912824027436107"
     },
     "user_tz": -180
    },
    "id": "8nLAHSnZQFNM",
    "outputId": "c84e0764-9cf5-4a5e-aa03-9f8352ab8311"
   },
   "outputs": [
    {
     "name": "stdout",
     "output_type": "stream",
     "text": [
      "ROC-AUC score: 0.9394794970060409\n",
      " Best rapids for f1-score: 0.7000000000000002\n",
      " f1-score: 0.5587658503481332\n"
     ]
    },
    {
     "data": {
      "image/png": "[encoded data removed]",
      "text/plain": [
       "<Figure size 1296x576 with 1 Axes>"
      ]
     },
     "metadata": {
      "needs_background": "light"
     },
     "output_type": "display_data"
    },
    {
     "name": "stdout",
     "output_type": "stream",
     "text": [
      "              precision    recall  f1-score   support\n",
      "\n",
      "           0       0.98      0.96      0.97   1225312\n",
      "           1       0.49      0.65      0.56     80810\n",
      "\n",
      "    accuracy                           0.94   1306122\n",
      "   macro avg       0.73      0.80      0.76   1306122\n",
      "weighted avg       0.95      0.94      0.94   1306122\n",
      "\n"
     ]
    }
   ],
   "source": [
    "plot_f1(df['target'].values, pred1)"
   ]
  },
  {
   "cell_type": "code",
   "execution_count": 83,
   "metadata": {
    "id": "ZxPwq9iRceK7"
   },
   "outputs": [],
   "source": [
    "clf = SGDClassifier(loss='modified_huber', penalty='elasticnet', alpha=1e-7, average=100, l1_ratio=0.1, n_jobs=-1, random_state=42, class_weight='balanced')\n",
    "model = Pipeline([('vect', vect), ('clf', clf)])"
   ]
  },
  {
   "cell_type": "code",
   "execution_count": 39,
   "metadata": {},
   "outputs": [
    {
     "name": "stdout",
     "output_type": "stream",
     "text": [
      "Wall time: 6min 36s\n"
     ]
    }
   ],
   "source": [
    "%%time\n",
    "pred2 = cross_val_predict(model, df.question_text.values, df.target.values,\n",
    "                          cv=StratifiedKFold(5), n_jobs=1,\n",
    "                          method='predict_proba')[:, 1]"
   ]
  },
  {
   "cell_type": "code",
   "execution_count": 43,
   "metadata": {
    "colab": {
     "base_uri": "https://localhost:8080/",
     "height": 748
    },
    "executionInfo": {
     "elapsed": 8493,
     "status": "ok",
     "timestamp": 1622371714290,
     "user": {
      "displayName": "Тимур Каханович",
      "photoUrl": "",
      "userId": "01126912824027436107"
     },
     "user_tz": -180
    },
    "id": "8nLAHSnZQFNM",
    "outputId": "c84e0764-9cf5-4a5e-aa03-9f8352ab8311"
   },
   "outputs": [
    {
     "name": "stdout",
     "output_type": "stream",
     "text": [
      "ROC-AUC score: 0.8807824083274994\n",
      " Best rapids for f1-score: 0.9000000000000002\n",
      " f1-score: 0.5592874356187686\n"
     ]
    },
    {
     "data": {
      "image/png": "[encoded data removed]",
      "text/plain": [
       "<Figure size 1296x576 with 1 Axes>"
      ]
     },
     "metadata": {
      "needs_background": "light"
     },
     "output_type": "display_data"
    },
    {
     "name": "stdout",
     "output_type": "stream",
     "text": [
      "              precision    recall  f1-score   support\n",
      "\n",
      "           0       0.98      0.94      0.96   1225312\n",
      "           1       0.45      0.73      0.56     80810\n",
      "\n",
      "    accuracy                           0.93   1306122\n",
      "   macro avg       0.72      0.84      0.76   1306122\n",
      "weighted avg       0.95      0.93      0.94   1306122\n",
      "\n"
     ]
    }
   ],
   "source": [
    "plot_f1(df['target'].values, pred2)"
   ]
  },
  {
   "cell_type": "markdown",
   "metadata": {},
   "source": [
    "# Часть 1.4 Объяснение предсказаний при помощи eli5"
   ]
  },
  {
   "cell_type": "markdown",
   "metadata": {},
   "source": [
    "Используйте функционал eli5, чтобы посмотреть, как работает ваша модель, сделайте выводы. Для этого прочтите соответствующий туториал на странице https://eli5.readthedocs.io/en/latest/tutorials/sklearn-text.html \n",
    "\n",
    "Тем, кто больше любит видосы, можно посмотреть выступление от одного из авторов библиотеки https://www.youtube.com/watch?v=9vYkwD0feb4\n",
    "\n",
    "Спрашивать буду обязательно, так что разобраться придется. Необходимо вспомнить, что означают веса линейных моделей и как с их помощью объяснять предсказания."
   ]
  },
  {
   "cell_type": "markdown",
   "metadata": {},
   "source": [
    "Eli5 предоставляет два способа понять модели машинного обучения:\n",
    "\n",
    "Это позволяет нам анализировать веса модели, чтобы понять общую производительность модели.\n",
    "Это позволяет нам анализировать прогнозы отдельных выборок, чтобы понять локальные характеристики модели. Это может помочь нам глубже понять, почему был сделан конкретный прогноз и какие параметры сыграли роль в этом прогнозе.\n",
    "Eli5 делит свой API на две части, где он может принимать модель в качестве входных данных и генерировать объект Explanation. Затем этот объект можно отформатировать по-разному с помощью различных методов форматирования для форматирования вывода различными способами, такими как HTML, изображение, текст, dict, dataframe и т.д.\n",
    "\n",
    "Eli5 также может обрабатывать модели sklearn, которые являются конвейером оценщиков, и может выполнять обратное кодирование, выполняемое для данных. Он даже может обрабатывать текст, чтобы показать нам, какая часть текста способствует прогнозированию конкретной метки и данных изображения, чтобы выделить, какая часть изображения использовалась для прогнозирования. Eli5 также обеспечивает реализацию LIME (локально подходящие простые, интерпретируемые независимые от модели объяснения) для довольно сложных оценщиков, и eli5 не имеет методов, которые могли бы объяснить такие модели. "
   ]
  },
  {
   "cell_type": "code",
   "execution_count": 15,
   "metadata": {
    "colab": {
     "base_uri": "https://localhost:8080/"
    },
    "executionInfo": {
     "elapsed": 3043,
     "status": "ok",
     "timestamp": 1622325937117,
     "user": {
      "displayName": "Тимур Каханович",
      "photoUrl": "",
      "userId": "01126912824027436107"
     },
     "user_tz": -180
    },
    "id": "KbA7PsYxkM72",
    "outputId": "2533b4bc-b1f4-42a8-b89f-b2435542e969"
   },
   "outputs": [],
   "source": [
    "import eli5.formatters.as_dataframe as eli_df\n",
    "import eli5"
   ]
  },
  {
   "cell_type": "code",
   "execution_count": 17,
   "metadata": {
    "colab": {
     "base_uri": "https://localhost:8080/"
    },
    "collapsed": true,
    "executionInfo": {
     "elapsed": 43637,
     "status": "ok",
     "timestamp": 1622146456240,
     "user": {
      "displayName": "Тимур Каханович",
      "photoUrl": "",
      "userId": "01126912824027436107"
     },
     "user_tz": -180
    },
    "id": "LelpCp_ikmUi",
    "jupyter": {
     "outputs_hidden": true
    },
    "outputId": "6bb53503-f749-4a58-e9a4-2dacaac9e142",
    "tags": []
   },
   "outputs": [
    {
     "ename": "ValueError",
     "evalue": "too many values to unpack (expected 2)",
     "output_type": "error",
     "traceback": [
      "\u001b[1;31m---------------------------------------------------------------------------\u001b[0m",
      "\u001b[1;31mValueError\u001b[0m                                Traceback (most recent call last)",
      "\u001b[1;32m<ipython-input-17-7ef14e6dc86e>\u001b[0m in \u001b[0;36m<module>\u001b[1;34m\u001b[0m\n\u001b[1;32m----> 1\u001b[1;33m \u001b[0mmodel\u001b[0m\u001b[1;33m.\u001b[0m\u001b[0mfit\u001b[0m\u001b[1;33m(\u001b[0m\u001b[0mdf\u001b[0m\u001b[1;33m[\u001b[0m\u001b[1;34m'question_text'\u001b[0m\u001b[1;33m]\u001b[0m\u001b[1;33m,\u001b[0m \u001b[0mdf\u001b[0m\u001b[1;33m[\u001b[0m\u001b[1;34m'target'\u001b[0m\u001b[1;33m]\u001b[0m\u001b[1;33m)\u001b[0m\u001b[1;33m\u001b[0m\u001b[1;33m\u001b[0m\u001b[0m\n\u001b[0m",
      "\u001b[1;32mD:\\Anaconda\\lib\\site-packages\\sentence_transformers\\SentenceTransformer.py\u001b[0m in \u001b[0;36mfit\u001b[1;34m(self, train_objectives, evaluator, epochs, steps_per_epoch, scheduler, warmup_steps, optimizer_class, optimizer_params, weight_decay, evaluation_steps, output_path, save_best_model, max_grad_norm, use_amp, callback, show_progress_bar, checkpoint_path, checkpoint_save_steps, checkpoint_save_total_limit)\u001b[0m\n\u001b[0;32m    608\u001b[0m         \u001b[1;31m#info_loss_functions = \"\\n\".join([\"- {} with {} training examples\".format(str(loss), len(dataloader)) for dataloader, loss in train_objectives])\u001b[0m\u001b[1;33m\u001b[0m\u001b[1;33m\u001b[0m\u001b[1;33m\u001b[0m\u001b[0m\n\u001b[0;32m    609\u001b[0m         \u001b[0minfo_loss_functions\u001b[0m \u001b[1;33m=\u001b[0m  \u001b[1;33m[\u001b[0m\u001b[1;33m]\u001b[0m\u001b[1;33m\u001b[0m\u001b[1;33m\u001b[0m\u001b[0m\n\u001b[1;32m--> 610\u001b[1;33m         \u001b[1;32mfor\u001b[0m \u001b[0mdataloader\u001b[0m\u001b[1;33m,\u001b[0m \u001b[0mloss\u001b[0m \u001b[1;32min\u001b[0m \u001b[0mtrain_objectives\u001b[0m\u001b[1;33m:\u001b[0m\u001b[1;33m\u001b[0m\u001b[1;33m\u001b[0m\u001b[0m\n\u001b[0m\u001b[0;32m    611\u001b[0m             \u001b[0minfo_loss_functions\u001b[0m\u001b[1;33m.\u001b[0m\u001b[0mextend\u001b[0m\u001b[1;33m(\u001b[0m\u001b[0mModelCardTemplate\u001b[0m\u001b[1;33m.\u001b[0m\u001b[0mget_train_objective_info\u001b[0m\u001b[1;33m(\u001b[0m\u001b[0mdataloader\u001b[0m\u001b[1;33m,\u001b[0m \u001b[0mloss\u001b[0m\u001b[1;33m)\u001b[0m\u001b[1;33m)\u001b[0m\u001b[1;33m\u001b[0m\u001b[1;33m\u001b[0m\u001b[0m\n\u001b[0;32m    612\u001b[0m         \u001b[0minfo_loss_functions\u001b[0m \u001b[1;33m=\u001b[0m \u001b[1;34m\"\\n\\n\"\u001b[0m\u001b[1;33m.\u001b[0m\u001b[0mjoin\u001b[0m\u001b[1;33m(\u001b[0m\u001b[1;33m[\u001b[0m\u001b[0mtext\u001b[0m \u001b[1;32mfor\u001b[0m \u001b[0mtext\u001b[0m \u001b[1;32min\u001b[0m \u001b[0minfo_loss_functions\u001b[0m\u001b[1;33m]\u001b[0m\u001b[1;33m)\u001b[0m\u001b[1;33m\u001b[0m\u001b[1;33m\u001b[0m\u001b[0m\n",
      "\u001b[1;31mValueError\u001b[0m: too many values to unpack (expected 2)"
     ]
    }
   ],
   "source": [
    "model.fit(df['question_text'], df['target'])"
   ]
  },
  {
   "cell_type": "code",
   "execution_count": 18,
   "metadata": {},
   "outputs": [],
   "source": [
    "vect_ex = TfidfVectorizer(stop_words='english')\n",
    "clf_ex = SGDClassifier(loss='modified_huber', penalty='elasticnet', n_jobs=-1, random_state=42, class_weight='balanced')\n",
    "model_ex = Pipeline([('vect', vect_ex), ('clf', clf_ex)])"
   ]
  },
  {
   "cell_type": "code",
   "execution_count": 80,
   "metadata": {
    "colab": {
     "base_uri": "https://localhost:8080/"
    },
    "executionInfo": {
     "elapsed": 43637,
     "status": "ok",
     "timestamp": 1622146456240,
     "user": {
      "displayName": "Тимур Каханович",
      "photoUrl": "",
      "userId": "01126912824027436107"
     },
     "user_tz": -180
    },
    "id": "LelpCp_ikmUi",
    "outputId": "6bb53503-f749-4a58-e9a4-2dacaac9e142"
   },
   "outputs": [
    {
     "data": {
      "text/plain": [
       "Pipeline(steps=[('vect', TfidfVectorizer(stop_words='english')),\n",
       "                ('clf',\n",
       "                 SGDClassifier(class_weight='balanced', loss='modified_huber',\n",
       "                               n_jobs=-1, penalty='elasticnet',\n",
       "                               random_state=42))])"
      ]
     },
     "execution_count": 80,
     "metadata": {},
     "output_type": "execute_result"
    }
   ],
   "source": [
    "model_ex.fit(df['question_text'], df['target'])"
   ]
  },
  {
   "cell_type": "code",
   "execution_count": 66,
   "metadata": {},
   "outputs": [
    {
     "data": {
      "text/html": [
       "\n",
       "    <style>\n",
       "    table.eli5-weights tr:hover {\n",
       "        filter: brightness(85%);\n",
       "    }\n",
       "</style>\n",
       "\n",
       "\n",
       "\n",
       "    \n",
       "\n",
       "    \n",
       "\n",
       "    \n",
       "\n",
       "    \n",
       "\n",
       "    \n",
       "\n",
       "    \n",
       "\n",
       "\n",
       "    \n",
       "\n",
       "    \n",
       "\n",
       "    \n",
       "\n",
       "    \n",
       "        \n",
       "\n",
       "    \n",
       "\n",
       "        \n",
       "            \n",
       "                \n",
       "                \n",
       "    \n",
       "        <p style=\"margin-bottom: 0.5em; margin-top: 0em\">\n",
       "            <b>\n",
       "    \n",
       "        y=1\n",
       "    \n",
       "</b>\n",
       "\n",
       "top features\n",
       "        </p>\n",
       "    \n",
       "    <table class=\"eli5-weights\"\n",
       "           style=\"border-collapse: collapse; border: none; margin-top: 0em; table-layout: auto; margin-bottom: 2em;\">\n",
       "        <thead>\n",
       "        <tr style=\"border: none;\">\n",
       "            \n",
       "                <th style=\"padding: 0 1em 0 0.5em; text-align: right; border: none;\" title=\"Feature weights. Note that weights do not account for feature value scales, so if feature values have different scales, features with highest weights might not be the most important.\">\n",
       "                    Weight<sup>?</sup>\n",
       "                </th>\n",
       "            \n",
       "            <th style=\"padding: 0 0.5em 0 0.5em; text-align: left; border: none;\">Feature</th>\n",
       "            \n",
       "        </tr>\n",
       "        </thead>\n",
       "        <tbody>\n",
       "        \n",
       "            <tr style=\"background-color: hsl(120, 100.00%, 80.00%); border: none;\">\n",
       "    <td style=\"padding: 0 1em 0 0.5em; text-align: right; border: none;\">\n",
       "        +27.737\n",
       "    </td>\n",
       "    <td style=\"padding: 0 0.5em 0 0.5em; text-align: left; border: none;\">\n",
       "        castrated\n",
       "    </td>\n",
       "    \n",
       "</tr>\n",
       "        \n",
       "            <tr style=\"background-color: hsl(120, 100.00%, 81.70%); border: none;\">\n",
       "    <td style=\"padding: 0 1em 0 0.5em; text-align: right; border: none;\">\n",
       "        +24.422\n",
       "    </td>\n",
       "    <td style=\"padding: 0 0.5em 0 0.5em; text-align: left; border: none;\">\n",
       "        castrate\n",
       "    </td>\n",
       "    \n",
       "</tr>\n",
       "        \n",
       "            <tr style=\"background-color: hsl(120, 100.00%, 81.84%); border: none;\">\n",
       "    <td style=\"padding: 0 1em 0 0.5em; text-align: right; border: none;\">\n",
       "        +24.157\n",
       "    </td>\n",
       "    <td style=\"padding: 0 0.5em 0 0.5em; text-align: left; border: none;\">\n",
       "        castration\n",
       "    </td>\n",
       "    \n",
       "</tr>\n",
       "        \n",
       "            <tr style=\"background-color: hsl(120, 100.00%, 83.29%); border: none;\">\n",
       "    <td style=\"padding: 0 1em 0 0.5em; text-align: right; border: none;\">\n",
       "        +21.456\n",
       "    </td>\n",
       "    <td style=\"padding: 0 0.5em 0 0.5em; text-align: left; border: none;\">\n",
       "        holoprosencephaly\n",
       "    </td>\n",
       "    \n",
       "</tr>\n",
       "        \n",
       "            <tr style=\"background-color: hsl(120, 100.00%, 83.72%); border: none;\">\n",
       "    <td style=\"padding: 0 1em 0 0.5em; text-align: right; border: none;\">\n",
       "        +20.672\n",
       "    </td>\n",
       "    <td style=\"padding: 0 0.5em 0 0.5em; text-align: left; border: none;\">\n",
       "        horlaxen\n",
       "    </td>\n",
       "    \n",
       "</tr>\n",
       "        \n",
       "            <tr style=\"background-color: hsl(120, 100.00%, 83.88%); border: none;\">\n",
       "    <td style=\"padding: 0 1em 0 0.5em; text-align: right; border: none;\">\n",
       "        +20.373\n",
       "    </td>\n",
       "    <td style=\"padding: 0 0.5em 0 0.5em; text-align: left; border: none;\">\n",
       "        futurewins\n",
       "    </td>\n",
       "    \n",
       "</tr>\n",
       "        \n",
       "            <tr style=\"background-color: hsl(120, 100.00%, 84.13%); border: none;\">\n",
       "    <td style=\"padding: 0 1em 0 0.5em; text-align: right; border: none;\">\n",
       "        +19.933\n",
       "    </td>\n",
       "    <td style=\"padding: 0 0.5em 0 0.5em; text-align: left; border: none;\">\n",
       "        castrating\n",
       "    </td>\n",
       "    \n",
       "</tr>\n",
       "        \n",
       "            <tr style=\"background-color: hsl(120, 100.00%, 84.45%); border: none;\">\n",
       "    <td style=\"padding: 0 1em 0 0.5em; text-align: right; border: none;\">\n",
       "        +19.369\n",
       "    </td>\n",
       "    <td style=\"padding: 0 0.5em 0 0.5em; text-align: left; border: none;\">\n",
       "        scumbags\n",
       "    </td>\n",
       "    \n",
       "</tr>\n",
       "        \n",
       "            <tr style=\"background-color: hsl(120, 100.00%, 84.64%); border: none;\">\n",
       "    <td style=\"padding: 0 1em 0 0.5em; text-align: right; border: none;\">\n",
       "        +19.023\n",
       "    </td>\n",
       "    <td style=\"padding: 0 0.5em 0 0.5em; text-align: left; border: none;\">\n",
       "        careongo\n",
       "    </td>\n",
       "    \n",
       "</tr>\n",
       "        \n",
       "            <tr style=\"background-color: hsl(120, 100.00%, 84.67%); border: none;\">\n",
       "    <td style=\"padding: 0 1em 0 0.5em; text-align: right; border: none;\">\n",
       "        +18.976\n",
       "    </td>\n",
       "    <td style=\"padding: 0 0.5em 0 0.5em; text-align: left; border: none;\">\n",
       "        drumpf\n",
       "    </td>\n",
       "    \n",
       "</tr>\n",
       "        \n",
       "            <tr style=\"background-color: hsl(120, 100.00%, 84.75%); border: none;\">\n",
       "    <td style=\"padding: 0 1em 0 0.5em; text-align: right; border: none;\">\n",
       "        +18.828\n",
       "    </td>\n",
       "    <td style=\"padding: 0 0.5em 0 0.5em; text-align: left; border: none;\">\n",
       "        lipwig\n",
       "    </td>\n",
       "    \n",
       "</tr>\n",
       "        \n",
       "            <tr style=\"background-color: hsl(120, 100.00%, 84.84%); border: none;\">\n",
       "    <td style=\"padding: 0 1em 0 0.5em; text-align: right; border: none;\">\n",
       "        +18.668\n",
       "    </td>\n",
       "    <td style=\"padding: 0 0.5em 0 0.5em; text-align: left; border: none;\">\n",
       "        fags\n",
       "    </td>\n",
       "    \n",
       "</tr>\n",
       "        \n",
       "            <tr style=\"background-color: hsl(120, 100.00%, 84.88%); border: none;\">\n",
       "    <td style=\"padding: 0 1em 0 0.5em; text-align: right; border: none;\">\n",
       "        +18.607\n",
       "    </td>\n",
       "    <td style=\"padding: 0 0.5em 0 0.5em; text-align: left; border: none;\">\n",
       "        randwa\n",
       "    </td>\n",
       "    \n",
       "</tr>\n",
       "        \n",
       "            <tr style=\"background-color: hsl(120, 100.00%, 84.89%); border: none;\">\n",
       "    <td style=\"padding: 0 1em 0 0.5em; text-align: right; border: none;\">\n",
       "        +18.575\n",
       "    </td>\n",
       "    <td style=\"padding: 0 0.5em 0 0.5em; text-align: left; border: none;\">\n",
       "        crackheads\n",
       "    </td>\n",
       "    \n",
       "</tr>\n",
       "        \n",
       "            <tr style=\"background-color: hsl(120, 100.00%, 84.97%); border: none;\">\n",
       "    <td style=\"padding: 0 1em 0 0.5em; text-align: right; border: none;\">\n",
       "        +18.436\n",
       "    </td>\n",
       "    <td style=\"padding: 0 0.5em 0 0.5em; text-align: left; border: none;\">\n",
       "        courtly\n",
       "    </td>\n",
       "    \n",
       "</tr>\n",
       "        \n",
       "            <tr style=\"background-color: hsl(120, 100.00%, 84.99%); border: none;\">\n",
       "    <td style=\"padding: 0 1em 0 0.5em; text-align: right; border: none;\">\n",
       "        +18.406\n",
       "    </td>\n",
       "    <td style=\"padding: 0 0.5em 0 0.5em; text-align: left; border: none;\">\n",
       "        cusion\n",
       "    </td>\n",
       "    \n",
       "</tr>\n",
       "        \n",
       "            <tr style=\"background-color: hsl(120, 100.00%, 84.99%); border: none;\">\n",
       "    <td style=\"padding: 0 1em 0 0.5em; text-align: right; border: none;\">\n",
       "        +18.399\n",
       "    </td>\n",
       "    <td style=\"padding: 0 0.5em 0 0.5em; text-align: left; border: none;\">\n",
       "        remini\n",
       "    </td>\n",
       "    \n",
       "</tr>\n",
       "        \n",
       "            <tr style=\"background-color: hsl(120, 100.00%, 85.08%); border: none;\">\n",
       "    <td style=\"padding: 0 1em 0 0.5em; text-align: right; border: none;\">\n",
       "        +18.245\n",
       "    </td>\n",
       "    <td style=\"padding: 0 0.5em 0 0.5em; text-align: left; border: none;\">\n",
       "        afircans\n",
       "    </td>\n",
       "    \n",
       "</tr>\n",
       "        \n",
       "            <tr style=\"background-color: hsl(120, 100.00%, 85.09%); border: none;\">\n",
       "    <td style=\"padding: 0 1em 0 0.5em; text-align: right; border: none;\">\n",
       "        +18.227\n",
       "    </td>\n",
       "    <td style=\"padding: 0 0.5em 0 0.5em; text-align: left; border: none;\">\n",
       "        mcmuffin\n",
       "    </td>\n",
       "    \n",
       "</tr>\n",
       "        \n",
       "            <tr style=\"background-color: hsl(120, 100.00%, 85.13%); border: none;\">\n",
       "    <td style=\"padding: 0 1em 0 0.5em; text-align: right; border: none;\">\n",
       "        +18.156\n",
       "    </td>\n",
       "    <td style=\"padding: 0 0.5em 0 0.5em; text-align: left; border: none;\">\n",
       "        babarians\n",
       "    </td>\n",
       "    \n",
       "</tr>\n",
       "        \n",
       "            <tr style=\"background-color: hsl(120, 100.00%, 85.17%); border: none;\">\n",
       "    <td style=\"padding: 0 1em 0 0.5em; text-align: right; border: none;\">\n",
       "        +18.089\n",
       "    </td>\n",
       "    <td style=\"padding: 0 0.5em 0 0.5em; text-align: left; border: none;\">\n",
       "        paraded\n",
       "    </td>\n",
       "    \n",
       "</tr>\n",
       "        \n",
       "            <tr style=\"background-color: hsl(120, 100.00%, 85.18%); border: none;\">\n",
       "    <td style=\"padding: 0 1em 0 0.5em; text-align: right; border: none;\">\n",
       "        +18.077\n",
       "    </td>\n",
       "    <td style=\"padding: 0 0.5em 0 0.5em; text-align: left; border: none;\">\n",
       "        flemmings\n",
       "    </td>\n",
       "    \n",
       "</tr>\n",
       "        \n",
       "            <tr style=\"background-color: hsl(120, 100.00%, 85.19%); border: none;\">\n",
       "    <td style=\"padding: 0 1em 0 0.5em; text-align: right; border: none;\">\n",
       "        +18.054\n",
       "    </td>\n",
       "    <td style=\"padding: 0 0.5em 0 0.5em; text-align: left; border: none;\">\n",
       "        auvela\n",
       "    </td>\n",
       "    \n",
       "</tr>\n",
       "        \n",
       "            <tr style=\"background-color: hsl(120, 100.00%, 85.20%); border: none;\">\n",
       "    <td style=\"padding: 0 1em 0 0.5em; text-align: right; border: none;\">\n",
       "        +18.032\n",
       "    </td>\n",
       "    <td style=\"padding: 0 0.5em 0 0.5em; text-align: left; border: none;\">\n",
       "        jewdar\n",
       "    </td>\n",
       "    \n",
       "</tr>\n",
       "        \n",
       "            <tr style=\"background-color: hsl(120, 100.00%, 85.31%); border: none;\">\n",
       "    <td style=\"padding: 0 1em 0 0.5em; text-align: right; border: none;\">\n",
       "        +17.855\n",
       "    </td>\n",
       "    <td style=\"padding: 0 0.5em 0 0.5em; text-align: left; border: none;\">\n",
       "        boooooooored\n",
       "    </td>\n",
       "    \n",
       "</tr>\n",
       "        \n",
       "            <tr style=\"background-color: hsl(120, 100.00%, 85.39%); border: none;\">\n",
       "    <td style=\"padding: 0 1em 0 0.5em; text-align: right; border: none;\">\n",
       "        +17.711\n",
       "    </td>\n",
       "    <td style=\"padding: 0 0.5em 0 0.5em; text-align: left; border: none;\">\n",
       "        idiots\n",
       "    </td>\n",
       "    \n",
       "</tr>\n",
       "        \n",
       "            <tr style=\"background-color: hsl(120, 100.00%, 85.43%); border: none;\">\n",
       "    <td style=\"padding: 0 1em 0 0.5em; text-align: right; border: none;\">\n",
       "        +17.644\n",
       "    </td>\n",
       "    <td style=\"padding: 0 0.5em 0 0.5em; text-align: left; border: none;\">\n",
       "        rejuvalex\n",
       "    </td>\n",
       "    \n",
       "</tr>\n",
       "        \n",
       "            <tr style=\"background-color: hsl(120, 100.00%, 85.43%); border: none;\">\n",
       "    <td style=\"padding: 0 1em 0 0.5em; text-align: right; border: none;\">\n",
       "        +17.641\n",
       "    </td>\n",
       "    <td style=\"padding: 0 0.5em 0 0.5em; text-align: left; border: none;\">\n",
       "        hypercet\n",
       "    </td>\n",
       "    \n",
       "</tr>\n",
       "        \n",
       "            <tr style=\"background-color: hsl(120, 100.00%, 85.48%); border: none;\">\n",
       "    <td style=\"padding: 0 1em 0 0.5em; text-align: right; border: none;\">\n",
       "        +17.560\n",
       "    </td>\n",
       "    <td style=\"padding: 0 0.5em 0 0.5em; text-align: left; border: none;\">\n",
       "        kashmi\n",
       "    </td>\n",
       "    \n",
       "</tr>\n",
       "        \n",
       "            <tr style=\"background-color: hsl(120, 100.00%, 85.49%); border: none;\">\n",
       "    <td style=\"padding: 0 1em 0 0.5em; text-align: right; border: none;\">\n",
       "        +17.541\n",
       "    </td>\n",
       "    <td style=\"padding: 0 0.5em 0 0.5em; text-align: left; border: none;\">\n",
       "        bioenergetic\n",
       "    </td>\n",
       "    \n",
       "</tr>\n",
       "        \n",
       "        \n",
       "            <tr style=\"background-color: hsl(120, 100.00%, 85.49%); border: none;\">\n",
       "                <td colspan=\"2\" style=\"padding: 0 0.5em 0 0.5em; text-align: center; border: none; white-space: nowrap;\">\n",
       "                    <i>&hellip; 68812 more positive &hellip;</i>\n",
       "                </td>\n",
       "            </tr>\n",
       "        \n",
       "\n",
       "        \n",
       "            <tr style=\"background-color: hsl(0, 100.00%, 80.00%); border: none;\">\n",
       "                <td colspan=\"2\" style=\"padding: 0 0.5em 0 0.5em; text-align: center; border: none; white-space: nowrap;\">\n",
       "                    <i>&hellip; 48080 more negative &hellip;</i>\n",
       "                </td>\n",
       "            </tr>\n",
       "        \n",
       "        \n",
       "\n",
       "        </tbody>\n",
       "    </table>\n",
       "\n",
       "            \n",
       "        \n",
       "\n",
       "        \n",
       "\n",
       "\n",
       "\n",
       "    \n",
       "\n",
       "    \n",
       "\n",
       "    \n",
       "\n",
       "    \n",
       "\n",
       "\n",
       "    \n",
       "\n",
       "    \n",
       "\n",
       "    \n",
       "\n",
       "    \n",
       "\n",
       "    \n",
       "\n",
       "    \n",
       "\n",
       "\n",
       "    \n",
       "\n",
       "    \n",
       "\n",
       "    \n",
       "\n",
       "    \n",
       "\n",
       "    \n",
       "\n",
       "    \n",
       "\n",
       "\n",
       "\n"
      ],
      "text/plain": [
       "<IPython.core.display.HTML object>"
      ]
     },
     "execution_count": 66,
     "metadata": {},
     "output_type": "execute_result"
    }
   ],
   "source": [
    "eli5.show_weights(clf, vec=vect, top=30,\n",
    "                  target_names=df['target'])"
   ]
  },
  {
   "cell_type": "code",
   "execution_count": 81,
   "metadata": {},
   "outputs": [
    {
     "data": {
      "text/html": [
       "\n",
       "    <style>\n",
       "    table.eli5-weights tr:hover {\n",
       "        filter: brightness(85%);\n",
       "    }\n",
       "</style>\n",
       "\n",
       "\n",
       "\n",
       "    \n",
       "\n",
       "    \n",
       "\n",
       "    \n",
       "\n",
       "    \n",
       "\n",
       "    \n",
       "\n",
       "    \n",
       "\n",
       "\n",
       "    \n",
       "\n",
       "    \n",
       "\n",
       "    \n",
       "\n",
       "    \n",
       "        \n",
       "\n",
       "    \n",
       "\n",
       "        \n",
       "            \n",
       "                \n",
       "                \n",
       "    \n",
       "        <p style=\"margin-bottom: 0.5em; margin-top: 0em\">\n",
       "            <b>\n",
       "    \n",
       "        y=1\n",
       "    \n",
       "</b>\n",
       "\n",
       "top features\n",
       "        </p>\n",
       "    \n",
       "    <table class=\"eli5-weights\"\n",
       "           style=\"border-collapse: collapse; border: none; margin-top: 0em; table-layout: auto; margin-bottom: 2em;\">\n",
       "        <thead>\n",
       "        <tr style=\"border: none;\">\n",
       "            \n",
       "                <th style=\"padding: 0 1em 0 0.5em; text-align: right; border: none;\" title=\"Feature weights. Note that weights do not account for feature value scales, so if feature values have different scales, features with highest weights might not be the most important.\">\n",
       "                    Weight<sup>?</sup>\n",
       "                </th>\n",
       "            \n",
       "            <th style=\"padding: 0 0.5em 0 0.5em; text-align: left; border: none;\">Feature</th>\n",
       "            \n",
       "        </tr>\n",
       "        </thead>\n",
       "        <tbody>\n",
       "        \n",
       "            <tr style=\"background-color: hsl(120, 100.00%, 80.00%); border: none;\">\n",
       "    <td style=\"padding: 0 1em 0 0.5em; text-align: right; border: none;\">\n",
       "        +2.780\n",
       "    </td>\n",
       "    <td style=\"padding: 0 0.5em 0 0.5em; text-align: left; border: none;\">\n",
       "        castrated\n",
       "    </td>\n",
       "    \n",
       "</tr>\n",
       "        \n",
       "            <tr style=\"background-color: hsl(120, 100.00%, 80.16%); border: none;\">\n",
       "    <td style=\"padding: 0 1em 0 0.5em; text-align: right; border: none;\">\n",
       "        +2.748\n",
       "    </td>\n",
       "    <td style=\"padding: 0 0.5em 0 0.5em; text-align: left; border: none;\">\n",
       "        liberals\n",
       "    </td>\n",
       "    \n",
       "</tr>\n",
       "        \n",
       "            <tr style=\"background-color: hsl(120, 100.00%, 80.24%); border: none;\">\n",
       "    <td style=\"padding: 0 1em 0 0.5em; text-align: right; border: none;\">\n",
       "        +2.733\n",
       "    </td>\n",
       "    <td style=\"padding: 0 0.5em 0 0.5em; text-align: left; border: none;\">\n",
       "        trump\n",
       "    </td>\n",
       "    \n",
       "</tr>\n",
       "        \n",
       "            <tr style=\"background-color: hsl(120, 100.00%, 80.86%); border: none;\">\n",
       "    <td style=\"padding: 0 1em 0 0.5em; text-align: right; border: none;\">\n",
       "        +2.611\n",
       "    </td>\n",
       "    <td style=\"padding: 0 0.5em 0 0.5em; text-align: left; border: none;\">\n",
       "        muslims\n",
       "    </td>\n",
       "    \n",
       "</tr>\n",
       "        \n",
       "            <tr style=\"background-color: hsl(120, 100.00%, 81.06%); border: none;\">\n",
       "    <td style=\"padding: 0 1em 0 0.5em; text-align: right; border: none;\">\n",
       "        +2.572\n",
       "    </td>\n",
       "    <td style=\"padding: 0 0.5em 0 0.5em; text-align: left; border: none;\">\n",
       "        indians\n",
       "    </td>\n",
       "    \n",
       "</tr>\n",
       "        \n",
       "            <tr style=\"background-color: hsl(120, 100.00%, 81.28%); border: none;\">\n",
       "    <td style=\"padding: 0 1em 0 0.5em; text-align: right; border: none;\">\n",
       "        +2.529\n",
       "    </td>\n",
       "    <td style=\"padding: 0 0.5em 0 0.5em; text-align: left; border: none;\">\n",
       "        democrats\n",
       "    </td>\n",
       "    \n",
       "</tr>\n",
       "        \n",
       "            <tr style=\"background-color: hsl(120, 100.00%, 81.60%); border: none;\">\n",
       "    <td style=\"padding: 0 1em 0 0.5em; text-align: right; border: none;\">\n",
       "        +2.469\n",
       "    </td>\n",
       "    <td style=\"padding: 0 0.5em 0 0.5em; text-align: left; border: none;\">\n",
       "        women\n",
       "    </td>\n",
       "    \n",
       "</tr>\n",
       "        \n",
       "            <tr style=\"background-color: hsl(120, 100.00%, 81.66%); border: none;\">\n",
       "    <td style=\"padding: 0 1em 0 0.5em; text-align: right; border: none;\">\n",
       "        +2.457\n",
       "    </td>\n",
       "    <td style=\"padding: 0 0.5em 0 0.5em; text-align: left; border: none;\">\n",
       "        castrate\n",
       "    </td>\n",
       "    \n",
       "</tr>\n",
       "        \n",
       "            <tr style=\"background-color: hsl(120, 100.00%, 81.67%); border: none;\">\n",
       "    <td style=\"padding: 0 1em 0 0.5em; text-align: right; border: none;\">\n",
       "        +2.453\n",
       "    </td>\n",
       "    <td style=\"padding: 0 0.5em 0 0.5em; text-align: left; border: none;\">\n",
       "        americans\n",
       "    </td>\n",
       "    \n",
       "</tr>\n",
       "        \n",
       "            <tr style=\"background-color: hsl(120, 100.00%, 82.36%); border: none;\">\n",
       "    <td style=\"padding: 0 1em 0 0.5em; text-align: right; border: none;\">\n",
       "        +2.324\n",
       "    </td>\n",
       "    <td style=\"padding: 0 0.5em 0 0.5em; text-align: left; border: none;\">\n",
       "        jews\n",
       "    </td>\n",
       "    \n",
       "</tr>\n",
       "        \n",
       "            <tr style=\"background-color: hsl(120, 100.00%, 82.46%); border: none;\">\n",
       "    <td style=\"padding: 0 1em 0 0.5em; text-align: right; border: none;\">\n",
       "        +2.305\n",
       "    </td>\n",
       "    <td style=\"padding: 0 0.5em 0 0.5em; text-align: left; border: none;\">\n",
       "        castration\n",
       "    </td>\n",
       "    \n",
       "</tr>\n",
       "        \n",
       "            <tr style=\"background-color: hsl(120, 100.00%, 82.73%); border: none;\">\n",
       "    <td style=\"padding: 0 1em 0 0.5em; text-align: right; border: none;\">\n",
       "        +2.254\n",
       "    </td>\n",
       "    <td style=\"padding: 0 0.5em 0 0.5em; text-align: left; border: none;\">\n",
       "        obama\n",
       "    </td>\n",
       "    \n",
       "</tr>\n",
       "        \n",
       "            <tr style=\"background-color: hsl(120, 100.00%, 83.08%); border: none;\">\n",
       "    <td style=\"padding: 0 1em 0 0.5em; text-align: right; border: none;\">\n",
       "        +2.189\n",
       "    </td>\n",
       "    <td style=\"padding: 0 0.5em 0 0.5em; text-align: left; border: none;\">\n",
       "        gay\n",
       "    </td>\n",
       "    \n",
       "</tr>\n",
       "        \n",
       "            <tr style=\"background-color: hsl(120, 100.00%, 83.34%); border: none;\">\n",
       "    <td style=\"padding: 0 1em 0 0.5em; text-align: right; border: none;\">\n",
       "        +2.140\n",
       "    </td>\n",
       "    <td style=\"padding: 0 0.5em 0 0.5em; text-align: left; border: none;\">\n",
       "        girls\n",
       "    </td>\n",
       "    \n",
       "</tr>\n",
       "        \n",
       "            <tr style=\"background-color: hsl(120, 100.00%, 83.62%); border: none;\">\n",
       "    <td style=\"padding: 0 1em 0 0.5em; text-align: right; border: none;\">\n",
       "        +2.090\n",
       "    </td>\n",
       "    <td style=\"padding: 0 0.5em 0 0.5em; text-align: left; border: none;\">\n",
       "        atheists\n",
       "    </td>\n",
       "    \n",
       "</tr>\n",
       "        \n",
       "            <tr style=\"background-color: hsl(120, 100.00%, 84.37%); border: none;\">\n",
       "    <td style=\"padding: 0 1em 0 0.5em; text-align: right; border: none;\">\n",
       "        +1.954\n",
       "    </td>\n",
       "    <td style=\"padding: 0 0.5em 0 0.5em; text-align: left; border: none;\">\n",
       "        rape\n",
       "    </td>\n",
       "    \n",
       "</tr>\n",
       "        \n",
       "            <tr style=\"background-color: hsl(120, 100.00%, 84.37%); border: none;\">\n",
       "    <td style=\"padding: 0 1em 0 0.5em; text-align: right; border: none;\">\n",
       "        +1.954\n",
       "    </td>\n",
       "    <td style=\"padding: 0 0.5em 0 0.5em; text-align: left; border: none;\">\n",
       "        blacks\n",
       "    </td>\n",
       "    \n",
       "</tr>\n",
       "        \n",
       "            <tr style=\"background-color: hsl(120, 100.00%, 84.39%); border: none;\">\n",
       "    <td style=\"padding: 0 1em 0 0.5em; text-align: right; border: none;\">\n",
       "        +1.950\n",
       "    </td>\n",
       "    <td style=\"padding: 0 0.5em 0 0.5em; text-align: left; border: none;\">\n",
       "        modi\n",
       "    </td>\n",
       "    \n",
       "</tr>\n",
       "        \n",
       "            <tr style=\"background-color: hsl(120, 100.00%, 84.45%); border: none;\">\n",
       "    <td style=\"padding: 0 1em 0 0.5em; text-align: right; border: none;\">\n",
       "        +1.940\n",
       "    </td>\n",
       "    <td style=\"padding: 0 0.5em 0 0.5em; text-align: left; border: none;\">\n",
       "        feminists\n",
       "    </td>\n",
       "    \n",
       "</tr>\n",
       "        \n",
       "            <tr style=\"background-color: hsl(120, 100.00%, 84.75%); border: none;\">\n",
       "    <td style=\"padding: 0 1em 0 0.5em; text-align: right; border: none;\">\n",
       "        +1.886\n",
       "    </td>\n",
       "    <td style=\"padding: 0 0.5em 0 0.5em; text-align: left; border: none;\">\n",
       "        stupid\n",
       "    </td>\n",
       "    \n",
       "</tr>\n",
       "        \n",
       "            <tr style=\"background-color: hsl(120, 100.00%, 84.77%); border: none;\">\n",
       "    <td style=\"padding: 0 1em 0 0.5em; text-align: right; border: none;\">\n",
       "        +1.883\n",
       "    </td>\n",
       "    <td style=\"padding: 0 0.5em 0 0.5em; text-align: left; border: none;\">\n",
       "        christians\n",
       "    </td>\n",
       "    \n",
       "</tr>\n",
       "        \n",
       "            <tr style=\"background-color: hsl(120, 100.00%, 84.88%); border: none;\">\n",
       "    <td style=\"padding: 0 1em 0 0.5em; text-align: right; border: none;\">\n",
       "        +1.864\n",
       "    </td>\n",
       "    <td style=\"padding: 0 0.5em 0 0.5em; text-align: left; border: none;\">\n",
       "        hindus\n",
       "    </td>\n",
       "    \n",
       "</tr>\n",
       "        \n",
       "            <tr style=\"background-color: hsl(120, 100.00%, 84.90%); border: none;\">\n",
       "    <td style=\"padding: 0 1em 0 0.5em; text-align: right; border: none;\">\n",
       "        +1.860\n",
       "    </td>\n",
       "    <td style=\"padding: 0 0.5em 0 0.5em; text-align: left; border: none;\">\n",
       "        fuck\n",
       "    </td>\n",
       "    \n",
       "</tr>\n",
       "        \n",
       "            <tr style=\"background-color: hsl(120, 100.00%, 85.03%); border: none;\">\n",
       "    <td style=\"padding: 0 1em 0 0.5em; text-align: right; border: none;\">\n",
       "        +1.838\n",
       "    </td>\n",
       "    <td style=\"padding: 0 0.5em 0 0.5em; text-align: left; border: none;\">\n",
       "        liberal\n",
       "    </td>\n",
       "    \n",
       "</tr>\n",
       "        \n",
       "            <tr style=\"background-color: hsl(120, 100.00%, 85.23%); border: none;\">\n",
       "    <td style=\"padding: 0 1em 0 0.5em; text-align: right; border: none;\">\n",
       "        +1.803\n",
       "    </td>\n",
       "    <td style=\"padding: 0 0.5em 0 0.5em; text-align: left; border: none;\">\n",
       "        muslim\n",
       "    </td>\n",
       "    \n",
       "</tr>\n",
       "        \n",
       "            <tr style=\"background-color: hsl(120, 100.00%, 85.46%); border: none;\">\n",
       "    <td style=\"padding: 0 1em 0 0.5em; text-align: right; border: none;\">\n",
       "        +1.764\n",
       "    </td>\n",
       "    <td style=\"padding: 0 0.5em 0 0.5em; text-align: left; border: none;\">\n",
       "        hillary\n",
       "    </td>\n",
       "    \n",
       "</tr>\n",
       "        \n",
       "            <tr style=\"background-color: hsl(120, 100.00%, 85.47%); border: none;\">\n",
       "    <td style=\"padding: 0 1em 0 0.5em; text-align: right; border: none;\">\n",
       "        +1.762\n",
       "    </td>\n",
       "    <td style=\"padding: 0 0.5em 0 0.5em; text-align: left; border: none;\">\n",
       "        republicans\n",
       "    </td>\n",
       "    \n",
       "</tr>\n",
       "        \n",
       "            <tr style=\"background-color: hsl(120, 100.00%, 85.51%); border: none;\">\n",
       "    <td style=\"padding: 0 1em 0 0.5em; text-align: right; border: none;\">\n",
       "        +1.753\n",
       "    </td>\n",
       "    <td style=\"padding: 0 0.5em 0 0.5em; text-align: left; border: none;\">\n",
       "        chinese\n",
       "    </td>\n",
       "    \n",
       "</tr>\n",
       "        \n",
       "            <tr style=\"background-color: hsl(120, 100.00%, 85.53%); border: none;\">\n",
       "    <td style=\"padding: 0 1em 0 0.5em; text-align: right; border: none;\">\n",
       "        +1.751\n",
       "    </td>\n",
       "    <td style=\"padding: 0 0.5em 0 0.5em; text-align: left; border: none;\">\n",
       "        shit\n",
       "    </td>\n",
       "    \n",
       "</tr>\n",
       "        \n",
       "            <tr style=\"background-color: hsl(120, 100.00%, 85.57%); border: none;\">\n",
       "    <td style=\"padding: 0 1em 0 0.5em; text-align: right; border: none;\">\n",
       "        +1.744\n",
       "    </td>\n",
       "    <td style=\"padding: 0 0.5em 0 0.5em; text-align: left; border: none;\">\n",
       "        conservatives\n",
       "    </td>\n",
       "    \n",
       "</tr>\n",
       "        \n",
       "        \n",
       "            <tr style=\"background-color: hsl(120, 100.00%, 85.57%); border: none;\">\n",
       "                <td colspan=\"2\" style=\"padding: 0 0.5em 0 0.5em; text-align: center; border: none; white-space: nowrap;\">\n",
       "                    <i>&hellip; 3793 more positive &hellip;</i>\n",
       "                </td>\n",
       "            </tr>\n",
       "        \n",
       "\n",
       "        \n",
       "            <tr style=\"background-color: hsl(0, 100.00%, 80.00%); border: none;\">\n",
       "                <td colspan=\"2\" style=\"padding: 0 0.5em 0 0.5em; text-align: center; border: none; white-space: nowrap;\">\n",
       "                    <i>&hellip; 2110 more negative &hellip;</i>\n",
       "                </td>\n",
       "            </tr>\n",
       "        \n",
       "        \n",
       "\n",
       "        </tbody>\n",
       "    </table>\n",
       "\n",
       "            \n",
       "        \n",
       "\n",
       "        \n",
       "\n",
       "\n",
       "\n",
       "    \n",
       "\n",
       "    \n",
       "\n",
       "    \n",
       "\n",
       "    \n",
       "\n",
       "\n",
       "    \n",
       "\n",
       "    \n",
       "\n",
       "    \n",
       "\n",
       "    \n",
       "\n",
       "    \n",
       "\n",
       "    \n",
       "\n",
       "\n",
       "    \n",
       "\n",
       "    \n",
       "\n",
       "    \n",
       "\n",
       "    \n",
       "\n",
       "    \n",
       "\n",
       "    \n",
       "\n",
       "\n",
       "\n"
      ],
      "text/plain": [
       "<IPython.core.display.HTML object>"
      ]
     },
     "execution_count": 81,
     "metadata": {},
     "output_type": "execute_result"
    }
   ],
   "source": [
    "eli5.show_weights(clf_ex, vec=vect_ex, top=30,\n",
    "                  target_names=df['target'])"
   ]
  },
  {
   "cell_type": "code",
   "execution_count": 64,
   "metadata": {
    "colab": {
     "base_uri": "https://localhost:8080/",
     "height": 1000
    },
    "executionInfo": {
     "elapsed": 492,
     "status": "ok",
     "timestamp": 1622146456958,
     "user": {
      "displayName": "Тимур Каханович",
      "photoUrl": "",
      "userId": "01126912824027436107"
     },
     "user_tz": -180
    },
    "id": "478yaSQkkXhl",
    "outputId": "98b28aa3-d5f1-4642-9132-d9acd89f4a58"
   },
   "outputs": [
    {
     "data": {
      "text/html": [
       "<div>\n",
       "<style scoped>\n",
       "    .dataframe tbody tr th:only-of-type {\n",
       "        vertical-align: middle;\n",
       "    }\n",
       "\n",
       "    .dataframe tbody tr th {\n",
       "        vertical-align: top;\n",
       "    }\n",
       "\n",
       "    .dataframe thead th {\n",
       "        text-align: right;\n",
       "    }\n",
       "</style>\n",
       "<table border=\"1\" class=\"dataframe\">\n",
       "  <thead>\n",
       "    <tr style=\"text-align: right;\">\n",
       "      <th></th>\n",
       "      <th>target</th>\n",
       "      <th>feature</th>\n",
       "      <th>weight</th>\n",
       "    </tr>\n",
       "  </thead>\n",
       "  <tbody>\n",
       "    <tr>\n",
       "      <th>0</th>\n",
       "      <td>1</td>\n",
       "      <td>castrated</td>\n",
       "      <td>27.736594</td>\n",
       "    </tr>\n",
       "    <tr>\n",
       "      <th>1</th>\n",
       "      <td>1</td>\n",
       "      <td>castrate</td>\n",
       "      <td>24.421765</td>\n",
       "    </tr>\n",
       "    <tr>\n",
       "      <th>2</th>\n",
       "      <td>1</td>\n",
       "      <td>castration</td>\n",
       "      <td>24.156590</td>\n",
       "    </tr>\n",
       "    <tr>\n",
       "      <th>3</th>\n",
       "      <td>1</td>\n",
       "      <td>holoprosencephaly</td>\n",
       "      <td>21.456471</td>\n",
       "    </tr>\n",
       "    <tr>\n",
       "      <th>4</th>\n",
       "      <td>1</td>\n",
       "      <td>horlaxen</td>\n",
       "      <td>20.671978</td>\n",
       "    </tr>\n",
       "    <tr>\n",
       "      <th>5</th>\n",
       "      <td>1</td>\n",
       "      <td>futurewins</td>\n",
       "      <td>20.372937</td>\n",
       "    </tr>\n",
       "    <tr>\n",
       "      <th>6</th>\n",
       "      <td>1</td>\n",
       "      <td>castrating</td>\n",
       "      <td>19.933126</td>\n",
       "    </tr>\n",
       "    <tr>\n",
       "      <th>7</th>\n",
       "      <td>1</td>\n",
       "      <td>scumbags</td>\n",
       "      <td>19.368675</td>\n",
       "    </tr>\n",
       "    <tr>\n",
       "      <th>8</th>\n",
       "      <td>1</td>\n",
       "      <td>careongo</td>\n",
       "      <td>19.023256</td>\n",
       "    </tr>\n",
       "    <tr>\n",
       "      <th>9</th>\n",
       "      <td>1</td>\n",
       "      <td>drumpf</td>\n",
       "      <td>18.976437</td>\n",
       "    </tr>\n",
       "    <tr>\n",
       "      <th>10</th>\n",
       "      <td>1</td>\n",
       "      <td>lipwig</td>\n",
       "      <td>18.828451</td>\n",
       "    </tr>\n",
       "    <tr>\n",
       "      <th>11</th>\n",
       "      <td>1</td>\n",
       "      <td>fags</td>\n",
       "      <td>18.668241</td>\n",
       "    </tr>\n",
       "    <tr>\n",
       "      <th>12</th>\n",
       "      <td>1</td>\n",
       "      <td>randwa</td>\n",
       "      <td>18.607402</td>\n",
       "    </tr>\n",
       "    <tr>\n",
       "      <th>13</th>\n",
       "      <td>1</td>\n",
       "      <td>crackheads</td>\n",
       "      <td>18.574697</td>\n",
       "    </tr>\n",
       "    <tr>\n",
       "      <th>14</th>\n",
       "      <td>1</td>\n",
       "      <td>courtly</td>\n",
       "      <td>18.435678</td>\n",
       "    </tr>\n",
       "    <tr>\n",
       "      <th>15</th>\n",
       "      <td>1</td>\n",
       "      <td>cusion</td>\n",
       "      <td>18.405733</td>\n",
       "    </tr>\n",
       "    <tr>\n",
       "      <th>16</th>\n",
       "      <td>1</td>\n",
       "      <td>remini</td>\n",
       "      <td>18.399105</td>\n",
       "    </tr>\n",
       "    <tr>\n",
       "      <th>17</th>\n",
       "      <td>1</td>\n",
       "      <td>afircans</td>\n",
       "      <td>18.245078</td>\n",
       "    </tr>\n",
       "    <tr>\n",
       "      <th>18</th>\n",
       "      <td>1</td>\n",
       "      <td>mcmuffin</td>\n",
       "      <td>18.226683</td>\n",
       "    </tr>\n",
       "    <tr>\n",
       "      <th>19</th>\n",
       "      <td>1</td>\n",
       "      <td>babarians</td>\n",
       "      <td>18.156174</td>\n",
       "    </tr>\n",
       "    <tr>\n",
       "      <th>20</th>\n",
       "      <td>1</td>\n",
       "      <td>paraded</td>\n",
       "      <td>18.089085</td>\n",
       "    </tr>\n",
       "    <tr>\n",
       "      <th>21</th>\n",
       "      <td>1</td>\n",
       "      <td>flemmings</td>\n",
       "      <td>18.077339</td>\n",
       "    </tr>\n",
       "    <tr>\n",
       "      <th>22</th>\n",
       "      <td>1</td>\n",
       "      <td>auvela</td>\n",
       "      <td>18.054071</td>\n",
       "    </tr>\n",
       "    <tr>\n",
       "      <th>23</th>\n",
       "      <td>1</td>\n",
       "      <td>jewdar</td>\n",
       "      <td>18.032459</td>\n",
       "    </tr>\n",
       "    <tr>\n",
       "      <th>24</th>\n",
       "      <td>1</td>\n",
       "      <td>boooooooored</td>\n",
       "      <td>17.854705</td>\n",
       "    </tr>\n",
       "    <tr>\n",
       "      <th>25</th>\n",
       "      <td>1</td>\n",
       "      <td>idiots</td>\n",
       "      <td>17.711260</td>\n",
       "    </tr>\n",
       "    <tr>\n",
       "      <th>26</th>\n",
       "      <td>1</td>\n",
       "      <td>rejuvalex</td>\n",
       "      <td>17.643630</td>\n",
       "    </tr>\n",
       "    <tr>\n",
       "      <th>27</th>\n",
       "      <td>1</td>\n",
       "      <td>hypercet</td>\n",
       "      <td>17.641254</td>\n",
       "    </tr>\n",
       "    <tr>\n",
       "      <th>28</th>\n",
       "      <td>1</td>\n",
       "      <td>kashmi</td>\n",
       "      <td>17.559529</td>\n",
       "    </tr>\n",
       "    <tr>\n",
       "      <th>29</th>\n",
       "      <td>1</td>\n",
       "      <td>bioenergetic</td>\n",
       "      <td>17.541320</td>\n",
       "    </tr>\n",
       "  </tbody>\n",
       "</table>\n",
       "</div>"
      ],
      "text/plain": [
       "    target            feature     weight\n",
       "0        1          castrated  27.736594\n",
       "1        1           castrate  24.421765\n",
       "2        1         castration  24.156590\n",
       "3        1  holoprosencephaly  21.456471\n",
       "4        1           horlaxen  20.671978\n",
       "5        1         futurewins  20.372937\n",
       "6        1         castrating  19.933126\n",
       "7        1           scumbags  19.368675\n",
       "8        1           careongo  19.023256\n",
       "9        1             drumpf  18.976437\n",
       "10       1             lipwig  18.828451\n",
       "11       1               fags  18.668241\n",
       "12       1             randwa  18.607402\n",
       "13       1         crackheads  18.574697\n",
       "14       1            courtly  18.435678\n",
       "15       1             cusion  18.405733\n",
       "16       1             remini  18.399105\n",
       "17       1           afircans  18.245078\n",
       "18       1           mcmuffin  18.226683\n",
       "19       1          babarians  18.156174\n",
       "20       1            paraded  18.089085\n",
       "21       1          flemmings  18.077339\n",
       "22       1             auvela  18.054071\n",
       "23       1             jewdar  18.032459\n",
       "24       1       boooooooored  17.854705\n",
       "25       1             idiots  17.711260\n",
       "26       1          rejuvalex  17.643630\n",
       "27       1           hypercet  17.641254\n",
       "28       1             kashmi  17.559529\n",
       "29       1       bioenergetic  17.541320"
      ]
     },
     "execution_count": 64,
     "metadata": {},
     "output_type": "execute_result"
    }
   ],
   "source": [
    "eli_df.explain_weights_df(model, vec=vect, top=30, target_names=df['target'])"
   ]
  },
  {
   "cell_type": "code",
   "execution_count": 82,
   "metadata": {
    "colab": {
     "base_uri": "https://localhost:8080/",
     "height": 1000
    },
    "executionInfo": {
     "elapsed": 492,
     "status": "ok",
     "timestamp": 1622146456958,
     "user": {
      "displayName": "Тимур Каханович",
      "photoUrl": "",
      "userId": "01126912824027436107"
     },
     "user_tz": -180
    },
    "id": "478yaSQkkXhl",
    "outputId": "98b28aa3-d5f1-4642-9132-d9acd89f4a58"
   },
   "outputs": [
    {
     "data": {
      "text/html": [
       "<div>\n",
       "<style scoped>\n",
       "    .dataframe tbody tr th:only-of-type {\n",
       "        vertical-align: middle;\n",
       "    }\n",
       "\n",
       "    .dataframe tbody tr th {\n",
       "        vertical-align: top;\n",
       "    }\n",
       "\n",
       "    .dataframe thead th {\n",
       "        text-align: right;\n",
       "    }\n",
       "</style>\n",
       "<table border=\"1\" class=\"dataframe\">\n",
       "  <thead>\n",
       "    <tr style=\"text-align: right;\">\n",
       "      <th></th>\n",
       "      <th>target</th>\n",
       "      <th>feature</th>\n",
       "      <th>weight</th>\n",
       "    </tr>\n",
       "  </thead>\n",
       "  <tbody>\n",
       "    <tr>\n",
       "      <th>0</th>\n",
       "      <td>1</td>\n",
       "      <td>castrated</td>\n",
       "      <td>2.779753</td>\n",
       "    </tr>\n",
       "    <tr>\n",
       "      <th>1</th>\n",
       "      <td>1</td>\n",
       "      <td>liberals</td>\n",
       "      <td>2.748161</td>\n",
       "    </tr>\n",
       "    <tr>\n",
       "      <th>2</th>\n",
       "      <td>1</td>\n",
       "      <td>trump</td>\n",
       "      <td>2.732846</td>\n",
       "    </tr>\n",
       "    <tr>\n",
       "      <th>3</th>\n",
       "      <td>1</td>\n",
       "      <td>muslims</td>\n",
       "      <td>2.610773</td>\n",
       "    </tr>\n",
       "    <tr>\n",
       "      <th>4</th>\n",
       "      <td>1</td>\n",
       "      <td>indians</td>\n",
       "      <td>2.571833</td>\n",
       "    </tr>\n",
       "    <tr>\n",
       "      <th>5</th>\n",
       "      <td>1</td>\n",
       "      <td>democrats</td>\n",
       "      <td>2.528502</td>\n",
       "    </tr>\n",
       "    <tr>\n",
       "      <th>6</th>\n",
       "      <td>1</td>\n",
       "      <td>women</td>\n",
       "      <td>2.468513</td>\n",
       "    </tr>\n",
       "    <tr>\n",
       "      <th>7</th>\n",
       "      <td>1</td>\n",
       "      <td>castrate</td>\n",
       "      <td>2.456711</td>\n",
       "    </tr>\n",
       "    <tr>\n",
       "      <th>8</th>\n",
       "      <td>1</td>\n",
       "      <td>americans</td>\n",
       "      <td>2.453434</td>\n",
       "    </tr>\n",
       "    <tr>\n",
       "      <th>9</th>\n",
       "      <td>1</td>\n",
       "      <td>jews</td>\n",
       "      <td>2.323673</td>\n",
       "    </tr>\n",
       "    <tr>\n",
       "      <th>10</th>\n",
       "      <td>1</td>\n",
       "      <td>castration</td>\n",
       "      <td>2.304909</td>\n",
       "    </tr>\n",
       "    <tr>\n",
       "      <th>11</th>\n",
       "      <td>1</td>\n",
       "      <td>obama</td>\n",
       "      <td>2.253638</td>\n",
       "    </tr>\n",
       "    <tr>\n",
       "      <th>12</th>\n",
       "      <td>1</td>\n",
       "      <td>gay</td>\n",
       "      <td>2.189006</td>\n",
       "    </tr>\n",
       "    <tr>\n",
       "      <th>13</th>\n",
       "      <td>1</td>\n",
       "      <td>girls</td>\n",
       "      <td>2.140245</td>\n",
       "    </tr>\n",
       "    <tr>\n",
       "      <th>14</th>\n",
       "      <td>1</td>\n",
       "      <td>atheists</td>\n",
       "      <td>2.089621</td>\n",
       "    </tr>\n",
       "    <tr>\n",
       "      <th>15</th>\n",
       "      <td>1</td>\n",
       "      <td>rape</td>\n",
       "      <td>1.954323</td>\n",
       "    </tr>\n",
       "    <tr>\n",
       "      <th>16</th>\n",
       "      <td>1</td>\n",
       "      <td>blacks</td>\n",
       "      <td>1.954251</td>\n",
       "    </tr>\n",
       "    <tr>\n",
       "      <th>17</th>\n",
       "      <td>1</td>\n",
       "      <td>modi</td>\n",
       "      <td>1.950333</td>\n",
       "    </tr>\n",
       "    <tr>\n",
       "      <th>18</th>\n",
       "      <td>1</td>\n",
       "      <td>feminists</td>\n",
       "      <td>1.939681</td>\n",
       "    </tr>\n",
       "    <tr>\n",
       "      <th>19</th>\n",
       "      <td>1</td>\n",
       "      <td>stupid</td>\n",
       "      <td>1.886265</td>\n",
       "    </tr>\n",
       "    <tr>\n",
       "      <th>20</th>\n",
       "      <td>1</td>\n",
       "      <td>christians</td>\n",
       "      <td>1.883026</td>\n",
       "    </tr>\n",
       "    <tr>\n",
       "      <th>21</th>\n",
       "      <td>1</td>\n",
       "      <td>hindus</td>\n",
       "      <td>1.863886</td>\n",
       "    </tr>\n",
       "    <tr>\n",
       "      <th>22</th>\n",
       "      <td>1</td>\n",
       "      <td>fuck</td>\n",
       "      <td>1.859952</td>\n",
       "    </tr>\n",
       "    <tr>\n",
       "      <th>23</th>\n",
       "      <td>1</td>\n",
       "      <td>liberal</td>\n",
       "      <td>1.838327</td>\n",
       "    </tr>\n",
       "    <tr>\n",
       "      <th>24</th>\n",
       "      <td>1</td>\n",
       "      <td>muslim</td>\n",
       "      <td>1.802974</td>\n",
       "    </tr>\n",
       "    <tr>\n",
       "      <th>25</th>\n",
       "      <td>1</td>\n",
       "      <td>hillary</td>\n",
       "      <td>1.763610</td>\n",
       "    </tr>\n",
       "    <tr>\n",
       "      <th>26</th>\n",
       "      <td>1</td>\n",
       "      <td>republicans</td>\n",
       "      <td>1.761625</td>\n",
       "    </tr>\n",
       "    <tr>\n",
       "      <th>27</th>\n",
       "      <td>1</td>\n",
       "      <td>chinese</td>\n",
       "      <td>1.753453</td>\n",
       "    </tr>\n",
       "    <tr>\n",
       "      <th>28</th>\n",
       "      <td>1</td>\n",
       "      <td>shit</td>\n",
       "      <td>1.750718</td>\n",
       "    </tr>\n",
       "    <tr>\n",
       "      <th>29</th>\n",
       "      <td>1</td>\n",
       "      <td>conservatives</td>\n",
       "      <td>1.744194</td>\n",
       "    </tr>\n",
       "  </tbody>\n",
       "</table>\n",
       "</div>"
      ],
      "text/plain": [
       "    target        feature    weight\n",
       "0        1      castrated  2.779753\n",
       "1        1       liberals  2.748161\n",
       "2        1          trump  2.732846\n",
       "3        1        muslims  2.610773\n",
       "4        1        indians  2.571833\n",
       "5        1      democrats  2.528502\n",
       "6        1          women  2.468513\n",
       "7        1       castrate  2.456711\n",
       "8        1      americans  2.453434\n",
       "9        1           jews  2.323673\n",
       "10       1     castration  2.304909\n",
       "11       1          obama  2.253638\n",
       "12       1            gay  2.189006\n",
       "13       1          girls  2.140245\n",
       "14       1       atheists  2.089621\n",
       "15       1           rape  1.954323\n",
       "16       1         blacks  1.954251\n",
       "17       1           modi  1.950333\n",
       "18       1      feminists  1.939681\n",
       "19       1         stupid  1.886265\n",
       "20       1     christians  1.883026\n",
       "21       1         hindus  1.863886\n",
       "22       1           fuck  1.859952\n",
       "23       1        liberal  1.838327\n",
       "24       1         muslim  1.802974\n",
       "25       1        hillary  1.763610\n",
       "26       1    republicans  1.761625\n",
       "27       1        chinese  1.753453\n",
       "28       1           shit  1.750718\n",
       "29       1  conservatives  1.744194"
      ]
     },
     "execution_count": 82,
     "metadata": {},
     "output_type": "execute_result"
    }
   ],
   "source": [
    "eli_df.explain_weights_df(model_ex, vec=vect_ex, top=30, target_names=df['target'])"
   ]
  },
  {
   "cell_type": "code",
   "execution_count": 56,
   "metadata": {
    "colab": {
     "base_uri": "https://localhost:8080/",
     "height": 168
    },
    "executionInfo": {
     "elapsed": 219,
     "status": "ok",
     "timestamp": 1622146555104,
     "user": {
      "displayName": "Тимур Каханович",
      "photoUrl": "",
      "userId": "01126912824027436107"
     },
     "user_tz": -180
    },
    "id": "acEtWK-G0qZg",
    "outputId": "05d05ddf-672b-4b65-b39f-f88ea27db31a"
   },
   "outputs": [
    {
     "data": {
      "text/html": [
       "\n",
       "    <style>\n",
       "    table.eli5-weights tr:hover {\n",
       "        filter: brightness(85%);\n",
       "    }\n",
       "</style>\n",
       "\n",
       "\n",
       "\n",
       "    \n",
       "\n",
       "    \n",
       "\n",
       "    \n",
       "\n",
       "    \n",
       "\n",
       "    \n",
       "\n",
       "    \n",
       "\n",
       "\n",
       "    \n",
       "\n",
       "    \n",
       "\n",
       "    \n",
       "\n",
       "    \n",
       "        \n",
       "\n",
       "    \n",
       "\n",
       "        \n",
       "\n",
       "        \n",
       "    \n",
       "        \n",
       "        \n",
       "    \n",
       "        <p style=\"margin-bottom: 0.5em; margin-top: 0em\">\n",
       "            <b>\n",
       "    \n",
       "        y=0\n",
       "    \n",
       "</b>\n",
       "\n",
       "    \n",
       "    (probability <b>1.000</b>, score <b>-7.146</b>)\n",
       "\n",
       "top features\n",
       "        </p>\n",
       "    \n",
       "    <table class=\"eli5-weights\"\n",
       "           style=\"border-collapse: collapse; border: none; margin-top: 0em; table-layout: auto; margin-bottom: 2em;\">\n",
       "        <thead>\n",
       "        <tr style=\"border: none;\">\n",
       "            \n",
       "                <th style=\"padding: 0 1em 0 0.5em; text-align: right; border: none;\" title=\"Feature contribution already accounts for the feature value (for linear models, contribution = weight * feature value), and the sum of feature contributions is equal to the score or, for some classifiers, to the probability. Feature values are shown if &quot;show_feature_values&quot; is True.\">\n",
       "                    Contribution<sup>?</sup>\n",
       "                </th>\n",
       "            \n",
       "            <th style=\"padding: 0 0.5em 0 0.5em; text-align: left; border: none;\">Feature</th>\n",
       "            \n",
       "        </tr>\n",
       "        </thead>\n",
       "        <tbody>\n",
       "        \n",
       "            <tr style=\"background-color: hsl(120, 100.00%, 80.00%); border: none;\">\n",
       "    <td style=\"padding: 0 1em 0 0.5em; text-align: right; border: none;\">\n",
       "        +7.062\n",
       "    </td>\n",
       "    <td style=\"padding: 0 0.5em 0 0.5em; text-align: left; border: none;\">\n",
       "        &lt;BIAS&gt;\n",
       "    </td>\n",
       "    \n",
       "</tr>\n",
       "        \n",
       "            <tr style=\"background-color: hsl(120, 100.00%, 99.10%); border: none;\">\n",
       "    <td style=\"padding: 0 1em 0 0.5em; text-align: right; border: none;\">\n",
       "        +0.084\n",
       "    </td>\n",
       "    <td style=\"padding: 0 0.5em 0 0.5em; text-align: left; border: none;\">\n",
       "        Highlighted in text (sum)\n",
       "    </td>\n",
       "    \n",
       "</tr>\n",
       "        \n",
       "        \n",
       "\n",
       "        \n",
       "        \n",
       "\n",
       "        </tbody>\n",
       "    </table>\n",
       "\n",
       "    \n",
       "\n",
       "\n",
       "\n",
       "    <p style=\"margin-bottom: 2.5em; margin-top:-0.5em;\">\n",
       "        <span style=\"opacity: 0.80\">which is </span><span style=\"background-color: hsl(0, 100.00%, 63.22%); opacity: 0.98\" title=\"-0.461\">better</span><span style=\"opacity: 0.80\"> to </span><span style=\"background-color: hsl(120, 100.00%, 83.15%); opacity: 0.86\" title=\"0.151\">use</span><span style=\"opacity: 0.80\">, </span><span style=\"background-color: hsl(0, 100.00%, 85.17%); opacity: 0.85\" title=\"-0.126\">avro</span><span style=\"opacity: 0.80\"> or </span><span style=\"background-color: hsl(120, 100.00%, 60.00%); opacity: 1.00\" title=\"0.520\">orc</span><span style=\"opacity: 0.80\">?</span>\n",
       "    </p>\n",
       "\n",
       "\n",
       "    \n",
       "\n",
       "    \n",
       "\n",
       "    \n",
       "\n",
       "    \n",
       "\n",
       "\n",
       "    \n",
       "\n",
       "    \n",
       "\n",
       "    \n",
       "\n",
       "    \n",
       "\n",
       "    \n",
       "\n",
       "    \n",
       "\n",
       "\n",
       "    \n",
       "\n",
       "    \n",
       "\n",
       "    \n",
       "\n",
       "    \n",
       "\n",
       "    \n",
       "\n",
       "    \n",
       "\n",
       "\n",
       "\n"
      ],
      "text/plain": [
       "<IPython.core.display.HTML object>"
      ]
     },
     "execution_count": 56,
     "metadata": {},
     "output_type": "execute_result"
    }
   ],
   "source": [
    "eli5.show_prediction(clf, df['question_text'][228], vec=vect, target_names=df['target'])"
   ]
  },
  {
   "cell_type": "code",
   "execution_count": 57,
   "metadata": {
    "colab": {
     "base_uri": "https://localhost:8080/",
     "height": 254
    },
    "executionInfo": {
     "elapsed": 495,
     "status": "ok",
     "timestamp": 1622146562465,
     "user": {
      "displayName": "Тимур Каханович",
      "photoUrl": "",
      "userId": "01126912824027436107"
     },
     "user_tz": -180
    },
    "id": "BcRvOt68z8Qk",
    "outputId": "2d272efc-d534-4a3a-e146-6393be1c3f34"
   },
   "outputs": [
    {
     "data": {
      "text/html": [
       "<div>\n",
       "<style scoped>\n",
       "    .dataframe tbody tr th:only-of-type {\n",
       "        vertical-align: middle;\n",
       "    }\n",
       "\n",
       "    .dataframe tbody tr th {\n",
       "        vertical-align: top;\n",
       "    }\n",
       "\n",
       "    .dataframe thead th {\n",
       "        text-align: right;\n",
       "    }\n",
       "</style>\n",
       "<table border=\"1\" class=\"dataframe\">\n",
       "  <thead>\n",
       "    <tr style=\"text-align: right;\">\n",
       "      <th></th>\n",
       "      <th>target</th>\n",
       "      <th>feature</th>\n",
       "      <th>weight</th>\n",
       "      <th>value</th>\n",
       "    </tr>\n",
       "  </thead>\n",
       "  <tbody>\n",
       "    <tr>\n",
       "      <th>0</th>\n",
       "      <td>0</td>\n",
       "      <td>&lt;BIAS&gt;</td>\n",
       "      <td>7.061682</td>\n",
       "      <td>1.000000</td>\n",
       "    </tr>\n",
       "    <tr>\n",
       "      <th>1</th>\n",
       "      <td>0</td>\n",
       "      <td>orc</td>\n",
       "      <td>0.519823</td>\n",
       "      <td>0.627773</td>\n",
       "    </tr>\n",
       "    <tr>\n",
       "      <th>2</th>\n",
       "      <td>0</td>\n",
       "      <td>use</td>\n",
       "      <td>0.151221</td>\n",
       "      <td>0.265860</td>\n",
       "    </tr>\n",
       "    <tr>\n",
       "      <th>3</th>\n",
       "      <td>0</td>\n",
       "      <td>avro</td>\n",
       "      <td>-0.125913</td>\n",
       "      <td>0.675364</td>\n",
       "    </tr>\n",
       "    <tr>\n",
       "      <th>4</th>\n",
       "      <td>0</td>\n",
       "      <td>better</td>\n",
       "      <td>-0.461129</td>\n",
       "      <td>0.281254</td>\n",
       "    </tr>\n",
       "  </tbody>\n",
       "</table>\n",
       "</div>"
      ],
      "text/plain": [
       "   target feature    weight     value\n",
       "0       0  <BIAS>  7.061682  1.000000\n",
       "1       0     orc  0.519823  0.627773\n",
       "2       0     use  0.151221  0.265860\n",
       "3       0    avro -0.125913  0.675364\n",
       "4       0  better -0.461129  0.281254"
      ]
     },
     "execution_count": 57,
     "metadata": {},
     "output_type": "execute_result"
    }
   ],
   "source": [
    "eli_df.explain_prediction_df(clf, df['question_text'][228], vec=vect, target_names=df['target'])"
   ]
  },
  {
   "cell_type": "code",
   "execution_count": 85,
   "metadata": {
    "colab": {
     "base_uri": "https://localhost:8080/",
     "height": 168
    },
    "executionInfo": {
     "elapsed": 219,
     "status": "ok",
     "timestamp": 1622146555104,
     "user": {
      "displayName": "Тимур Каханович",
      "photoUrl": "",
      "userId": "01126912824027436107"
     },
     "user_tz": -180
    },
    "id": "acEtWK-G0qZg",
    "outputId": "05d05ddf-672b-4b65-b39f-f88ea27db31a"
   },
   "outputs": [
    {
     "data": {
      "text/html": [
       "\n",
       "    <style>\n",
       "    table.eli5-weights tr:hover {\n",
       "        filter: brightness(85%);\n",
       "    }\n",
       "</style>\n",
       "\n",
       "\n",
       "\n",
       "    \n",
       "\n",
       "    \n",
       "\n",
       "    \n",
       "\n",
       "    \n",
       "\n",
       "    \n",
       "\n",
       "    \n",
       "\n",
       "\n",
       "    \n",
       "\n",
       "    \n",
       "\n",
       "    \n",
       "\n",
       "    \n",
       "        \n",
       "\n",
       "    \n",
       "\n",
       "        \n",
       "\n",
       "        \n",
       "    \n",
       "        \n",
       "        \n",
       "    \n",
       "        <p style=\"margin-bottom: 0.5em; margin-top: 0em\">\n",
       "            <b>\n",
       "    \n",
       "        y=0\n",
       "    \n",
       "</b>\n",
       "\n",
       "    \n",
       "    (probability <b>0.836</b>, score <b>-0.671</b>)\n",
       "\n",
       "top features\n",
       "        </p>\n",
       "    \n",
       "    <table class=\"eli5-weights\"\n",
       "           style=\"border-collapse: collapse; border: none; margin-top: 0em; table-layout: auto; margin-bottom: 2em;\">\n",
       "        <thead>\n",
       "        <tr style=\"border: none;\">\n",
       "            \n",
       "                <th style=\"padding: 0 1em 0 0.5em; text-align: right; border: none;\" title=\"Feature contribution already accounts for the feature value (for linear models, contribution = weight * feature value), and the sum of feature contributions is equal to the score or, for some classifiers, to the probability. Feature values are shown if &quot;show_feature_values&quot; is True.\">\n",
       "                    Contribution<sup>?</sup>\n",
       "                </th>\n",
       "            \n",
       "            <th style=\"padding: 0 0.5em 0 0.5em; text-align: left; border: none;\">Feature</th>\n",
       "            \n",
       "        </tr>\n",
       "        </thead>\n",
       "        <tbody>\n",
       "        \n",
       "            <tr style=\"background-color: hsl(120, 100.00%, 80.00%); border: none;\">\n",
       "    <td style=\"padding: 0 1em 0 0.5em; text-align: right; border: none;\">\n",
       "        +0.603\n",
       "    </td>\n",
       "    <td style=\"padding: 0 0.5em 0 0.5em; text-align: left; border: none;\">\n",
       "        &lt;BIAS&gt;\n",
       "    </td>\n",
       "    \n",
       "</tr>\n",
       "        \n",
       "            <tr style=\"background-color: hsl(120, 100.00%, 95.63%); border: none;\">\n",
       "    <td style=\"padding: 0 1em 0 0.5em; text-align: right; border: none;\">\n",
       "        +0.069\n",
       "    </td>\n",
       "    <td style=\"padding: 0 0.5em 0 0.5em; text-align: left; border: none;\">\n",
       "        Highlighted in text (sum)\n",
       "    </td>\n",
       "    \n",
       "</tr>\n",
       "        \n",
       "        \n",
       "\n",
       "        \n",
       "        \n",
       "\n",
       "        </tbody>\n",
       "    </table>\n",
       "\n",
       "    \n",
       "\n",
       "\n",
       "\n",
       "    <p style=\"margin-bottom: 2.5em; margin-top:-0.5em;\">\n",
       "        <span style=\"opacity: 0.80\">which is </span><span style=\"background-color: hsl(120, 100.00%, 91.84%); opacity: 0.82\" title=\"0.006\">better</span><span style=\"opacity: 0.80\"> to </span><span style=\"background-color: hsl(120, 100.00%, 60.00%); opacity: 1.00\" title=\"0.062\">use</span><span style=\"opacity: 0.80\">, avro or orc?</span>\n",
       "    </p>\n",
       "\n",
       "\n",
       "    \n",
       "\n",
       "    \n",
       "\n",
       "    \n",
       "\n",
       "    \n",
       "\n",
       "\n",
       "    \n",
       "\n",
       "    \n",
       "\n",
       "    \n",
       "\n",
       "    \n",
       "\n",
       "    \n",
       "\n",
       "    \n",
       "\n",
       "\n",
       "    \n",
       "\n",
       "    \n",
       "\n",
       "    \n",
       "\n",
       "    \n",
       "\n",
       "    \n",
       "\n",
       "    \n",
       "\n",
       "\n",
       "\n"
      ],
      "text/plain": [
       "<IPython.core.display.HTML object>"
      ]
     },
     "execution_count": 85,
     "metadata": {},
     "output_type": "execute_result"
    }
   ],
   "source": [
    "eli5.show_prediction(clf_ex, df['question_text'][228], vec=vect_ex, target_names=df['target'])"
   ]
  },
  {
   "cell_type": "code",
   "execution_count": 86,
   "metadata": {
    "colab": {
     "base_uri": "https://localhost:8080/",
     "height": 254
    },
    "executionInfo": {
     "elapsed": 495,
     "status": "ok",
     "timestamp": 1622146562465,
     "user": {
      "displayName": "Тимур Каханович",
      "photoUrl": "",
      "userId": "01126912824027436107"
     },
     "user_tz": -180
    },
    "id": "BcRvOt68z8Qk",
    "outputId": "2d272efc-d534-4a3a-e146-6393be1c3f34"
   },
   "outputs": [
    {
     "data": {
      "text/html": [
       "<div>\n",
       "<style scoped>\n",
       "    .dataframe tbody tr th:only-of-type {\n",
       "        vertical-align: middle;\n",
       "    }\n",
       "\n",
       "    .dataframe tbody tr th {\n",
       "        vertical-align: top;\n",
       "    }\n",
       "\n",
       "    .dataframe thead th {\n",
       "        text-align: right;\n",
       "    }\n",
       "</style>\n",
       "<table border=\"1\" class=\"dataframe\">\n",
       "  <thead>\n",
       "    <tr style=\"text-align: right;\">\n",
       "      <th></th>\n",
       "      <th>target</th>\n",
       "      <th>feature</th>\n",
       "      <th>weight</th>\n",
       "      <th>value</th>\n",
       "    </tr>\n",
       "  </thead>\n",
       "  <tbody>\n",
       "    <tr>\n",
       "      <th>0</th>\n",
       "      <td>0</td>\n",
       "      <td>&lt;BIAS&gt;</td>\n",
       "      <td>0.602594</td>\n",
       "      <td>1.000000</td>\n",
       "    </tr>\n",
       "    <tr>\n",
       "      <th>1</th>\n",
       "      <td>0</td>\n",
       "      <td>use</td>\n",
       "      <td>0.062218</td>\n",
       "      <td>0.265860</td>\n",
       "    </tr>\n",
       "    <tr>\n",
       "      <th>2</th>\n",
       "      <td>0</td>\n",
       "      <td>better</td>\n",
       "      <td>0.006422</td>\n",
       "      <td>0.281254</td>\n",
       "    </tr>\n",
       "  </tbody>\n",
       "</table>\n",
       "</div>"
      ],
      "text/plain": [
       "   target feature    weight     value\n",
       "0       0  <BIAS>  0.602594  1.000000\n",
       "1       0     use  0.062218  0.265860\n",
       "2       0  better  0.006422  0.281254"
      ]
     },
     "execution_count": 86,
     "metadata": {},
     "output_type": "execute_result"
    }
   ],
   "source": [
    "eli_df.explain_prediction_df(clf_ex, df['question_text'][228], vec=vect_ex, target_names=df['target'])"
   ]
  },
  {
   "cell_type": "code",
   "execution_count": 58,
   "metadata": {
    "colab": {
     "base_uri": "https://localhost:8080/",
     "height": 168
    },
    "executionInfo": {
     "elapsed": 455,
     "status": "ok",
     "timestamp": 1622146745728,
     "user": {
      "displayName": "Тимур Каханович",
      "photoUrl": "",
      "userId": "01126912824027436107"
     },
     "user_tz": -180
    },
    "id": "bcJ7GHEder-Y",
    "outputId": "3b3b0abc-16e8-4b9b-d8c7-188f3cbe03b8"
   },
   "outputs": [
    {
     "data": {
      "text/html": [
       "\n",
       "    <style>\n",
       "    table.eli5-weights tr:hover {\n",
       "        filter: brightness(85%);\n",
       "    }\n",
       "</style>\n",
       "\n",
       "\n",
       "\n",
       "    \n",
       "\n",
       "    \n",
       "\n",
       "    \n",
       "\n",
       "    \n",
       "\n",
       "    \n",
       "\n",
       "    \n",
       "\n",
       "\n",
       "    \n",
       "\n",
       "    \n",
       "\n",
       "    \n",
       "\n",
       "    \n",
       "        \n",
       "\n",
       "    \n",
       "\n",
       "        \n",
       "\n",
       "        \n",
       "    \n",
       "        \n",
       "        \n",
       "    \n",
       "        <p style=\"margin-bottom: 0.5em; margin-top: 0em\">\n",
       "            <b>\n",
       "    \n",
       "        y=0\n",
       "    \n",
       "</b>\n",
       "\n",
       "    \n",
       "    (probability <b>1.000</b>, score <b>-5.396</b>)\n",
       "\n",
       "top features\n",
       "        </p>\n",
       "    \n",
       "    <table class=\"eli5-weights\"\n",
       "           style=\"border-collapse: collapse; border: none; margin-top: 0em; table-layout: auto; margin-bottom: 2em;\">\n",
       "        <thead>\n",
       "        <tr style=\"border: none;\">\n",
       "            \n",
       "                <th style=\"padding: 0 1em 0 0.5em; text-align: right; border: none;\" title=\"Feature contribution already accounts for the feature value (for linear models, contribution = weight * feature value), and the sum of feature contributions is equal to the score or, for some classifiers, to the probability. Feature values are shown if &quot;show_feature_values&quot; is True.\">\n",
       "                    Contribution<sup>?</sup>\n",
       "                </th>\n",
       "            \n",
       "            <th style=\"padding: 0 0.5em 0 0.5em; text-align: left; border: none;\">Feature</th>\n",
       "            \n",
       "        </tr>\n",
       "        </thead>\n",
       "        <tbody>\n",
       "        \n",
       "            <tr style=\"background-color: hsl(120, 100.00%, 80.00%); border: none;\">\n",
       "    <td style=\"padding: 0 1em 0 0.5em; text-align: right; border: none;\">\n",
       "        +7.062\n",
       "    </td>\n",
       "    <td style=\"padding: 0 0.5em 0 0.5em; text-align: left; border: none;\">\n",
       "        &lt;BIAS&gt;\n",
       "    </td>\n",
       "    \n",
       "</tr>\n",
       "        \n",
       "        \n",
       "\n",
       "        \n",
       "        \n",
       "            <tr style=\"background-color: hsl(0, 100.00%, 92.72%); border: none;\">\n",
       "    <td style=\"padding: 0 1em 0 0.5em; text-align: right; border: none;\">\n",
       "        -1.666\n",
       "    </td>\n",
       "    <td style=\"padding: 0 0.5em 0 0.5em; text-align: left; border: none;\">\n",
       "        Highlighted in text (sum)\n",
       "    </td>\n",
       "    \n",
       "</tr>\n",
       "        \n",
       "\n",
       "        </tbody>\n",
       "    </table>\n",
       "\n",
       "    \n",
       "\n",
       "\n",
       "\n",
       "    <p style=\"margin-bottom: 2.5em; margin-top:-0.5em;\">\n",
       "        <span style=\"opacity: 0.80\">which are the </span><span style=\"background-color: hsl(120, 100.00%, 71.76%); opacity: 0.92\" title=\"1.408\">best</span><span style=\"opacity: 0.80\"> </span><span style=\"background-color: hsl(120, 100.00%, 69.39%); opacity: 0.94\" title=\"1.579\">books</span><span style=\"opacity: 0.80\"> to </span><span style=\"background-color: hsl(0, 100.00%, 93.06%); opacity: 0.82\" title=\"-0.189\">read</span><span style=\"opacity: 0.80\"> for </span><span style=\"background-color: hsl(0, 100.00%, 60.00%); opacity: 1.00\" title=\"-2.315\">indian</span><span style=\"opacity: 0.80\"> </span><span style=\"background-color: hsl(0, 100.00%, 84.79%); opacity: 0.85\" title=\"-0.581\">politics</span><span style=\"opacity: 0.80\"> and which </span><span style=\"background-color: hsl(120, 100.00%, 88.42%); opacity: 0.83\" title=\"0.394\">tells</span><span style=\"opacity: 0.80\"> </span><span style=\"background-color: hsl(0, 100.00%, 71.94%); opacity: 0.92\" title=\"-1.395\">truth</span><span style=\"opacity: 0.80\"> about all the </span><span style=\"background-color: hsl(0, 100.00%, 94.72%); opacity: 0.81\" title=\"-0.128\">political</span><span style=\"opacity: 0.80\"> </span><span style=\"background-color: hsl(0, 100.00%, 87.54%); opacity: 0.84\" title=\"-0.437\">matter</span><span style=\"opacity: 0.80\">?</span>\n",
       "    </p>\n",
       "\n",
       "\n",
       "    \n",
       "\n",
       "    \n",
       "\n",
       "    \n",
       "\n",
       "    \n",
       "\n",
       "\n",
       "    \n",
       "\n",
       "    \n",
       "\n",
       "    \n",
       "\n",
       "    \n",
       "\n",
       "    \n",
       "\n",
       "    \n",
       "\n",
       "\n",
       "    \n",
       "\n",
       "    \n",
       "\n",
       "    \n",
       "\n",
       "    \n",
       "\n",
       "    \n",
       "\n",
       "    \n",
       "\n",
       "\n",
       "\n"
      ],
      "text/plain": [
       "<IPython.core.display.HTML object>"
      ]
     },
     "execution_count": 58,
     "metadata": {},
     "output_type": "execute_result"
    }
   ],
   "source": [
    "eli5.show_prediction(clf, df['question_text'][666], vec=vect, target_names=df['target'])"
   ]
  },
  {
   "cell_type": "code",
   "execution_count": 59,
   "metadata": {
    "colab": {
     "base_uri": "https://localhost:8080/",
     "height": 373
    },
    "executionInfo": {
     "elapsed": 358,
     "status": "ok",
     "timestamp": 1622146771247,
     "user": {
      "displayName": "Тимур Каханович",
      "photoUrl": "",
      "userId": "01126912824027436107"
     },
     "user_tz": -180
    },
    "id": "7kG-j7hAe1hI",
    "outputId": "f9060d16-24d7-47ea-ec4b-24163e0ce11e"
   },
   "outputs": [
    {
     "data": {
      "text/html": [
       "<div>\n",
       "<style scoped>\n",
       "    .dataframe tbody tr th:only-of-type {\n",
       "        vertical-align: middle;\n",
       "    }\n",
       "\n",
       "    .dataframe tbody tr th {\n",
       "        vertical-align: top;\n",
       "    }\n",
       "\n",
       "    .dataframe thead th {\n",
       "        text-align: right;\n",
       "    }\n",
       "</style>\n",
       "<table border=\"1\" class=\"dataframe\">\n",
       "  <thead>\n",
       "    <tr style=\"text-align: right;\">\n",
       "      <th></th>\n",
       "      <th>target</th>\n",
       "      <th>feature</th>\n",
       "      <th>weight</th>\n",
       "      <th>value</th>\n",
       "    </tr>\n",
       "  </thead>\n",
       "  <tbody>\n",
       "    <tr>\n",
       "      <th>0</th>\n",
       "      <td>0</td>\n",
       "      <td>&lt;BIAS&gt;</td>\n",
       "      <td>7.061682</td>\n",
       "      <td>1.000000</td>\n",
       "    </tr>\n",
       "    <tr>\n",
       "      <th>1</th>\n",
       "      <td>0</td>\n",
       "      <td>books</td>\n",
       "      <td>1.579464</td>\n",
       "      <td>0.303000</td>\n",
       "    </tr>\n",
       "    <tr>\n",
       "      <th>2</th>\n",
       "      <td>0</td>\n",
       "      <td>best</td>\n",
       "      <td>1.407887</td>\n",
       "      <td>0.196492</td>\n",
       "    </tr>\n",
       "    <tr>\n",
       "      <th>3</th>\n",
       "      <td>0</td>\n",
       "      <td>tells</td>\n",
       "      <td>0.393815</td>\n",
       "      <td>0.416312</td>\n",
       "    </tr>\n",
       "    <tr>\n",
       "      <th>4</th>\n",
       "      <td>0</td>\n",
       "      <td>political</td>\n",
       "      <td>-0.128326</td>\n",
       "      <td>0.334137</td>\n",
       "    </tr>\n",
       "    <tr>\n",
       "      <th>5</th>\n",
       "      <td>0</td>\n",
       "      <td>read</td>\n",
       "      <td>-0.189440</td>\n",
       "      <td>0.313954</td>\n",
       "    </tr>\n",
       "    <tr>\n",
       "      <th>6</th>\n",
       "      <td>0</td>\n",
       "      <td>matter</td>\n",
       "      <td>-0.437461</td>\n",
       "      <td>0.353921</td>\n",
       "    </tr>\n",
       "    <tr>\n",
       "      <th>7</th>\n",
       "      <td>0</td>\n",
       "      <td>politics</td>\n",
       "      <td>-0.581412</td>\n",
       "      <td>0.372047</td>\n",
       "    </tr>\n",
       "    <tr>\n",
       "      <th>8</th>\n",
       "      <td>0</td>\n",
       "      <td>truth</td>\n",
       "      <td>-1.395180</td>\n",
       "      <td>0.385132</td>\n",
       "    </tr>\n",
       "    <tr>\n",
       "      <th>9</th>\n",
       "      <td>0</td>\n",
       "      <td>indian</td>\n",
       "      <td>-2.315171</td>\n",
       "      <td>0.272114</td>\n",
       "    </tr>\n",
       "  </tbody>\n",
       "</table>\n",
       "</div>"
      ],
      "text/plain": [
       "   target    feature    weight     value\n",
       "0       0     <BIAS>  7.061682  1.000000\n",
       "1       0      books  1.579464  0.303000\n",
       "2       0       best  1.407887  0.196492\n",
       "3       0      tells  0.393815  0.416312\n",
       "4       0  political -0.128326  0.334137\n",
       "5       0       read -0.189440  0.313954\n",
       "6       0     matter -0.437461  0.353921\n",
       "7       0   politics -0.581412  0.372047\n",
       "8       0      truth -1.395180  0.385132\n",
       "9       0     indian -2.315171  0.272114"
      ]
     },
     "execution_count": 59,
     "metadata": {},
     "output_type": "execute_result"
    }
   ],
   "source": [
    "eli_df.explain_prediction_df(clf, df['question_text'][666], vec=vect, target_names=df['target'])"
   ]
  },
  {
   "cell_type": "code",
   "execution_count": 87,
   "metadata": {
    "colab": {
     "base_uri": "https://localhost:8080/",
     "height": 168
    },
    "executionInfo": {
     "elapsed": 219,
     "status": "ok",
     "timestamp": 1622146555104,
     "user": {
      "displayName": "Тимур Каханович",
      "photoUrl": "",
      "userId": "01126912824027436107"
     },
     "user_tz": -180
    },
    "id": "acEtWK-G0qZg",
    "outputId": "05d05ddf-672b-4b65-b39f-f88ea27db31a"
   },
   "outputs": [
    {
     "data": {
      "text/html": [
       "\n",
       "    <style>\n",
       "    table.eli5-weights tr:hover {\n",
       "        filter: brightness(85%);\n",
       "    }\n",
       "</style>\n",
       "\n",
       "\n",
       "\n",
       "    \n",
       "\n",
       "    \n",
       "\n",
       "    \n",
       "\n",
       "    \n",
       "\n",
       "    \n",
       "\n",
       "    \n",
       "\n",
       "\n",
       "    \n",
       "\n",
       "    \n",
       "\n",
       "    \n",
       "\n",
       "    \n",
       "        \n",
       "\n",
       "    \n",
       "\n",
       "        \n",
       "\n",
       "        \n",
       "    \n",
       "        \n",
       "        \n",
       "    \n",
       "        <p style=\"margin-bottom: 0.5em; margin-top: 0em\">\n",
       "            <b>\n",
       "    \n",
       "        y=0\n",
       "    \n",
       "</b>\n",
       "\n",
       "    \n",
       "    (probability <b>0.615</b>, score <b>-0.230</b>)\n",
       "\n",
       "top features\n",
       "        </p>\n",
       "    \n",
       "    <table class=\"eli5-weights\"\n",
       "           style=\"border-collapse: collapse; border: none; margin-top: 0em; table-layout: auto; margin-bottom: 2em;\">\n",
       "        <thead>\n",
       "        <tr style=\"border: none;\">\n",
       "            \n",
       "                <th style=\"padding: 0 1em 0 0.5em; text-align: right; border: none;\" title=\"Feature contribution already accounts for the feature value (for linear models, contribution = weight * feature value), and the sum of feature contributions is equal to the score or, for some classifiers, to the probability. Feature values are shown if &quot;show_feature_values&quot; is True.\">\n",
       "                    Contribution<sup>?</sup>\n",
       "                </th>\n",
       "            \n",
       "            <th style=\"padding: 0 0.5em 0 0.5em; text-align: left; border: none;\">Feature</th>\n",
       "            \n",
       "        </tr>\n",
       "        </thead>\n",
       "        <tbody>\n",
       "        \n",
       "            <tr style=\"background-color: hsl(120, 100.00%, 80.00%); border: none;\">\n",
       "    <td style=\"padding: 0 1em 0 0.5em; text-align: right; border: none;\">\n",
       "        +0.603\n",
       "    </td>\n",
       "    <td style=\"padding: 0 0.5em 0 0.5em; text-align: left; border: none;\">\n",
       "        &lt;BIAS&gt;\n",
       "    </td>\n",
       "    \n",
       "</tr>\n",
       "        \n",
       "        \n",
       "\n",
       "        \n",
       "        \n",
       "            <tr style=\"background-color: hsl(0, 100.00%, 85.72%); border: none;\">\n",
       "    <td style=\"padding: 0 1em 0 0.5em; text-align: right; border: none;\">\n",
       "        -0.373\n",
       "    </td>\n",
       "    <td style=\"padding: 0 0.5em 0 0.5em; text-align: left; border: none;\">\n",
       "        Highlighted in text (sum)\n",
       "    </td>\n",
       "    \n",
       "</tr>\n",
       "        \n",
       "\n",
       "        </tbody>\n",
       "    </table>\n",
       "\n",
       "    \n",
       "\n",
       "\n",
       "\n",
       "    <p style=\"margin-bottom: 2.5em; margin-top:-0.5em;\">\n",
       "        <span style=\"opacity: 0.80\">which are the </span><span style=\"background-color: hsl(120, 100.00%, 73.83%); opacity: 0.91\" title=\"0.194\">best</span><span style=\"opacity: 0.80\"> </span><span style=\"background-color: hsl(120, 100.00%, 71.21%); opacity: 0.93\" title=\"0.222\">books</span><span style=\"opacity: 0.80\"> to </span><span style=\"background-color: hsl(120, 100.00%, 91.35%); opacity: 0.82\" title=\"0.040\">read</span><span style=\"opacity: 0.80\"> for </span><span style=\"background-color: hsl(0, 100.00%, 60.00%); opacity: 1.00\" title=\"-0.355\">indian</span><span style=\"opacity: 0.80\"> </span><span style=\"background-color: hsl(0, 100.00%, 84.14%); opacity: 0.85\" title=\"-0.095\">politics</span><span style=\"opacity: 0.80\"> and which </span><span style=\"background-color: hsl(120, 100.00%, 98.22%); opacity: 0.80\" title=\"0.004\">tells</span><span style=\"opacity: 0.80\"> </span><span style=\"background-color: hsl(0, 100.00%, 69.97%); opacity: 0.93\" title=\"-0.236\">truth</span><span style=\"opacity: 0.80\"> about all the </span><span style=\"background-color: hsl(0, 100.00%, 82.25%); opacity: 0.86\" title=\"-0.111\">political</span><span style=\"opacity: 0.80\"> </span><span style=\"background-color: hsl(0, 100.00%, 92.02%); opacity: 0.82\" title=\"-0.036\">matter</span><span style=\"opacity: 0.80\">?</span>\n",
       "    </p>\n",
       "\n",
       "\n",
       "    \n",
       "\n",
       "    \n",
       "\n",
       "    \n",
       "\n",
       "    \n",
       "\n",
       "\n",
       "    \n",
       "\n",
       "    \n",
       "\n",
       "    \n",
       "\n",
       "    \n",
       "\n",
       "    \n",
       "\n",
       "    \n",
       "\n",
       "\n",
       "    \n",
       "\n",
       "    \n",
       "\n",
       "    \n",
       "\n",
       "    \n",
       "\n",
       "    \n",
       "\n",
       "    \n",
       "\n",
       "\n",
       "\n"
      ],
      "text/plain": [
       "<IPython.core.display.HTML object>"
      ]
     },
     "execution_count": 87,
     "metadata": {},
     "output_type": "execute_result"
    }
   ],
   "source": [
    "eli5.show_prediction(clf_ex, df['question_text'][666], vec=vect_ex, target_names=df['target'])"
   ]
  },
  {
   "cell_type": "code",
   "execution_count": 88,
   "metadata": {
    "colab": {
     "base_uri": "https://localhost:8080/",
     "height": 254
    },
    "executionInfo": {
     "elapsed": 495,
     "status": "ok",
     "timestamp": 1622146562465,
     "user": {
      "displayName": "Тимур Каханович",
      "photoUrl": "",
      "userId": "01126912824027436107"
     },
     "user_tz": -180
    },
    "id": "BcRvOt68z8Qk",
    "outputId": "2d272efc-d534-4a3a-e146-6393be1c3f34"
   },
   "outputs": [
    {
     "data": {
      "text/html": [
       "<div>\n",
       "<style scoped>\n",
       "    .dataframe tbody tr th:only-of-type {\n",
       "        vertical-align: middle;\n",
       "    }\n",
       "\n",
       "    .dataframe tbody tr th {\n",
       "        vertical-align: top;\n",
       "    }\n",
       "\n",
       "    .dataframe thead th {\n",
       "        text-align: right;\n",
       "    }\n",
       "</style>\n",
       "<table border=\"1\" class=\"dataframe\">\n",
       "  <thead>\n",
       "    <tr style=\"text-align: right;\">\n",
       "      <th></th>\n",
       "      <th>target</th>\n",
       "      <th>feature</th>\n",
       "      <th>weight</th>\n",
       "      <th>value</th>\n",
       "    </tr>\n",
       "  </thead>\n",
       "  <tbody>\n",
       "    <tr>\n",
       "      <th>0</th>\n",
       "      <td>0</td>\n",
       "      <td>&lt;BIAS&gt;</td>\n",
       "      <td>0.602594</td>\n",
       "      <td>1.000000</td>\n",
       "    </tr>\n",
       "    <tr>\n",
       "      <th>1</th>\n",
       "      <td>0</td>\n",
       "      <td>books</td>\n",
       "      <td>0.221983</td>\n",
       "      <td>0.303000</td>\n",
       "    </tr>\n",
       "    <tr>\n",
       "      <th>2</th>\n",
       "      <td>0</td>\n",
       "      <td>best</td>\n",
       "      <td>0.193653</td>\n",
       "      <td>0.196492</td>\n",
       "    </tr>\n",
       "    <tr>\n",
       "      <th>3</th>\n",
       "      <td>0</td>\n",
       "      <td>read</td>\n",
       "      <td>0.039808</td>\n",
       "      <td>0.313954</td>\n",
       "    </tr>\n",
       "    <tr>\n",
       "      <th>4</th>\n",
       "      <td>0</td>\n",
       "      <td>tells</td>\n",
       "      <td>0.004158</td>\n",
       "      <td>0.416312</td>\n",
       "    </tr>\n",
       "    <tr>\n",
       "      <th>5</th>\n",
       "      <td>0</td>\n",
       "      <td>matter</td>\n",
       "      <td>-0.035506</td>\n",
       "      <td>0.353921</td>\n",
       "    </tr>\n",
       "    <tr>\n",
       "      <th>6</th>\n",
       "      <td>0</td>\n",
       "      <td>politics</td>\n",
       "      <td>-0.094662</td>\n",
       "      <td>0.372047</td>\n",
       "    </tr>\n",
       "    <tr>\n",
       "      <th>7</th>\n",
       "      <td>0</td>\n",
       "      <td>political</td>\n",
       "      <td>-0.111199</td>\n",
       "      <td>0.334137</td>\n",
       "    </tr>\n",
       "    <tr>\n",
       "      <th>8</th>\n",
       "      <td>0</td>\n",
       "      <td>truth</td>\n",
       "      <td>-0.235734</td>\n",
       "      <td>0.385132</td>\n",
       "    </tr>\n",
       "    <tr>\n",
       "      <th>9</th>\n",
       "      <td>0</td>\n",
       "      <td>indian</td>\n",
       "      <td>-0.355033</td>\n",
       "      <td>0.272114</td>\n",
       "    </tr>\n",
       "  </tbody>\n",
       "</table>\n",
       "</div>"
      ],
      "text/plain": [
       "   target    feature    weight     value\n",
       "0       0     <BIAS>  0.602594  1.000000\n",
       "1       0      books  0.221983  0.303000\n",
       "2       0       best  0.193653  0.196492\n",
       "3       0       read  0.039808  0.313954\n",
       "4       0      tells  0.004158  0.416312\n",
       "5       0     matter -0.035506  0.353921\n",
       "6       0   politics -0.094662  0.372047\n",
       "7       0  political -0.111199  0.334137\n",
       "8       0      truth -0.235734  0.385132\n",
       "9       0     indian -0.355033  0.272114"
      ]
     },
     "execution_count": 88,
     "metadata": {},
     "output_type": "execute_result"
    }
   ],
   "source": [
    "eli_df.explain_prediction_df(clf_ex, df['question_text'][666], vec=vect_ex, target_names=df['target'])"
   ]
  },
  {
   "cell_type": "code",
   "execution_count": 60,
   "metadata": {
    "colab": {
     "base_uri": "https://localhost:8080/",
     "height": 168
    },
    "executionInfo": {
     "elapsed": 455,
     "status": "ok",
     "timestamp": 1622146745728,
     "user": {
      "displayName": "Тимур Каханович",
      "photoUrl": "",
      "userId": "01126912824027436107"
     },
     "user_tz": -180
    },
    "id": "bcJ7GHEder-Y",
    "outputId": "3b3b0abc-16e8-4b9b-d8c7-188f3cbe03b8"
   },
   "outputs": [
    {
     "data": {
      "text/html": [
       "\n",
       "    <style>\n",
       "    table.eli5-weights tr:hover {\n",
       "        filter: brightness(85%);\n",
       "    }\n",
       "</style>\n",
       "\n",
       "\n",
       "\n",
       "    \n",
       "\n",
       "    \n",
       "\n",
       "    \n",
       "\n",
       "    \n",
       "\n",
       "    \n",
       "\n",
       "    \n",
       "\n",
       "\n",
       "    \n",
       "\n",
       "    \n",
       "\n",
       "    \n",
       "\n",
       "    \n",
       "        \n",
       "\n",
       "    \n",
       "\n",
       "        \n",
       "\n",
       "        \n",
       "    \n",
       "        \n",
       "        \n",
       "    \n",
       "        <p style=\"margin-bottom: 0.5em; margin-top: 0em\">\n",
       "            <b>\n",
       "    \n",
       "        y=0\n",
       "    \n",
       "</b>\n",
       "\n",
       "    \n",
       "    (probability <b>1.000</b>, score <b>-9.102</b>)\n",
       "\n",
       "top features\n",
       "        </p>\n",
       "    \n",
       "    <table class=\"eli5-weights\"\n",
       "           style=\"border-collapse: collapse; border: none; margin-top: 0em; table-layout: auto; margin-bottom: 2em;\">\n",
       "        <thead>\n",
       "        <tr style=\"border: none;\">\n",
       "            \n",
       "                <th style=\"padding: 0 1em 0 0.5em; text-align: right; border: none;\" title=\"Feature contribution already accounts for the feature value (for linear models, contribution = weight * feature value), and the sum of feature contributions is equal to the score or, for some classifiers, to the probability. Feature values are shown if &quot;show_feature_values&quot; is True.\">\n",
       "                    Contribution<sup>?</sup>\n",
       "                </th>\n",
       "            \n",
       "            <th style=\"padding: 0 0.5em 0 0.5em; text-align: left; border: none;\">Feature</th>\n",
       "            \n",
       "        </tr>\n",
       "        </thead>\n",
       "        <tbody>\n",
       "        \n",
       "            <tr style=\"background-color: hsl(120, 100.00%, 80.00%); border: none;\">\n",
       "    <td style=\"padding: 0 1em 0 0.5em; text-align: right; border: none;\">\n",
       "        +7.062\n",
       "    </td>\n",
       "    <td style=\"padding: 0 0.5em 0 0.5em; text-align: left; border: none;\">\n",
       "        &lt;BIAS&gt;\n",
       "    </td>\n",
       "    \n",
       "</tr>\n",
       "        \n",
       "            <tr style=\"background-color: hsl(120, 100.00%, 91.61%); border: none;\">\n",
       "    <td style=\"padding: 0 1em 0 0.5em; text-align: right; border: none;\">\n",
       "        +2.041\n",
       "    </td>\n",
       "    <td style=\"padding: 0 0.5em 0 0.5em; text-align: left; border: none;\">\n",
       "        Highlighted in text (sum)\n",
       "    </td>\n",
       "    \n",
       "</tr>\n",
       "        \n",
       "        \n",
       "\n",
       "        \n",
       "        \n",
       "\n",
       "        </tbody>\n",
       "    </table>\n",
       "\n",
       "    \n",
       "\n",
       "\n",
       "\n",
       "    <p style=\"margin-bottom: 2.5em; margin-top:-0.5em;\">\n",
       "        <span style=\"opacity: 0.80\">what should be </span><span style=\"background-color: hsl(0, 100.00%, 95.48%); opacity: 0.81\" title=\"-0.108\">added</span><span style=\"opacity: 0.80\"> to </span><span style=\"background-color: hsl(120, 100.00%, 60.00%); opacity: 1.00\" title=\"2.434\">thrice</span><span style=\"opacity: 0.80\"> the </span><span style=\"background-color: hsl(0, 100.00%, 72.40%); opacity: 0.92\" title=\"-1.432\">rational</span><span style=\"opacity: 0.80\"> </span><span style=\"background-color: hsl(120, 100.00%, 76.38%); opacity: 0.89\" title=\"1.147\">number</span><span style=\"opacity: 0.80\"> -8/9 to get 4/7?</span>\n",
       "    </p>\n",
       "\n",
       "\n",
       "    \n",
       "\n",
       "    \n",
       "\n",
       "    \n",
       "\n",
       "    \n",
       "\n",
       "\n",
       "    \n",
       "\n",
       "    \n",
       "\n",
       "    \n",
       "\n",
       "    \n",
       "\n",
       "    \n",
       "\n",
       "    \n",
       "\n",
       "\n",
       "    \n",
       "\n",
       "    \n",
       "\n",
       "    \n",
       "\n",
       "    \n",
       "\n",
       "    \n",
       "\n",
       "    \n",
       "\n",
       "\n",
       "\n"
      ],
      "text/plain": [
       "<IPython.core.display.HTML object>"
      ]
     },
     "execution_count": 60,
     "metadata": {},
     "output_type": "execute_result"
    }
   ],
   "source": [
    "eli5.show_prediction(clf, df['question_text'][111], vec=vect, target_names=df['target'])"
   ]
  },
  {
   "cell_type": "code",
   "execution_count": 61,
   "metadata": {
    "colab": {
     "base_uri": "https://localhost:8080/",
     "height": 373
    },
    "executionInfo": {
     "elapsed": 358,
     "status": "ok",
     "timestamp": 1622146771247,
     "user": {
      "displayName": "Тимур Каханович",
      "photoUrl": "",
      "userId": "01126912824027436107"
     },
     "user_tz": -180
    },
    "id": "7kG-j7hAe1hI",
    "outputId": "f9060d16-24d7-47ea-ec4b-24163e0ce11e"
   },
   "outputs": [
    {
     "data": {
      "text/html": [
       "<div>\n",
       "<style scoped>\n",
       "    .dataframe tbody tr th:only-of-type {\n",
       "        vertical-align: middle;\n",
       "    }\n",
       "\n",
       "    .dataframe tbody tr th {\n",
       "        vertical-align: top;\n",
       "    }\n",
       "\n",
       "    .dataframe thead th {\n",
       "        text-align: right;\n",
       "    }\n",
       "</style>\n",
       "<table border=\"1\" class=\"dataframe\">\n",
       "  <thead>\n",
       "    <tr style=\"text-align: right;\">\n",
       "      <th></th>\n",
       "      <th>target</th>\n",
       "      <th>feature</th>\n",
       "      <th>weight</th>\n",
       "      <th>value</th>\n",
       "    </tr>\n",
       "  </thead>\n",
       "  <tbody>\n",
       "    <tr>\n",
       "      <th>0</th>\n",
       "      <td>0</td>\n",
       "      <td>&lt;BIAS&gt;</td>\n",
       "      <td>7.061682</td>\n",
       "      <td>1.000000</td>\n",
       "    </tr>\n",
       "    <tr>\n",
       "      <th>1</th>\n",
       "      <td>0</td>\n",
       "      <td>thrice</td>\n",
       "      <td>2.434429</td>\n",
       "      <td>0.621196</td>\n",
       "    </tr>\n",
       "    <tr>\n",
       "      <th>2</th>\n",
       "      <td>0</td>\n",
       "      <td>number</td>\n",
       "      <td>1.146821</td>\n",
       "      <td>0.351728</td>\n",
       "    </tr>\n",
       "    <tr>\n",
       "      <th>3</th>\n",
       "      <td>0</td>\n",
       "      <td>added</td>\n",
       "      <td>-0.108006</td>\n",
       "      <td>0.471737</td>\n",
       "    </tr>\n",
       "    <tr>\n",
       "      <th>4</th>\n",
       "      <td>0</td>\n",
       "      <td>rational</td>\n",
       "      <td>-1.432470</td>\n",
       "      <td>0.517559</td>\n",
       "    </tr>\n",
       "  </tbody>\n",
       "</table>\n",
       "</div>"
      ],
      "text/plain": [
       "   target   feature    weight     value\n",
       "0       0    <BIAS>  7.061682  1.000000\n",
       "1       0    thrice  2.434429  0.621196\n",
       "2       0    number  1.146821  0.351728\n",
       "3       0     added -0.108006  0.471737\n",
       "4       0  rational -1.432470  0.517559"
      ]
     },
     "execution_count": 61,
     "metadata": {},
     "output_type": "execute_result"
    }
   ],
   "source": [
    "eli_df.explain_prediction_df(clf, df['question_text'][111], vec=vect, target_names=df['target'])"
   ]
  },
  {
   "cell_type": "code",
   "execution_count": 89,
   "metadata": {
    "colab": {
     "base_uri": "https://localhost:8080/",
     "height": 168
    },
    "executionInfo": {
     "elapsed": 219,
     "status": "ok",
     "timestamp": 1622146555104,
     "user": {
      "displayName": "Тимур Каханович",
      "photoUrl": "",
      "userId": "01126912824027436107"
     },
     "user_tz": -180
    },
    "id": "acEtWK-G0qZg",
    "outputId": "05d05ddf-672b-4b65-b39f-f88ea27db31a"
   },
   "outputs": [
    {
     "data": {
      "text/html": [
       "\n",
       "    <style>\n",
       "    table.eli5-weights tr:hover {\n",
       "        filter: brightness(85%);\n",
       "    }\n",
       "</style>\n",
       "\n",
       "\n",
       "\n",
       "    \n",
       "\n",
       "    \n",
       "\n",
       "    \n",
       "\n",
       "    \n",
       "\n",
       "    \n",
       "\n",
       "    \n",
       "\n",
       "\n",
       "    \n",
       "\n",
       "    \n",
       "\n",
       "    \n",
       "\n",
       "    \n",
       "        \n",
       "\n",
       "    \n",
       "\n",
       "        \n",
       "\n",
       "        \n",
       "    \n",
       "        \n",
       "        \n",
       "    \n",
       "        <p style=\"margin-bottom: 0.5em; margin-top: 0em\">\n",
       "            <b>\n",
       "    \n",
       "        y=0\n",
       "    \n",
       "</b>\n",
       "\n",
       "    \n",
       "    (probability <b>0.824</b>, score <b>-0.648</b>)\n",
       "\n",
       "top features\n",
       "        </p>\n",
       "    \n",
       "    <table class=\"eli5-weights\"\n",
       "           style=\"border-collapse: collapse; border: none; margin-top: 0em; table-layout: auto; margin-bottom: 2em;\">\n",
       "        <thead>\n",
       "        <tr style=\"border: none;\">\n",
       "            \n",
       "                <th style=\"padding: 0 1em 0 0.5em; text-align: right; border: none;\" title=\"Feature contribution already accounts for the feature value (for linear models, contribution = weight * feature value), and the sum of feature contributions is equal to the score or, for some classifiers, to the probability. Feature values are shown if &quot;show_feature_values&quot; is True.\">\n",
       "                    Contribution<sup>?</sup>\n",
       "                </th>\n",
       "            \n",
       "            <th style=\"padding: 0 0.5em 0 0.5em; text-align: left; border: none;\">Feature</th>\n",
       "            \n",
       "        </tr>\n",
       "        </thead>\n",
       "        <tbody>\n",
       "        \n",
       "            <tr style=\"background-color: hsl(120, 100.00%, 80.00%); border: none;\">\n",
       "    <td style=\"padding: 0 1em 0 0.5em; text-align: right; border: none;\">\n",
       "        +0.603\n",
       "    </td>\n",
       "    <td style=\"padding: 0 0.5em 0 0.5em; text-align: left; border: none;\">\n",
       "        &lt;BIAS&gt;\n",
       "    </td>\n",
       "    \n",
       "</tr>\n",
       "        \n",
       "            <tr style=\"background-color: hsl(120, 100.00%, 96.75%); border: none;\">\n",
       "    <td style=\"padding: 0 1em 0 0.5em; text-align: right; border: none;\">\n",
       "        +0.045\n",
       "    </td>\n",
       "    <td style=\"padding: 0 0.5em 0 0.5em; text-align: left; border: none;\">\n",
       "        Highlighted in text (sum)\n",
       "    </td>\n",
       "    \n",
       "</tr>\n",
       "        \n",
       "        \n",
       "\n",
       "        \n",
       "        \n",
       "\n",
       "        </tbody>\n",
       "    </table>\n",
       "\n",
       "    \n",
       "\n",
       "\n",
       "\n",
       "    <p style=\"margin-bottom: 2.5em; margin-top:-0.5em;\">\n",
       "        <span style=\"opacity: 0.80\">what should be added to thrice the </span><span style=\"background-color: hsl(0, 100.00%, 70.91%); opacity: 0.93\" title=\"-0.078\">rational</span><span style=\"opacity: 0.80\"> </span><span style=\"background-color: hsl(120, 100.00%, 60.00%); opacity: 1.00\" title=\"0.123\">number</span><span style=\"opacity: 0.80\"> -8/9 to get 4/7?</span>\n",
       "    </p>\n",
       "\n",
       "\n",
       "    \n",
       "\n",
       "    \n",
       "\n",
       "    \n",
       "\n",
       "    \n",
       "\n",
       "\n",
       "    \n",
       "\n",
       "    \n",
       "\n",
       "    \n",
       "\n",
       "    \n",
       "\n",
       "    \n",
       "\n",
       "    \n",
       "\n",
       "\n",
       "    \n",
       "\n",
       "    \n",
       "\n",
       "    \n",
       "\n",
       "    \n",
       "\n",
       "    \n",
       "\n",
       "    \n",
       "\n",
       "\n",
       "\n"
      ],
      "text/plain": [
       "<IPython.core.display.HTML object>"
      ]
     },
     "execution_count": 89,
     "metadata": {},
     "output_type": "execute_result"
    }
   ],
   "source": [
    "eli5.show_prediction(clf_ex, df['question_text'][111], vec=vect_ex, target_names=df['target'])"
   ]
  },
  {
   "cell_type": "code",
   "execution_count": 90,
   "metadata": {
    "colab": {
     "base_uri": "https://localhost:8080/",
     "height": 254
    },
    "executionInfo": {
     "elapsed": 495,
     "status": "ok",
     "timestamp": 1622146562465,
     "user": {
      "displayName": "Тимур Каханович",
      "photoUrl": "",
      "userId": "01126912824027436107"
     },
     "user_tz": -180
    },
    "id": "BcRvOt68z8Qk",
    "outputId": "2d272efc-d534-4a3a-e146-6393be1c3f34"
   },
   "outputs": [
    {
     "data": {
      "text/html": [
       "<div>\n",
       "<style scoped>\n",
       "    .dataframe tbody tr th:only-of-type {\n",
       "        vertical-align: middle;\n",
       "    }\n",
       "\n",
       "    .dataframe tbody tr th {\n",
       "        vertical-align: top;\n",
       "    }\n",
       "\n",
       "    .dataframe thead th {\n",
       "        text-align: right;\n",
       "    }\n",
       "</style>\n",
       "<table border=\"1\" class=\"dataframe\">\n",
       "  <thead>\n",
       "    <tr style=\"text-align: right;\">\n",
       "      <th></th>\n",
       "      <th>target</th>\n",
       "      <th>feature</th>\n",
       "      <th>weight</th>\n",
       "      <th>value</th>\n",
       "    </tr>\n",
       "  </thead>\n",
       "  <tbody>\n",
       "    <tr>\n",
       "      <th>0</th>\n",
       "      <td>0</td>\n",
       "      <td>&lt;BIAS&gt;</td>\n",
       "      <td>0.602594</td>\n",
       "      <td>1.000000</td>\n",
       "    </tr>\n",
       "    <tr>\n",
       "      <th>1</th>\n",
       "      <td>0</td>\n",
       "      <td>number</td>\n",
       "      <td>0.123072</td>\n",
       "      <td>0.351728</td>\n",
       "    </tr>\n",
       "    <tr>\n",
       "      <th>2</th>\n",
       "      <td>0</td>\n",
       "      <td>rational</td>\n",
       "      <td>-0.078087</td>\n",
       "      <td>0.517559</td>\n",
       "    </tr>\n",
       "  </tbody>\n",
       "</table>\n",
       "</div>"
      ],
      "text/plain": [
       "   target   feature    weight     value\n",
       "0       0    <BIAS>  0.602594  1.000000\n",
       "1       0    number  0.123072  0.351728\n",
       "2       0  rational -0.078087  0.517559"
      ]
     },
     "execution_count": 90,
     "metadata": {},
     "output_type": "execute_result"
    }
   ],
   "source": [
    "eli_df.explain_prediction_df(clf_ex, df['question_text'][111], vec=vect_ex, target_names=df['target'])"
   ]
  },
  {
   "cell_type": "markdown",
   "metadata": {
    "id": "UjOKgF1me8Np"
   },
   "source": [
    "Выше можно видеть, на основе чего модель приняла то или иное решение. Как правило, она очень уверена в тех ответах, где максимально много слов вносят позитивный или негативный оттенок в предложение."
   ]
  },
  {
   "cell_type": "markdown",
   "metadata": {},
   "source": [
    "# Часть 1.5 Стемминг и лемматизация"
   ]
  },
  {
   "cell_type": "markdown",
   "metadata": {},
   "source": [
    "Проведите для текстов стемминг и лемматизацию. Поскольку это процесс не быстрый, лучше сохранить предобработанные тексты в отдельный столбец DataFrame. Обучите модель на стеммированных и лемматизированных данных, сравните размер словаря"
   ]
  },
  {
   "cell_type": "markdown",
   "metadata": {},
   "source": [
    "Лемматизация и стемминг – это частные случаи нормализации и они отличаются.\n",
    "\n",
    "Стемминг – это грубый эвристический процесс, который отрезает «лишнее» от корня слов, часто это приводит к потере словообразовательных суффиксов.\n",
    "\n",
    "Лемматизация – это более тонкий процесс, который использует словарь и морфологический анализ, чтобы в итоге привести слово к его канонической форме – лемме.\n",
    "\n",
    "Отличие в том, что стемминг действует без знания контекста и, соответственно, не понимает разницу между словами, которые имеют разный смысл в зависимости от части речи. Однако у стеммеров есть и свои преимущества: их проще внедрить и они работают быстрее. Плюс, более низкая «аккуратность» может не иметь значения в некоторых случаях.\n",
    "\n",
    "Примеры:\n",
    "Слово good – это лемма для слова better. Стеммер не увидит эту связь, так как здесь нужно сверяться со словарем.\n",
    "Слово play – это базовая форма слова playing. Тут справятся и стемминг, и лемматизация.\n",
    "Слово meeting может быть как нормальной формой существительного, так и формой глагола to meet, в зависимости от контекста. В отличие от стемминга, лемматизация попробует выбрать правильную лемму, опираясь на контекст."
   ]
  },
  {
   "cell_type": "code",
   "execution_count": 18,
   "metadata": {},
   "outputs": [],
   "source": [
    "from nltk.stem import SnowballStemmer, WordNetLemmatizer, LancasterStemmer"
   ]
  },
  {
   "cell_type": "code",
   "execution_count": 19,
   "metadata": {},
   "outputs": [],
   "source": [
    "from functools import lru_cache"
   ]
  },
  {
   "cell_type": "code",
   "execution_count": 21,
   "metadata": {},
   "outputs": [],
   "source": [
    "# эта вспомогательная функция поможет вам чуть быстрее пройтись по всему тексту\n",
    "# обратите внимание, что лемматизация будет в основном работать только для слов в нижнем регистре!\n",
    "\n",
    "LEMMATIZER = WordNetLemmatizer()\n",
    "\n",
    "@lru_cache(maxsize=2048)\n",
    "def lemmatize_word(word):\n",
    "    parts = ['a','v','n','r']\n",
    "    for part in parts:\n",
    "        temp = LEMMATIZER.lemmatize(word, part)\n",
    "        if temp != word:\n",
    "            return temp\n",
    "    return word    "
   ]
  },
  {
   "cell_type": "code",
   "execution_count": 20,
   "metadata": {},
   "outputs": [],
   "source": [
    "stemmer = SnowballStemmer('english')"
   ]
  },
  {
   "cell_type": "code",
   "execution_count": 23,
   "metadata": {},
   "outputs": [
    {
     "name": "stdout",
     "output_type": "stream",
     "text": [
      "have\n",
      "have\n"
     ]
    }
   ],
   "source": [
    "print(lemmatize_word('having'))\n",
    "print(stemmer.stem('having'))"
   ]
  },
  {
   "cell_type": "code",
   "execution_count": 24,
   "metadata": {},
   "outputs": [
    {
     "name": "stdout",
     "output_type": "stream",
     "text": [
      "toler\n",
      "toler\n"
     ]
    }
   ],
   "source": [
    "print(stemmer.stem('tolerant'))\n",
    "print(stemmer.stem('tolerable'))"
   ]
  },
  {
   "cell_type": "code",
   "execution_count": 22,
   "metadata": {
    "id": "ef14rTHw3q7d"
   },
   "outputs": [],
   "source": [
    "tokenized = [sklearn_tokenizer(text) for text in df['question_text']]"
   ]
  },
  {
   "cell_type": "code",
   "execution_count": 23,
   "metadata": {
    "id": "mfzEHD4_3Ef5"
   },
   "outputs": [],
   "source": [
    "def lemmatize_data(tokenized):\n",
    "    for text in tokenized:\n",
    "        lemmatized_words_list = [lemmatize_word(word.lower()) for word in text]\n",
    "        yield ' '.join(lemmatized_words_list)"
   ]
  },
  {
   "cell_type": "code",
   "execution_count": 24,
   "metadata": {
    "id": "Agtmstll68Ny"
   },
   "outputs": [],
   "source": [
    "def stemming_data(tokenized):\n",
    "    for text in tokenized:\n",
    "        stem_words_list = [stemmer.stem(word.lower()) for word in text]\n",
    "        yield ' '.join(stem_words_list)"
   ]
  },
  {
   "cell_type": "code",
   "execution_count": 25,
   "metadata": {
    "id": "PQO1bMwZ5dxA"
   },
   "outputs": [],
   "source": [
    "lemmatized = list(lemmatize_data(tokenized))\n",
    "stemmed = list(stemming_data(tokenized))"
   ]
  },
  {
   "cell_type": "code",
   "execution_count": 101,
   "metadata": {},
   "outputs": [],
   "source": [
    "lemmatized;"
   ]
  },
  {
   "cell_type": "code",
   "execution_count": 26,
   "metadata": {
    "id": "8kTsdknv7MwV"
   },
   "outputs": [],
   "source": [
    "df['lemmatized_text'] = lemmatized\n",
    "df['stemmed_text'] = stemmed"
   ]
  },
  {
   "cell_type": "code",
   "execution_count": 103,
   "metadata": {
    "id": "vkLafBl46QBj"
   },
   "outputs": [],
   "source": [
    "df.to_csv('train_model.csv', index=False)"
   ]
  },
  {
   "cell_type": "code",
   "execution_count": 30,
   "metadata": {
    "colab": {
     "base_uri": "https://localhost:8080/"
    },
    "executionInfo": {
     "elapsed": 353,
     "status": "ok",
     "timestamp": 1622475160023,
     "user": {
      "displayName": "Тимур Каханович",
      "photoUrl": "",
      "userId": "01126912824027436107"
     },
     "user_tz": -180
    },
    "id": "jmAkqZk6893I",
    "outputId": "518a1d50-5636-425a-d7cb-d5e025ce2d73"
   },
   "outputs": [
    {
     "data": {
      "text/plain": [
       "array([['How did Quebec nationalists see their province as a nation in the 1960s?',\n",
       "        'how do quebec nationalist see their province a nation in the 1960s',\n",
       "        'how did quebec nationalist see their provinc as nation in the 1960s'],\n",
       "       ['Do you have an adopted dog, how would you encourage people to adopt and not shop?',\n",
       "        'do you have an adopt dog how would you encourage people to adopt and not shop',\n",
       "        'do you have an adopt dog how would you encourag peopl to adopt and not shop'],\n",
       "       ['Why does velocity affect time? Does velocity affect space geometry?',\n",
       "        'why do velocity affect time do velocity affect space geometry',\n",
       "        'whi doe veloc affect time doe veloc affect space geometri'],\n",
       "       ['How did Otto von Guericke used the Magdeburg hemispheres?',\n",
       "        'how do otto von guericke use the magdeburg hemisphere',\n",
       "        'how did otto von guerick use the magdeburg hemispher'],\n",
       "       ['Can I convert montra helicon D to a mountain bike by just changing the tyres?',\n",
       "        'can convert montra helicon to mountain bike by just change the tyre',\n",
       "        'can convert montra helicon to mountain bike by just chang the tyre'],\n",
       "       ['Is Gaza slowly becoming Auschwitz, Dachau or Treblinka for Palestinians?',\n",
       "        'be gaza slowly become auschwitz dachau or treblinka for palestinian',\n",
       "        'is gaza slowli becom auschwitz dachau or treblinka for palestinian'],\n",
       "       ['Why does Quora automatically ban conservative opinions when reported, but does not do the same for liberal views?',\n",
       "        'why do quora automatically ban conservative opinion when report but do not do the same for liberal view',\n",
       "        'whi doe quora automat ban conserv opinion when report but doe not do the same for liber view'],\n",
       "       ['Is it crazy if I wash or wipe my groceries off? Germs are everywhere.',\n",
       "        'be it crazy if wash or wipe my grocery off germ be everywhere',\n",
       "        'is it crazi if wash or wipe my groceri off germ are everywher'],\n",
       "       ['Is there such a thing as dressing moderately, and if so, how is that different than dressing modestly?',\n",
       "        'be there such thing a dress moderately and if so how be that different than dress modestly',\n",
       "        'is there such thing as dress moder and if so how is that differ than dress modest'],\n",
       "       ['Is it just me or have you ever been in this phase wherein you became ignorant to the people you once loved, completely disregarding their feelings/lives so you get to have something go your way and feel temporarily at ease. How did things change?',\n",
       "        'be it just me or have you ever be in this phase wherein you become ignorant to the people you once love completely disregard their feel live so you get to have something go your way and feel temporarily at ease how do thing change',\n",
       "        'is it just me or have you ever been in this phase wherein you becam ignor to the peopl you onc love complet disregard their feel live so you get to have someth go your way and feel temporarili at eas how did thing chang'],\n",
       "       ['What can you say about feminism?',\n",
       "        'what can you say about feminism',\n",
       "        'what can you say about femin']], dtype=object)"
      ]
     },
     "execution_count": 30,
     "metadata": {},
     "output_type": "execute_result"
    }
   ],
   "source": [
    "df.loc[0:10, ['question_text', 'lemmatized_text', 'stemmed_text']].values"
   ]
  },
  {
   "cell_type": "code",
   "execution_count": 27,
   "metadata": {
    "id": "zGNgEXhZEloK"
   },
   "outputs": [],
   "source": [
    "vect_lem = TfidfVectorizer(stop_words='english').fit(df['lemmatized_text'])\n",
    "vect_stem = TfidfVectorizer(stop_words='english').fit(df['stemmed_text'])"
   ]
  },
  {
   "cell_type": "code",
   "execution_count": 107,
   "metadata": {
    "colab": {
     "base_uri": "https://localhost:8080/"
    },
    "executionInfo": {
     "elapsed": 510,
     "status": "ok",
     "timestamp": 1622291076738,
     "user": {
      "displayName": "Тимур Каханович",
      "photoUrl": "",
      "userId": "01126912824027436107"
     },
     "user_tz": -180
    },
    "id": "LyCAv4dlFM4N",
    "outputId": "7ca5a6f3-efa6-4483-d0e5-455d7dee495a"
   },
   "outputs": [
    {
     "data": {
      "text/plain": [
       "172041"
      ]
     },
     "execution_count": 107,
     "metadata": {},
     "output_type": "execute_result"
    }
   ],
   "source": [
    "len(vect_lem.get_feature_names())"
   ]
  },
  {
   "cell_type": "code",
   "execution_count": 108,
   "metadata": {
    "colab": {
     "base_uri": "https://localhost:8080/"
    },
    "executionInfo": {
     "elapsed": 213,
     "status": "ok",
     "timestamp": 1622291079751,
     "user": {
      "displayName": "Тимур Каханович",
      "photoUrl": "",
      "userId": "01126912824027436107"
     },
     "user_tz": -180
    },
    "id": "ZyuVAlPFFVqy",
    "outputId": "d8c2d897-7c79-4571-d8de-a0b46029bb71"
   },
   "outputs": [
    {
     "data": {
      "text/plain": [
       "153163"
      ]
     },
     "execution_count": 108,
     "metadata": {},
     "output_type": "execute_result"
    }
   ],
   "source": [
    "len(vect_stem.get_feature_names())"
   ]
  },
  {
   "cell_type": "code",
   "execution_count": 32,
   "metadata": {
    "id": "E1dihnORAHKF"
   },
   "outputs": [],
   "source": [
    "clf = SGDClassifier(loss='modified_huber', penalty='elasticnet', alpha=1e-7, average=100, l1_ratio=0.1,\n",
    "                     n_jobs=-1, random_state=42, class_weight='balanced')\n",
    "model = Pipeline([('vect', vect), ('clf', clf)])"
   ]
  },
  {
   "cell_type": "code",
   "execution_count": 110,
   "metadata": {
    "colab": {
     "base_uri": "https://localhost:8080/"
    },
    "executionInfo": {
     "elapsed": 156893,
     "status": "ok",
     "timestamp": 1622371871181,
     "user": {
      "displayName": "Тимур Каханович",
      "photoUrl": "",
      "userId": "01126912824027436107"
     },
     "user_tz": -180
    },
    "id": "thUtyvZPAWNf",
    "outputId": "88bd99e5-c6db-422e-d0d2-01b2d56e9bf5"
   },
   "outputs": [
    {
     "name": "stdout",
     "output_type": "stream",
     "text": [
      "Wall time: 5min 16s\n"
     ]
    }
   ],
   "source": [
    "%%time\n",
    "pred = cross_val_predict(model, df['lemmatized_text'].values, df['target'].values,\n",
    "                          cv=StratifiedKFold(5), n_jobs=-1, \n",
    "                          method='predict_proba')[:, 1]"
   ]
  },
  {
   "cell_type": "code",
   "execution_count": 111,
   "metadata": {
    "colab": {
     "base_uri": "https://localhost:8080/",
     "height": 748
    },
    "executionInfo": {
     "elapsed": 8578,
     "status": "ok",
     "timestamp": 1622371879752,
     "user": {
      "displayName": "Тимур Каханович",
      "photoUrl": "",
      "userId": "01126912824027436107"
     },
     "user_tz": -180
    },
    "id": "fc94k0-mT0gi",
    "outputId": "1dd216b2-ade7-4675-efa9-cf0cb45790e2"
   },
   "outputs": [
    {
     "name": "stdout",
     "output_type": "stream",
     "text": [
      "ROC-AUC score: 0.8837701565576938\n",
      " Best rapids for f1-score: 0.9000000000000002\n",
      " f1-score: 0.5470304505807302\n"
     ]
    },
    {
     "data": {
      "image/png": "[encoded data removed]",
      "text/plain": [
       "<Figure size 1296x576 with 1 Axes>"
      ]
     },
     "metadata": {
      "needs_background": "light"
     },
     "output_type": "display_data"
    },
    {
     "name": "stdout",
     "output_type": "stream",
     "text": [
      "              precision    recall  f1-score   support\n",
      "\n",
      "           0       0.98      0.94      0.96   1225312\n",
      "           1       0.43      0.74      0.55     80810\n",
      "\n",
      "    accuracy                           0.92   1306122\n",
      "   macro avg       0.71      0.84      0.75   1306122\n",
      "weighted avg       0.95      0.92      0.93   1306122\n",
      "\n"
     ]
    }
   ],
   "source": [
    "plot_f1(df['target'].values, pred)"
   ]
  },
  {
   "cell_type": "code",
   "execution_count": 112,
   "metadata": {
    "id": "FGohgZ8mBmhi"
   },
   "outputs": [],
   "source": [
    "clf = SGDClassifier(loss='modified_huber', penalty='elasticnet', alpha=1e-7, average=100, l1_ratio=0.1,\n",
    "                     n_jobs=-1, random_state=42, class_weight='balanced')\n",
    "model = Pipeline([('vect', vect), ('clf', clf)])"
   ]
  },
  {
   "cell_type": "code",
   "execution_count": 113,
   "metadata": {
    "colab": {
     "base_uri": "https://localhost:8080/"
    },
    "executionInfo": {
     "elapsed": 153289,
     "status": "ok",
     "timestamp": 1622372033038,
     "user": {
      "displayName": "Тимур Каханович",
      "photoUrl": "",
      "userId": "01126912824027436107"
     },
     "user_tz": -180
    },
    "id": "LbT0ioHvBnXF",
    "outputId": "35daae43-9531-430d-efcc-6253882fb676"
   },
   "outputs": [
    {
     "name": "stdout",
     "output_type": "stream",
     "text": [
      "Wall time: 4min 2s\n"
     ]
    }
   ],
   "source": [
    "%%time\n",
    "pred3 = cross_val_predict(model, df.stemmed_text.values, df.target.values,\n",
    "                          cv=StratifiedKFold(5), n_jobs=-1, \n",
    "                          method='predict_proba')[:, 1]"
   ]
  },
  {
   "cell_type": "code",
   "execution_count": 114,
   "metadata": {
    "colab": {
     "base_uri": "https://localhost:8080/",
     "height": 748
    },
    "executionInfo": {
     "elapsed": 8398,
     "status": "ok",
     "timestamp": 1622372041427,
     "user": {
      "displayName": "Тимур Каханович",
      "photoUrl": "",
      "userId": "01126912824027436107"
     },
     "user_tz": -180
    },
    "id": "6cUqxDSdUs3R",
    "outputId": "33ffaeed-b980-4447-a292-3798db1957d7"
   },
   "outputs": [
    {
     "name": "stdout",
     "output_type": "stream",
     "text": [
      "ROC-AUC score: 0.8879092014619137\n",
      " Best rapids for f1-score: 0.9000000000000002\n",
      " f1-score: 0.5593525429532592\n"
     ]
    },
    {
     "data": {
      "image/png": "[encoded data removed]",
      "text/plain": [
       "<Figure size 1296x576 with 1 Axes>"
      ]
     },
     "metadata": {
      "needs_background": "light"
     },
     "output_type": "display_data"
    },
    {
     "name": "stdout",
     "output_type": "stream",
     "text": [
      "              precision    recall  f1-score   support\n",
      "\n",
      "           0       0.98      0.94      0.96   1225312\n",
      "           1       0.45      0.75      0.56     80810\n",
      "\n",
      "    accuracy                           0.93   1306122\n",
      "   macro avg       0.71      0.84      0.76   1306122\n",
      "weighted avg       0.95      0.93      0.94   1306122\n",
      "\n"
     ]
    }
   ],
   "source": [
    "plot_f1(df['target'].values, pred3)"
   ]
  },
  {
   "cell_type": "markdown",
   "metadata": {},
   "source": [
    "# Часть 1.6 Оптимизация модели"
   ]
  },
  {
   "cell_type": "markdown",
   "metadata": {},
   "source": [
    "Подберите с помощью GridSearch или RandomizedSearch хорошие параметры вашей модели. Когда вы делаете сетку для пайплайна параметры надо называть так как у внутреннего класса, добавляя названия соответствующего этапа перед ними. Например:"
   ]
  },
  {
   "cell_type": "code",
   "execution_count": 115,
   "metadata": {},
   "outputs": [],
   "source": [
    "grid = {'clf__l1_ration': [0.1, 0.5],\n",
    "        'vect__lowercase': [True, False]\n",
    "        }"
   ]
  },
  {
   "cell_type": "markdown",
   "metadata": {},
   "source": [
    "Попробуйте разные функции ошибок для SGD. Например hinge (внутри получится svm, нельзя будет предсказывать вероятности), modified_huber - комбинация l1 и l2 ошибки для классификации (упоминалась на одной из прошлых лекций). \n",
    "Разную предобработку, параметры, подберите порог принятия решения.\n",
    "\n",
    "Попробуйте уменьшать размер словаря путем комбинации лемматизации (или стемминга) и увеличения min_df. Проанализируйте, как меняется размер словаря, а также качество модели."
   ]
  },
  {
   "cell_type": "code",
   "execution_count": 116,
   "metadata": {
    "id": "ASywvoYV20Og"
   },
   "outputs": [],
   "source": [
    "param_grid = {\n",
    "    'clf__loss': ['modified_huber', 'hinge'],\n",
    "    'vect__min_df': [25, 50],\n",
    "    'vect__vocabulary': [vect_lem.get_feature_names(), vect_stem.get_feature_names()]\n",
    "}"
   ]
  },
  {
   "cell_type": "code",
   "execution_count": 117,
   "metadata": {
    "id": "PfIyDXZt-zZ8"
   },
   "outputs": [],
   "source": [
    "vect = TfidfVectorizer(stop_words='english', lowercase=True)\n",
    "clf = SGDClassifier(penalty='elasticnet', n_jobs=-1, random_state=42, l1_ratio=0.1, alpha=1e-7, class_weight='balanced', average=10)\n",
    "model = Pipeline([('vect', vect), ('clf', clf)])\n",
    "estimator = RandomizedSearchCV(model, param_grid, scoring=f1_make_scorer, n_jobs=-1, n_iter=5, cv=StratifiedKFold(5), random_state=42, verbose=1)"
   ]
  },
  {
   "cell_type": "code",
   "execution_count": 118,
   "metadata": {
    "colab": {
     "base_uri": "https://localhost:8080/"
    },
    "executionInfo": {
     "elapsed": 850335,
     "status": "ok",
     "timestamp": 1622298801042,
     "user": {
      "displayName": "Тимур Каханович",
      "photoUrl": "",
      "userId": "01126912824027436107"
     },
     "user_tz": -180
    },
    "id": "Urc1l0Gl_evD",
    "outputId": "108d4a85-ea45-4675-d951-eca58317f924"
   },
   "outputs": [
    {
     "name": "stdout",
     "output_type": "stream",
     "text": [
      "Fitting 5 folds for each of 5 candidates, totalling 25 fits\n",
      "Wall time: 15min 4s\n"
     ]
    },
    {
     "data": {
      "text/plain": [
       "RandomizedSearchCV(cv=StratifiedKFold(n_splits=5, random_state=None, shuffle=False),\n",
       "                   estimator=Pipeline(steps=[('vect',\n",
       "                                              TfidfVectorizer(stop_words='english')),\n",
       "                                             ('clf',\n",
       "                                              SGDClassifier(alpha=1e-07,\n",
       "                                                            average=10,\n",
       "                                                            class_weight='balanced',\n",
       "                                                            l1_ratio=0.1,\n",
       "                                                            n_jobs=-1,\n",
       "                                                            penalty='elasticnet',\n",
       "                                                            random_state=42))]),\n",
       "                   n_iter=5, n_jobs=-1,\n",
       "                   param_distributions={'clf__loss': ['modified_...\n",
       "                                                              '00000000000000000000000000000000000000000125',\n",
       "                                                              '00000000000000000021e800',\n",
       "                                                              '0000000000000025',\n",
       "                                                              '000000000001',\n",
       "                                                              '00000000001',\n",
       "                                                              '000000001',\n",
       "                                                              '00000001',\n",
       "                                                              '0000001',\n",
       "                                                              '000000199',\n",
       "                                                              '00000030',\n",
       "                                                              '00000100',\n",
       "                                                              '000009808',\n",
       "                                                              '000009820',\n",
       "                                                              '000009920',\n",
       "                                                              '00001',\n",
       "                                                              '00001cm',\n",
       "                                                              '0000218',\n",
       "                                                              '000036', '0001',\n",
       "                                                              '000125', '0002',\n",
       "                                                              '0002673', ...]]},\n",
       "                   random_state=42, scoring=make_scorer(my_f1_score),\n",
       "                   verbose=1)"
      ]
     },
     "execution_count": 118,
     "metadata": {},
     "output_type": "execute_result"
    }
   ],
   "source": [
    "%%time\n",
    "estimator.fit(df['question_text'].values, df['target'].values)"
   ]
  },
  {
   "cell_type": "code",
   "execution_count": 119,
   "metadata": {
    "colab": {
     "base_uri": "https://localhost:8080/"
    },
    "executionInfo": {
     "elapsed": 200,
     "status": "ok",
     "timestamp": 1622299037129,
     "user": {
      "displayName": "Тимур Каханович",
      "photoUrl": "",
      "userId": "01126912824027436107"
     },
     "user_tz": -180
    },
    "id": "Q21AfVmni_jP",
    "outputId": "6a7b1b18-d199-4e4f-cfe9-927dad416b05"
   },
   "outputs": [
    {
     "data": {
      "text/plain": [
       "True"
      ]
     },
     "execution_count": 119,
     "metadata": {},
     "output_type": "execute_result"
    }
   ],
   "source": [
    "estimator.best_params_['vect__vocabulary'] == vect_lem.get_feature_names()"
   ]
  },
  {
   "cell_type": "code",
   "execution_count": 121,
   "metadata": {
    "id": "ZHgQWeouje31"
   },
   "outputs": [],
   "source": [
    "vect = TfidfVectorizer(stop_words='english', lowercase=True, min_df=25, vocabulary=vect_lem.get_feature_names())\n",
    "clf = SGDClassifier(loss='modified_huber', penalty='elasticnet', shuffle=True, n_jobs=-1, random_state=42, l1_ratio=0.1, alpha=1e-7,\n",
    "                    class_weight='balanced', average=10)\n",
    "model = Pipeline([('vect', vect), ('clf', clf)])"
   ]
  },
  {
   "cell_type": "code",
   "execution_count": 122,
   "metadata": {
    "id": "fOlRTs2qjH37"
   },
   "outputs": [],
   "source": [
    "pred5 = cross_val_predict(model, df['question_text'].values, df['target'].values,\n",
    "                          cv=StratifiedKFold(5), n_jobs=-1, \n",
    "                          method='predict_proba')[:, 1]"
   ]
  },
  {
   "cell_type": "code",
   "execution_count": 123,
   "metadata": {
    "colab": {
     "base_uri": "https://localhost:8080/",
     "height": 748
    },
    "executionInfo": {
     "elapsed": 8576,
     "status": "ok",
     "timestamp": 1622372262567,
     "user": {
      "displayName": "Тимур Каханович",
      "photoUrl": "",
      "userId": "01126912824027436107"
     },
     "user_tz": -180
    },
    "id": "7FNyzQshV2Tw",
    "outputId": "09b6d0e1-d323-4220-ba94-9df38ac521df"
   },
   "outputs": [
    {
     "name": "stdout",
     "output_type": "stream",
     "text": [
      "ROC-AUC score: 0.8477400668947378\n",
      " Best rapids for f1-score: 0.9000000000000002\n",
      " f1-score: 0.4440137553016897\n"
     ]
    },
    {
     "data": {
      "image/png": "[encoded data removed]",
      "text/plain": [
       "<Figure size 1296x576 with 1 Axes>"
      ]
     },
     "metadata": {
      "needs_background": "light"
     },
     "output_type": "display_data"
    },
    {
     "name": "stdout",
     "output_type": "stream",
     "text": [
      "              precision    recall  f1-score   support\n",
      "\n",
      "           0       0.98      0.91      0.94   1225312\n",
      "           1       0.33      0.68      0.44     80810\n",
      "\n",
      "    accuracy                           0.89   1306122\n",
      "   macro avg       0.65      0.80      0.69   1306122\n",
      "weighted avg       0.94      0.89      0.91   1306122\n",
      "\n"
     ]
    }
   ],
   "source": [
    "plot_f1(df['target'].values, pred5)"
   ]
  },
  {
   "cell_type": "markdown",
   "metadata": {},
   "source": [
    "# Часть 2 (На 10). Тематическое моделирование"
   ]
  },
  {
   "cell_type": "markdown",
   "metadata": {},
   "source": [
    "Используйте либо https://scikit-learn.org/stable/modules/generated/sklearn.decomposition.LatentDirichletAllocation.html, либо модели из gensim (https://radimrehurek.com/gensim/models/ldamodel.html) для тематического моделирования на этих текстах. Посмотрите на полученные темы, попытайтесь их интерпретировать. Используйте распределение тем для документа в качестве набора признаков, описывающих его. Обучите модель на этих признаках и сравните с tf-idf.\n",
    "\n",
    "Поскольку задание на 10 тут не будет никакой дополнительной информацию. Те, кто делают, пусть пишут мне сообщения и задают вопросы на паре. Отвечу и помогу точечно."
   ]
  },
  {
   "cell_type": "markdown",
   "metadata": {},
   "source": [
    "# Часть 3. word2vec"
   ]
  },
  {
   "cell_type": "markdown",
   "metadata": {},
   "source": [
    "В этой части вам надо будет пощупать вектора слов, поискать ассоциации, а потом использовать эти вектора как признаки для вашей модели.\n"
   ]
  },
  {
   "cell_type": "markdown",
   "metadata": {},
   "source": [
    "Скачайте векторы отсюда и загрузите их при помощи кода ниже.\n",
    "\n",
    "https://drive.google.com/uc?id=0B7XkCwpI5KDYNlNUTTlSS21pQmM&export=download\n",
    "\n",
    "\n",
    "Если ваш компьютер не позволяет загрузить большие векторы, воспользуйтесь векторами вот отсюда. Они будут в 10 раз меньше по размеру.\n",
    "\n",
    "https://github.com/eyaler/word2vec-slim/blob/master/GoogleNews-vectors-negative300-SLIM.bin.gz\n",
    "\n",
    "Для работы с большими векторами нужно как минимум 8 гб оперативной памяти. Если у вас их нет, то пользуйтесь маленькими, либо google colaboratory, либо kaggle kernels."
   ]
  },
  {
   "cell_type": "code",
   "execution_count": 132,
   "metadata": {},
   "outputs": [
    {
     "name": "stdout",
     "output_type": "stream",
     "text": [
      "Collecting smart_openNote: you may need to restart the kernel to use updated packages.\n",
      "\n",
      "  Downloading smart_open-5.2.1-py3-none-any.whl (58 kB)\n",
      "Installing collected packages: smart-open\n",
      "Successfully installed smart-open-5.2.1\n"
     ]
    }
   ],
   "source": [
    "%pip install smart_open"
   ]
  },
  {
   "cell_type": "code",
   "execution_count": 135,
   "metadata": {},
   "outputs": [
    {
     "name": "stdout",
     "output_type": "stream",
     "text": [
      "Collecting gensim\n",
      "  Downloading gensim-4.1.2-cp38-cp38-win_amd64.whl (24.0 MB)\n",
      "Requirement already satisfied: smart-open>=1.8.1 in d:\\anaconda\\lib\\site-packages (from gensim) (5.2.1)\n",
      "Requirement already satisfied: Cython==0.29.23 in d:\\anaconda\\lib\\site-packages (from gensim) (0.29.23)\n",
      "Requirement already satisfied: numpy>=1.17.0 in d:\\anaconda\\lib\\site-packages (from gensim) (1.20.1)\n",
      "Requirement already satisfied: scipy>=0.18.1 in d:\\anaconda\\lib\\site-packages (from gensim) (1.6.2)\n",
      "Installing collected packages: gensim\n",
      "Successfully installed gensim-4.1.2\n",
      "Note: you may need to restart the kernel to use updated packages.\n"
     ]
    }
   ],
   "source": [
    "%pip install -U gensim"
   ]
  },
  {
   "cell_type": "code",
   "execution_count": 28,
   "metadata": {},
   "outputs": [],
   "source": [
    "import smart_open\n",
    "smart_open.open = smart_open.smart_open\n",
    "from gensim.models import KeyedVectors"
   ]
  },
  {
   "cell_type": "code",
   "execution_count": 29,
   "metadata": {},
   "outputs": [],
   "source": [
    "w2v = KeyedVectors.load_word2vec_format('GoogleNews-vectors-negative300.bin', binary=True)"
   ]
  },
  {
   "cell_type": "markdown",
   "metadata": {},
   "source": [
    "# Задание 3.1 Знакомство с векторами"
   ]
  },
  {
   "cell_type": "markdown",
   "metadata": {},
   "source": [
    "Пощупайте векторы и найдите по крайней мере 2 **семантических** и 2 **синтаксических** аналогии"
   ]
  },
  {
   "cell_type": "markdown",
   "metadata": {},
   "source": [
    "Семантика ~ Значение\n",
    "Синтаксис ~ Символическое представление\n",
    "\n",
    "Синтаксис - это структура или грамматика языка. Он отвечает на вопрос: как мне построить правильное предложение? Все языки, даже английский и другие человеческие (он же \"natural\") языки, имеют грамматики, то есть правила, которые определяют, правильно ли построено предложение.\n",
    "Семантика-это значение предложения. Он отвечает на вопросы: является ли это предложение действительным? Если да, то что означает это предложение?"
   ]
  },
  {
   "cell_type": "code",
   "execution_count": 35,
   "metadata": {},
   "outputs": [
    {
     "data": {
      "text/plain": [
       "array([ 9.32617188e-02,  2.24609375e-02,  1.91406250e-01,  5.42968750e-01,\n",
       "        1.27929688e-01, -4.15039062e-02,  6.10351562e-02, -7.59887695e-03,\n",
       "       -4.62890625e-01, -1.47094727e-02, -2.03125000e-01,  3.04687500e-01,\n",
       "        3.24707031e-02,  1.51367188e-01,  7.91015625e-02,  4.93164062e-02,\n",
       "       -2.42187500e-01, -4.98046875e-02, -9.57031250e-02, -1.72851562e-01,\n",
       "        2.87109375e-01, -2.39257812e-01,  1.46484375e-02, -4.71191406e-02,\n",
       "        1.31835938e-01, -4.04357910e-04, -2.59765625e-01, -7.22656250e-02,\n",
       "       -3.33984375e-01,  7.66601562e-02, -3.41796875e-01, -1.41601562e-01,\n",
       "       -1.53320312e-01,  8.25195312e-02,  1.68945312e-01,  8.64257812e-02,\n",
       "       -3.43750000e-01,  2.19726562e-01, -7.72094727e-03, -3.49609375e-01,\n",
       "        1.23535156e-01,  3.75976562e-02,  3.08593750e-01, -1.22558594e-01,\n",
       "       -1.77001953e-03, -4.98046875e-02,  3.41796875e-02, -4.76074219e-02,\n",
       "       -1.66992188e-01,  2.22656250e-01, -2.44140625e-02, -5.00488281e-03,\n",
       "        3.20374966e-06,  3.02734375e-01, -3.12500000e-01, -1.43554688e-01,\n",
       "       -4.16015625e-01, -1.77734375e-01, -3.94531250e-01, -2.59765625e-01,\n",
       "        1.78710938e-01, -6.12792969e-02,  2.14843750e-02, -1.49414062e-01,\n",
       "        2.12890625e-01, -1.54296875e-01,  7.61718750e-02,  9.81445312e-02,\n",
       "        1.48437500e-01,  8.93554688e-02, -3.12500000e-01, -2.67578125e-01,\n",
       "       -3.66210938e-02,  8.64257812e-02, -5.31250000e-01, -7.42187500e-02,\n",
       "        3.86718750e-01,  2.38281250e-01, -6.29882812e-02,  3.58581543e-03,\n",
       "       -2.29492188e-01, -4.78515625e-01,  4.45312500e-01,  6.54296875e-02,\n",
       "        2.17773438e-01,  6.95800781e-03, -4.88281250e-02, -2.39257812e-01,\n",
       "       -8.78906250e-03,  4.06250000e-01,  1.12304688e-01, -3.26171875e-01,\n",
       "        9.52148438e-02, -1.00097656e-01, -3.73046875e-01, -3.28125000e-01,\n",
       "        6.44531250e-02,  1.57226562e-01, -3.41796875e-01, -2.20703125e-01,\n",
       "       -2.03125000e-01,  9.08203125e-02, -1.04980469e-01,  2.23632812e-01,\n",
       "        1.01562500e-01, -6.44531250e-02,  2.20703125e-01, -2.36816406e-02,\n",
       "       -3.82812500e-01, -3.24218750e-01, -1.52343750e-01, -2.85156250e-01,\n",
       "        2.79296875e-01, -1.73828125e-01, -2.26562500e-01, -1.06445312e-01,\n",
       "        1.50390625e-01, -8.25195312e-02,  1.34765625e-01,  2.04101562e-01,\n",
       "       -6.25000000e-02, -1.22558594e-01, -3.20312500e-01, -2.27539062e-01,\n",
       "        4.78515625e-01,  9.81445312e-02, -1.42578125e-01,  4.88281250e-01,\n",
       "       -3.67187500e-01, -9.91210938e-02,  3.58581543e-03,  2.87109375e-01,\n",
       "        5.17578125e-02, -5.95703125e-02, -6.34765625e-02, -7.08007812e-02,\n",
       "       -1.30859375e-01, -8.78906250e-02, -3.00781250e-01, -1.11328125e-01,\n",
       "        1.69921875e-01,  1.16699219e-01,  4.07714844e-02,  1.84570312e-01,\n",
       "        9.42382812e-02,  2.37304688e-01, -7.37304688e-02,  3.61328125e-02,\n",
       "       -6.25000000e-01,  1.82617188e-01,  5.82031250e-01,  2.09960938e-01,\n",
       "        2.39257812e-01,  6.12792969e-02,  6.05468750e-01,  1.85546875e-01,\n",
       "       -3.14941406e-02,  1.69921875e-01,  1.88476562e-01,  2.89062500e-01,\n",
       "       -2.71484375e-01,  1.84570312e-01, -4.58984375e-02, -3.08593750e-01,\n",
       "        4.47265625e-01,  2.96630859e-02, -1.51367188e-01,  4.45312500e-01,\n",
       "       -8.44726562e-02,  2.81250000e-01, -1.88476562e-01, -3.65234375e-01,\n",
       "        1.22558594e-01,  1.35742188e-01, -1.24023438e-01, -1.04492188e-01,\n",
       "       -7.42187500e-02, -6.32812500e-01, -2.31445312e-01, -4.90234375e-01,\n",
       "        3.35937500e-01,  5.17578125e-02, -3.57421875e-01,  1.88476562e-01,\n",
       "        3.37890625e-01, -1.37695312e-01,  5.61523438e-02, -6.78710938e-02,\n",
       "        1.31835938e-01, -3.00781250e-01, -2.17773438e-01,  2.55859375e-01,\n",
       "        6.19888306e-06,  1.73828125e-01, -8.20312500e-02, -3.28125000e-01,\n",
       "       -2.92968750e-01, -1.19140625e-01, -7.95898438e-02, -2.75390625e-01,\n",
       "        9.39941406e-03,  1.24511719e-01, -1.52343750e-01,  7.86132812e-02,\n",
       "        8.98437500e-02, -4.06250000e-01,  2.89062500e-01,  1.33789062e-01,\n",
       "       -1.49414062e-01, -2.27539062e-01, -1.48437500e-01, -2.94189453e-02,\n",
       "        1.19018555e-02,  1.02539062e-01, -3.33984375e-01, -2.91015625e-01,\n",
       "       -1.25000000e-01,  2.51953125e-01,  2.40234375e-01, -1.13281250e-01,\n",
       "       -1.44531250e-01, -1.03515625e-01,  1.93359375e-01,  4.54101562e-02,\n",
       "        1.21582031e-01,  5.73730469e-02,  3.36914062e-02,  5.15136719e-02,\n",
       "        1.14746094e-01, -3.02734375e-01,  1.56250000e-01,  1.53320312e-01,\n",
       "       -1.18652344e-01, -2.91015625e-01, -2.01171875e-01,  2.09960938e-01,\n",
       "       -1.25000000e-01, -7.91015625e-02,  3.32031250e-01, -1.70898438e-01,\n",
       "       -1.27929688e-01, -3.63769531e-02, -2.71484375e-01, -9.86328125e-02,\n",
       "       -1.37695312e-01,  2.73437500e-01, -1.34765625e-01, -4.63867188e-02,\n",
       "       -1.51367188e-01, -3.67187500e-01,  9.91210938e-02,  3.39843750e-01,\n",
       "        2.43164062e-01,  1.34765625e-01,  2.74658203e-02,  6.15234375e-02,\n",
       "        3.10546875e-01, -1.15966797e-02,  1.10839844e-01, -7.22656250e-02,\n",
       "       -3.49121094e-02, -2.60925293e-03,  1.26953125e-01,  3.20312500e-01,\n",
       "        4.58984375e-01,  1.01318359e-02, -2.13867188e-01, -2.46093750e-01,\n",
       "       -6.15234375e-02, -9.81445312e-02, -1.36718750e-01,  9.32617188e-02,\n",
       "        1.65039062e-01, -8.05664062e-02, -1.44531250e-01,  1.93359375e-01,\n",
       "        1.19628906e-01,  2.50000000e-01,  7.17773438e-02,  1.09863281e-01,\n",
       "        7.66601562e-02,  2.00195312e-01,  1.93359375e-01,  1.23535156e-01,\n",
       "        8.05664062e-03, -1.48437500e-01, -2.63671875e-01,  2.53906250e-01,\n",
       "       -9.27734375e-02,  2.64892578e-02, -3.26171875e-01,  1.64062500e-01,\n",
       "        9.86328125e-02,  5.54199219e-02,  2.81250000e-01,  3.96484375e-01,\n",
       "       -2.69531250e-01,  2.75390625e-01,  3.85742188e-02,  3.53515625e-01],\n",
       "      dtype=float32)"
      ]
     },
     "execution_count": 35,
     "metadata": {},
     "output_type": "execute_result"
    }
   ],
   "source": [
    "# вот так можно получить вектор слова\n",
    "w2v['Minsk']"
   ]
  },
  {
   "cell_type": "markdown",
   "metadata": {},
   "source": [
    "Вот так работают аналогии"
   ]
  },
  {
   "cell_type": "markdown",
   "metadata": {},
   "source": [
    "Использование sentence embeddings: модели типа word2vec или sent2vec. Пример их использования — \"король\" + \"женщина\" — \"мужчина\" = \"королева\". Если коротко, то суть в том, чтобы перевести слова (предложения, тексты) в векторное пространство с сохранением семантического расстояния между ними. Такой подход открывает перед нами замечательные возможности по оценке близости текстов и их кусочков по смыслу."
   ]
  },
  {
   "cell_type": "code",
   "execution_count": 5,
   "metadata": {},
   "outputs": [
    {
     "data": {
      "text/plain": [
       "[('Moscow', 0.7905825972557068),\n",
       " ('Tbilisi', 0.6598107218742371),\n",
       " ('Kyiv', 0.6513273119926453),\n",
       " ('Kremlin', 0.6477817893028259),\n",
       " ('Kiev', 0.6403970122337341),\n",
       " ('Saint_Petersburg', 0.635554850101471),\n",
       " ('St_Petersburg', 0.6216074824333191),\n",
       " ('Baku', 0.618080198764801),\n",
       " ('Vilnius', 0.6057642698287964),\n",
       " ('Putin', 0.5993437170982361)]"
      ]
     },
     "execution_count": 5,
     "metadata": {},
     "output_type": "execute_result"
    }
   ],
   "source": [
    "# vec(Minsk) - vec(Belarus) + vec(Russia) ~= vec(Moscow)\n",
    "w2v.most_similar(positive=['Minsk', 'Russia'], negative=['Belarus'])"
   ]
  },
  {
   "cell_type": "code",
   "execution_count": 16,
   "metadata": {},
   "outputs": [
    {
     "data": {
      "text/plain": [
       "[('killers', 0.5804442167282104),\n",
       " ('murderer', 0.5400042533874512),\n",
       " ('serial_killer', 0.5138161182403564),\n",
       " ('rapist', 0.5040439367294312),\n",
       " ('murderess', 0.48673558235168457),\n",
       " ('Killer', 0.4715416729450226),\n",
       " ('serial_rapist', 0.45778417587280273),\n",
       " ('serial_killers', 0.4479433298110962),\n",
       " ('kidnapper', 0.4435330629348755),\n",
       " ('Moors_Murderers', 0.4369093179702759)]"
      ]
     },
     "execution_count": 16,
     "metadata": {},
     "output_type": "execute_result"
    }
   ],
   "source": [
    "# семантические\n",
    "w2v.most_similar(positive=['killer', 'queen'], negative=['king'])"
   ]
  },
  {
   "cell_type": "code",
   "execution_count": 10,
   "metadata": {
    "colab": {
     "base_uri": "https://localhost:8080/"
    },
    "executionInfo": {
     "elapsed": 199,
     "status": "ok",
     "timestamp": 1622312487873,
     "user": {
      "displayName": "Тимур Каханович",
      "photoUrl": "",
      "userId": "01126912824027436107"
     },
     "user_tz": -180
    },
    "id": "dJKg4-wmQ8RE",
    "outputId": "8afca761-aeee-4e1c-f7ab-08cb03c5dab6"
   },
   "outputs": [
    {
     "data": {
      "text/plain": [
       "[('cop', 0.5956324338912964),\n",
       " ('Policeman', 0.5897844433784485),\n",
       " ('policemen', 0.5555378794670105),\n",
       " ('taxi_driver', 0.5446732044219971),\n",
       " ('constable', 0.5369301438331604),\n",
       " ('patrolman', 0.5226218104362488),\n",
       " ('sergeant', 0.5130869150161743),\n",
       " ('soldier', 0.5074026584625244),\n",
       " ('askari', 0.5033218860626221),\n",
       " ('taximan', 0.4899348020553589)]"
      ]
     },
     "execution_count": 10,
     "metadata": {},
     "output_type": "execute_result"
    }
   ],
   "source": [
    "w2v.most_similar(positive=['policeman', 'man'], negative=['woman'])"
   ]
  },
  {
   "cell_type": "code",
   "execution_count": 15,
   "metadata": {
    "colab": {
     "base_uri": "https://localhost:8080/"
    },
    "executionInfo": {
     "elapsed": 197,
     "status": "ok",
     "timestamp": 1622312295817,
     "user": {
      "displayName": "Тимур Каханович",
      "photoUrl": "",
      "userId": "01126912824027436107"
     },
     "user_tz": -180
    },
    "id": "n29QVRL2QYxi",
    "outputId": "5a8fc651-2257-4f9b-d9b5-f6dc06e9e2ea"
   },
   "outputs": [
    {
     "data": {
      "text/plain": [
       "[('traveling', 0.6640777587890625),\n",
       " ('Travel', 0.53085857629776),\n",
       " ('Travelling', 0.4479776918888092),\n",
       " ('travelers', 0.4444577693939209),\n",
       " ('Driving', 0.43843552470207214),\n",
       " ('Traveling', 0.4224492907524109),\n",
       " ('travels', 0.4080311357975006),\n",
       " ('commuting', 0.39884302020072937),\n",
       " ('rebooking_flights', 0.39883700013160706),\n",
       " ('traveled', 0.39638522267341614)]"
      ]
     },
     "execution_count": 15,
     "metadata": {},
     "output_type": "execute_result"
    }
   ],
   "source": [
    "# синтаксические\n",
    "w2v.most_similar(positive=['driving', 'travel'], negative=['drive'])"
   ]
  },
  {
   "cell_type": "code",
   "execution_count": 14,
   "metadata": {
    "colab": {
     "base_uri": "https://localhost:8080/"
    },
    "executionInfo": {
     "elapsed": 206,
     "status": "ok",
     "timestamp": 1622312270955,
     "user": {
      "displayName": "Тимур Каханович",
      "photoUrl": "",
      "userId": "01126912824027436107"
     },
     "user_tz": -180
    },
    "id": "Ywq3Tze0V0LK",
    "outputId": "85356e05-b10c-4979-879c-8431263db3e8"
   },
   "outputs": [
    {
     "data": {
      "text/plain": [
       "[('being', 0.443345844745636),\n",
       " ('Having', 0.42734086513519287),\n",
       " ('had', 0.40827712416648865),\n",
       " ('was', 0.40694287419319153),\n",
       " ('hasbeen', 0.4012598693370819),\n",
       " ('admitting', 0.38245365023612976),\n",
       " ('is', 0.3807489275932312),\n",
       " ('Has', 0.3645123839378357),\n",
       " ('maintains', 0.36306387186050415),\n",
       " ('feels', 0.35612162947654724)]"
      ]
     },
     "execution_count": 14,
     "metadata": {},
     "output_type": "execute_result"
    }
   ],
   "source": [
    "w2v.most_similar(positive=['having', 'has'], negative=['have'])"
   ]
  },
  {
   "cell_type": "markdown",
   "metadata": {},
   "source": [
    "# Задание 3.2 Использование среднего вектора в качестве фичей для моделирования"
   ]
  },
  {
   "cell_type": "markdown",
   "metadata": {},
   "source": [
    "Как мы и говорили на лекции, вектора слов можно использовать для построения признакового описания текста путем усреднения векторов. Сделайте это. Для этого нужно:\n",
    "1. Токенизировать каждый текст\n",
    "2. Для каждого токена попробовать найти вектор в w2v. Если его там нет, то просто игнорировать.\n",
    "3. Усреднить все вектора слов текста для получения его признакового описания. Если ни одного из слов в тексте нет вектора, то вернуть вектор из нулей той же длины\n",
    "\n",
    "На полученных признаках обучите модель для предсказания и сравните качество.\n",
    "\n",
    "ВНИМАНИЕ! Не забывайте нормировать вектора с помощью numpy!\n",
    "\n"
   ]
  },
  {
   "cell_type": "code",
   "execution_count": 30,
   "metadata": {
    "id": "Z3mQyI-h2A0v"
   },
   "outputs": [],
   "source": [
    "def get_w2v_vect(token, w2v):\n",
    "    token = token.lower()\n",
    "    if token in w2v.index_to_key:\n",
    "        return w2v[token]\n",
    "    else:\n",
    "        return np.zeros(w2v.vector_size) "
   ]
  },
  {
   "cell_type": "code",
   "execution_count": 31,
   "metadata": {
    "id": "VeT41lNoi9Oh"
   },
   "outputs": [],
   "source": [
    "def get_features_from_text(tokenized_sent, w2v):\n",
    "    vect = np.array([get_w2v_vect(token, w2v) for token in tokenized_sent]).mean(axis=0) \n",
    "    vect_norm = np.linalg.norm(vect)\n",
    "    if vect_norm != 0:\n",
    "        return vect/vect_norm\n",
    "    else:\n",
    "        return vect"
   ]
  },
  {
   "cell_type": "code",
   "execution_count": null,
   "metadata": {
    "id": "Vur8qyz1oYJy"
   },
   "outputs": [],
   "source": [
    "w2v_data = np.array([get_features_from_text(tokenized_sent, w2v) \n",
    "                    for tokenized_sent in tokenized[::5]])"
   ]
  },
  {
   "cell_type": "code",
   "execution_count": null,
   "metadata": {
    "id": "qnXkL_XqDZEL"
   },
   "outputs": [],
   "source": [
    "y = df['target'][::5]"
   ]
  },
  {
   "cell_type": "code",
   "execution_count": null,
   "metadata": {},
   "outputs": [],
   "source": [
    "y"
   ]
  },
  {
   "cell_type": "code",
   "execution_count": null,
   "metadata": {
    "id": "vnPmjW6NIL5l"
   },
   "outputs": [],
   "source": [
    "clf = SGDClassifier(loss='modified_huber', penalty='elasticnet', l1_ratio=0.1, alpha=1e-6, class_weight='balanced', random_state=42)"
   ]
  },
  {
   "cell_type": "code",
   "execution_count": null,
   "metadata": {
    "id": "r_upzqtJIq4N"
   },
   "outputs": [],
   "source": [
    "pred10 = cross_val_predict(clf, w2v_data, y, cv=StratifiedKFold(5), n_jobs=-1, method='predict_proba')[:, 1]"
   ]
  },
  {
   "cell_type": "code",
   "execution_count": null,
   "metadata": {
    "colab": {
     "base_uri": "https://localhost:8080/",
     "height": 748
    },
    "executionInfo": {
     "elapsed": 1403,
     "status": "ok",
     "timestamp": 1622372457649,
     "user": {
      "displayName": "Тимур Каханович",
      "photoUrl": "",
      "userId": "01126912824027436107"
     },
     "user_tz": -180
    },
    "id": "qyCRI_89W6Wy",
    "outputId": "015a9d97-2901-4f9b-9b39-4a5274e7fa56"
   },
   "outputs": [],
   "source": [
    "plot_f1(y, pred10)"
   ]
  },
  {
   "cell_type": "markdown",
   "metadata": {
    "id": "vcQb6QYin66q"
   },
   "source": [
    "На признаках текстов, полученных из word2vec не получилось особо повысить качество классификации."
   ]
  },
  {
   "cell_type": "markdown",
   "metadata": {},
   "source": [
    "# Часть 4 (На 9). Давайте используем Transformers как полностью черный ящик и сравним качество "
   ]
  },
  {
   "cell_type": "markdown",
   "metadata": {},
   "source": [
    "Давайте теперь попробуем взять вектора слов из другого источника. В этом нам поможет библиотека sentence_transformers, которую вам нужно установить следующим образом:\n",
    "1. conda install -c conda-forge sentence-transformers\n",
    "2. Если при загрузке модели у вас вываливаются ошибки, в которых что-то говорится о несовместимых версиях файлов, то убедитесь, что вас установился pytorch версии 1.6 или выше с помощью conda list. Обновите, если вдруг это не так. \n",
    "3. Если кто-то является счастливым обладателем игровой видеокатры, то пусть выполняет эти вычисления на gpu. Остальным рекомендую или считать на kaggle kernels/google colaboratory, или сэмплировать данные, чтобы их было меньше.\n",
    "\n",
    "\n",
    "Документация к библиотеке вот тут: https://www.sbert.net/docs/quickstart.html"
   ]
  },
  {
   "cell_type": "markdown",
   "metadata": {},
   "source": [
    "Модели, которые мы будем использовать, являются не только мультиязыковыми, но и выровненными, это означает, что, если им на вход подавать предложения на разных языках, то вектора все равно будут сохранять между собой семантическое расстояние, — вектор для \"I love cats\" будет близок вектору \"Я люблю кошек\". \n",
    "\n",
    "Использование sentence embeddings: модели типа word2vec или sent2vec. Пример их использования — \"король\" + \"женщина\" — \"мужчина\" = \"королева\". Если коротко, то суть в том, чтобы перевести слова (предложения, тексты) в векторное пространство с сохранением семантического расстояния между ними. Такой подход открывает перед нами замечательные возможности по оценке близости текстов и их кусочков по смыслу.\n"
   ]
  },
  {
   "cell_type": "code",
   "execution_count": 1,
   "metadata": {
    "colab": {
     "base_uri": "https://localhost:8080/"
    },
    "executionInfo": {
     "elapsed": 7486,
     "status": "ok",
     "timestamp": 1622367867208,
     "user": {
      "displayName": "Тимур Каханович",
      "photoUrl": "",
      "userId": "01126912824027436107"
     },
     "user_tz": -180
    },
    "id": "EoKl3YTfoYOh",
    "outputId": "74cb4be0-7711-4761-f3b1-84813dd70526"
   },
   "outputs": [
    {
     "name": "stdout",
     "output_type": "stream",
     "text": [
      "Collecting sentence-transformers\n",
      "  Downloading sentence-transformers-2.1.0.tar.gz (78 kB)\n",
      "Collecting transformers<5.0.0,>=4.6.0\n",
      "  Downloading transformers-4.15.0-py3-none-any.whl (3.4 MB)\n",
      "Collecting tokenizers>=0.10.3\n",
      "  Downloading tokenizers-0.11.0-cp38-cp38-win_amd64.whl (3.3 MB)\n",
      "Requirement already satisfied: tqdm in d:\\anaconda\\lib\\site-packages (from sentence-transformers) (4.59.0)\n",
      "Collecting torch>=1.6.0\n",
      "  Downloading torch-1.10.1-cp38-cp38-win_amd64.whl (226.6 MB)\n",
      "Collecting torchvision\n",
      "  Downloading torchvision-0.11.2-cp38-cp38-win_amd64.whl (985 kB)\n",
      "Requirement already satisfied: numpy in d:\\anaconda\\lib\\site-packages (from sentence-transformers) (1.20.1)\n",
      "Requirement already satisfied: scikit-learn in d:\\anaconda\\lib\\site-packages (from sentence-transformers) (0.24.1)\n",
      "Requirement already satisfied: scipy in d:\\anaconda\\lib\\site-packages (from sentence-transformers) (1.6.2)\n",
      "Requirement already satisfied: nltk in d:\\anaconda\\lib\\site-packages (from sentence-transformers) (3.6.1)\n",
      "Collecting sentencepiece\n",
      "  Downloading sentencepiece-0.1.96-cp38-cp38-win_amd64.whl (1.1 MB)\n",
      "Collecting huggingface-hub\n",
      "  Downloading huggingface_hub-0.2.1-py3-none-any.whl (61 kB)\n",
      "Requirement already satisfied: typing-extensions in d:\\anaconda\\lib\\site-packages (from torch>=1.6.0->sentence-transformers) (3.7.4.3)\n",
      "Requirement already satisfied: requests in d:\\anaconda\\lib\\site-packages (from transformers<5.0.0,>=4.6.0->sentence-transformers) (2.25.1)\n",
      "Requirement already satisfied: packaging>=20.0 in d:\\anaconda\\lib\\site-packages (from transformers<5.0.0,>=4.6.0->sentence-transformers) (20.9)\n",
      "Requirement already satisfied: filelock in d:\\anaconda\\lib\\site-packages (from transformers<5.0.0,>=4.6.0->sentence-transformers) (3.0.12)\n",
      "Requirement already satisfied: regex!=2019.12.17 in d:\\anaconda\\lib\\site-packages (from transformers<5.0.0,>=4.6.0->sentence-transformers) (2021.4.4)\n",
      "Requirement already satisfied: pyyaml>=5.1 in d:\\anaconda\\lib\\site-packages (from transformers<5.0.0,>=4.6.0->sentence-transformers) (5.4.1)\n",
      "Collecting sacremoses\n",
      "  Downloading sacremoses-0.0.46-py3-none-any.whl (895 kB)\n",
      "Collecting tokenizers>=0.10.3\n",
      "  Downloading tokenizers-0.10.3-cp38-cp38-win_amd64.whl (2.0 MB)\n",
      "Requirement already satisfied: pyparsing>=2.0.2 in d:\\anaconda\\lib\\site-packages (from packaging>=20.0->transformers<5.0.0,>=4.6.0->sentence-transformers) (2.4.7)\n",
      "Requirement already satisfied: joblib in d:\\anaconda\\lib\\site-packages (from nltk->sentence-transformers) (1.0.1)\n",
      "Requirement already satisfied: click in d:\\anaconda\\lib\\site-packages (from nltk->sentence-transformers) (7.1.2)\n",
      "Requirement already satisfied: certifi>=2017.4.17 in d:\\anaconda\\lib\\site-packages (from requests->transformers<5.0.0,>=4.6.0->sentence-transformers) (2020.12.5)\n",
      "Requirement already satisfied: urllib3<1.27,>=1.21.1 in d:\\anaconda\\lib\\site-packages (from requests->transformers<5.0.0,>=4.6.0->sentence-transformers) (1.26.4)\n",
      "Requirement already satisfied: idna<3,>=2.5 in d:\\anaconda\\lib\\site-packages (from requests->transformers<5.0.0,>=4.6.0->sentence-transformers) (2.10)\n",
      "Requirement already satisfied: chardet<5,>=3.0.2 in d:\\anaconda\\lib\\site-packages (from requests->transformers<5.0.0,>=4.6.0->sentence-transformers) (4.0.0)\n",
      "Requirement already satisfied: six in d:\\anaconda\\lib\\site-packages (from sacremoses->transformers<5.0.0,>=4.6.0->sentence-transformers) (1.15.0)\n",
      "Requirement already satisfied: threadpoolctl>=2.0.0 in d:\\anaconda\\lib\\site-packages (from scikit-learn->sentence-transformers) (2.1.0)\n",
      "Requirement already satisfied: pillow!=8.3.0,>=5.3.0 in d:\\anaconda\\lib\\site-packages (from torchvision->sentence-transformers) (8.2.0)\n",
      "Building wheels for collected packages: sentence-transformers\n",
      "  Building wheel for sentence-transformers (setup.py): started\n",
      "  Building wheel for sentence-transformers (setup.py): finished with status 'done'\n",
      "  Created wheel for sentence-transformers: filename=sentence_transformers-2.1.0-py3-none-any.whl size=120999 sha256=a2c7edd51a0390968214fd8630c4cf51b481b216f0d9d003abd3cb0b38aec51c\n",
      "  Stored in directory: c:\\users\\asus\\appdata\\local\\pip\\cache\\wheels\\52\\19\\88\\6625593382e23a926740e6fcee0f2df0a0de25766094842a28\n",
      "Successfully built sentence-transformers\n",
      "Installing collected packages: torch, tokenizers, sacremoses, huggingface-hub, transformers, torchvision, sentencepiece, sentence-transformers\n",
      "Successfully installed huggingface-hub-0.2.1 sacremoses-0.0.46 sentence-transformers-2.1.0 sentencepiece-0.1.96 tokenizers-0.10.3 torch-1.10.1 torchvision-0.11.2 transformers-4.15.0\n",
      "Note: you may need to restart the kernel to use updated packages.\n"
     ]
    }
   ],
   "source": [
    "%pip install sentence-transformers"
   ]
  },
  {
   "cell_type": "code",
   "execution_count": 2,
   "metadata": {},
   "outputs": [],
   "source": [
    "from sentence_transformers import SentenceTransformer"
   ]
  },
  {
   "cell_type": "markdown",
   "metadata": {},
   "source": [
    "В качестве векторизатора возьмем модель, которую авторы библиотеки рекомендуют по умолчанию. Во время первого выполнения ячейки файл с весами модели будет скачан вам на компьютер.\n",
    "\n",
    "В дальнейшем используйте model.encode, чтобы преобразовать ваши тексты в вектора. Обратите внимание, что токенизация происходит внутри без вашего участия. Вы просто подаете тексты.\n",
    "\n",
    "В инициализации ниже указана модель all-mpnet-base-v2. Для скорости можно взять модель полегче. Например, all-MiniLM-L6-v2. Список моделей вот тут: https://www.sbert.net/docs/pretrained_models.html \n",
    "\n",
    "\n",
    "Если будет выпадать ошибка \"ImportError: IProgress not found. Please update jupyter and ipywidgets. See \n",
    "https://ipywidgets.readthedocs.io/en/stable/user_install.html\", то установите их с помощью **conda install ipywidgets**"
   ]
  },
  {
   "cell_type": "code",
   "execution_count": 3,
   "metadata": {},
   "outputs": [
    {
     "data": {
      "application/vnd.jupyter.widget-view+json": {
       "model_id": "5fc6bf06610146edb9777c47201951be",
       "version_major": 2,
       "version_minor": 0
      },
      "text/plain": [
       "Downloading:   0%|          | 0.00/1.18k [00:00<?, ?B/s]"
      ]
     },
     "metadata": {},
     "output_type": "display_data"
    },
    {
     "data": {
      "application/vnd.jupyter.widget-view+json": {
       "model_id": "fd6d5312750d4c7ba5effbff3f8471d4",
       "version_major": 2,
       "version_minor": 0
      },
      "text/plain": [
       "Downloading:   0%|          | 0.00/10.1k [00:00<?, ?B/s]"
      ]
     },
     "metadata": {},
     "output_type": "display_data"
    },
    {
     "data": {
      "application/vnd.jupyter.widget-view+json": {
       "model_id": "9f8383e6b75f4047aae5bdeb308b5f44",
       "version_major": 2,
       "version_minor": 0
      },
      "text/plain": [
       "Downloading:   0%|          | 0.00/571 [00:00<?, ?B/s]"
      ]
     },
     "metadata": {},
     "output_type": "display_data"
    },
    {
     "data": {
      "application/vnd.jupyter.widget-view+json": {
       "model_id": "5d8cc5775ad84fc5b343123a2d846d3b",
       "version_major": 2,
       "version_minor": 0
      },
      "text/plain": [
       "Downloading:   0%|          | 0.00/116 [00:00<?, ?B/s]"
      ]
     },
     "metadata": {},
     "output_type": "display_data"
    },
    {
     "data": {
      "application/vnd.jupyter.widget-view+json": {
       "model_id": "14e617d22cd248d2b40904ecbf10a654",
       "version_major": 2,
       "version_minor": 0
      },
      "text/plain": [
       "Downloading:   0%|          | 0.00/39.3k [00:00<?, ?B/s]"
      ]
     },
     "metadata": {},
     "output_type": "display_data"
    },
    {
     "data": {
      "application/vnd.jupyter.widget-view+json": {
       "model_id": "a72b4086801a4502b38a803031bf82a5",
       "version_major": 2,
       "version_minor": 0
      },
      "text/plain": [
       "Downloading:   0%|          | 0.00/349 [00:00<?, ?B/s]"
      ]
     },
     "metadata": {},
     "output_type": "display_data"
    },
    {
     "data": {
      "application/vnd.jupyter.widget-view+json": {
       "model_id": "435dbd2859be4891a6448495f343692d",
       "version_major": 2,
       "version_minor": 0
      },
      "text/plain": [
       "Downloading:   0%|          | 0.00/438M [00:00<?, ?B/s]"
      ]
     },
     "metadata": {},
     "output_type": "display_data"
    },
    {
     "data": {
      "application/vnd.jupyter.widget-view+json": {
       "model_id": "d7c7dcfb15034c18856c9165f4641016",
       "version_major": 2,
       "version_minor": 0
      },
      "text/plain": [
       "Downloading:   0%|          | 0.00/53.0 [00:00<?, ?B/s]"
      ]
     },
     "metadata": {},
     "output_type": "display_data"
    },
    {
     "data": {
      "application/vnd.jupyter.widget-view+json": {
       "model_id": "2906714d3301465280a001cc989e1c0f",
       "version_major": 2,
       "version_minor": 0
      },
      "text/plain": [
       "Downloading:   0%|          | 0.00/239 [00:00<?, ?B/s]"
      ]
     },
     "metadata": {},
     "output_type": "display_data"
    },
    {
     "data": {
      "application/vnd.jupyter.widget-view+json": {
       "model_id": "25f1949a6b3240f3bf73dd16a7d8a118",
       "version_major": 2,
       "version_minor": 0
      },
      "text/plain": [
       "Downloading:   0%|          | 0.00/466k [00:00<?, ?B/s]"
      ]
     },
     "metadata": {},
     "output_type": "display_data"
    },
    {
     "data": {
      "application/vnd.jupyter.widget-view+json": {
       "model_id": "a030ac20755940b1ae0ee3563708e2b9",
       "version_major": 2,
       "version_minor": 0
      },
      "text/plain": [
       "Downloading:   0%|          | 0.00/363 [00:00<?, ?B/s]"
      ]
     },
     "metadata": {},
     "output_type": "display_data"
    },
    {
     "data": {
      "application/vnd.jupyter.widget-view+json": {
       "model_id": "fce4bce85b7b4e89b7eec52671d28b3e",
       "version_major": 2,
       "version_minor": 0
      },
      "text/plain": [
       "Downloading:   0%|          | 0.00/13.1k [00:00<?, ?B/s]"
      ]
     },
     "metadata": {},
     "output_type": "display_data"
    },
    {
     "data": {
      "application/vnd.jupyter.widget-view+json": {
       "model_id": "3832505cdcf04795ac6a5702bb04a97f",
       "version_major": 2,
       "version_minor": 0
      },
      "text/plain": [
       "Downloading:   0%|          | 0.00/232k [00:00<?, ?B/s]"
      ]
     },
     "metadata": {},
     "output_type": "display_data"
    },
    {
     "data": {
      "application/vnd.jupyter.widget-view+json": {
       "model_id": "9d5dccea998345eb9dca9b12104230f9",
       "version_major": 2,
       "version_minor": 0
      },
      "text/plain": [
       "Downloading:   0%|          | 0.00/190 [00:00<?, ?B/s]"
      ]
     },
     "metadata": {},
     "output_type": "display_data"
    }
   ],
   "source": [
    "model = SentenceTransformer('all-mpnet-base-v2')"
   ]
  },
  {
   "cell_type": "markdown",
   "metadata": {},
   "source": [
    "Задания следующие:\n",
    "\n",
    "- Преобразуйте все тексты в признаки (их должно быть 768 для каждого текста). Обучите SGDClassifer на этих признаках и сравните качество с предыдущими вариантами.\n",
    "\n",
    "- Попробуйте поискать с помощью модели похожие вопросы как показано в sbert quickstart (ссылка выше)."
   ]
  },
  {
   "cell_type": "code",
   "execution_count": null,
   "metadata": {
    "colab": {
     "base_uri": "https://localhost:8080/"
    },
    "executionInfo": {
     "elapsed": 217628,
     "status": "ok",
     "timestamp": 1622370101061,
     "user": {
      "displayName": "Тимур Каханович",
      "photoUrl": "",
      "userId": "01126912824027436107"
     },
     "user_tz": -180
    },
    "id": "ZDEPoXFZswxZ",
    "outputId": "b1491be1-5302-47de-8222-e1ee54e0a5f0"
   },
   "outputs": [],
   "source": [
    "%%time\n",
    "pool = model.start_multi_process_pool(target_devices=['cuda', 'cuda'])\n",
    "embedding = model.encode_multi_process(df['question_text'].values[::5], pool)\n",
    "\n",
    "print(embedding.shape)\n",
    "model.stop_multi_process_pool(pool)"
   ]
  },
  {
   "cell_type": "code",
   "execution_count": null,
   "metadata": {
    "id": "DnnuwX8Mxgfk"
   },
   "outputs": [],
   "source": [
    "clf = SGDClassifier(loss='modified_huber', penalty='elasticnet', l1_ratio=0.1, alpha=1e-6, class_weight='balanced', random_state=42)"
   ]
  },
  {
   "cell_type": "code",
   "execution_count": null,
   "metadata": {
    "colab": {
     "base_uri": "https://localhost:8080/"
    },
    "executionInfo": {
     "elapsed": 754462,
     "status": "ok",
     "timestamp": 1622373227127,
     "user": {
      "displayName": "Тимур Каханович",
      "photoUrl": "",
      "userId": "01126912824027436107"
     },
     "user_tz": -180
    },
    "id": "JNOh9hHVz5x-",
    "outputId": "037c1cd9-de71-48bd-dbfb-03f0f46c9ccb"
   },
   "outputs": [],
   "source": [
    "%%time\n",
    "pred22 = cross_val_predict(clf, embedding, y, cv=StratifiedKFold(5), n_jobs=-1, method='predict_proba')[:, 1]"
   ]
  },
  {
   "cell_type": "code",
   "execution_count": null,
   "metadata": {
    "colab": {
     "base_uri": "https://localhost:8080/",
     "height": 748
    },
    "executionInfo": {
     "elapsed": 1591,
     "status": "ok",
     "timestamp": 1622373228713,
     "user": {
      "displayName": "Тимур Каханович",
      "photoUrl": "",
      "userId": "01126912824027436107"
     },
     "user_tz": -180
    },
    "id": "2R-oDx6a0FIB",
    "outputId": "9c22deef-2cf1-471a-c880-25fa2042ac44"
   },
   "outputs": [],
   "source": [
    "plot_f1(y, pred22)"
   ]
  },
  {
   "cell_type": "markdown",
   "metadata": {},
   "source": [
    "# Задание 5 (На +1 к лабораторной по кластеризации). Кластеризация текстов на основе векторизации"
   ]
  },
  {
   "cell_type": "markdown",
   "metadata": {},
   "source": [
    "Возьмите какую-то из векторизаций текстов на выбор и проведите для них кластеризацию способами из прошлой лабы по всем правилам. Попробуйте объяснить найденные кластеры, если они получатся и представить результат преподавателю. Если кластеризация не выходит, то обоснуйте это метриками и графиками.\n",
    "\n",
    "P.S. Если у вас и так 10 за кластеризацию, то плюс можно будет добавить к любой лабе. Если у вас 10 за все лабы, то я вами горжусь!"
   ]
  },
  {
   "cell_type": "code",
   "execution_count": null,
   "metadata": {
    "id": "rCLusDPcdav6"
   },
   "outputs": [],
   "source": [
    "from sklearn.neighbors import NearestNeighbors\n",
    "from sklearn.preprocessing import StandardScaler\n",
    "from sklearn.cluster import KMeans\n",
    "from sklearn.metrics import silhouette_score, silhouette_samples, homogeneity_score\n",
    "import matplotlib.cm as cm"
   ]
  },
  {
   "cell_type": "code",
   "execution_count": null,
   "metadata": {
    "id": "sf-drEZndq2Q"
   },
   "outputs": [],
   "source": [
    "def hopkins_statistic(X, m_fraction=1):\n",
    "    d = X.shape[1]\n",
    "    n = X.shape[0]\n",
    "    m = int(m_fraction * n)\n",
    "    X_scaled = StandardScaler().fit_transform(X)\n",
    "    X_sample = X_scaled[np.random.choice(range(0, n), m, replace=False)]\n",
    "    neighbors = NearestNeighbors(n_neighbors=1, algorithm='kd_tree').fit(X_scaled)\n",
    "    Y_rand = np.random.uniform(-1, 1, size=(m, d))\n",
    "    y = []\n",
    "    x = []\n",
    "    for j in range(0, m):\n",
    "        y.append(neighbors.kneighbors(Y_rand[j].reshape(1, -1),\n",
    "                                      n_neighbors=1,\n",
    "                                      return_distance=True)[0][0][0])\n",
    "        x.append(neighbors.kneighbors(X_sample[j].reshape(1, -1),\n",
    "                                      n_neighbors=2,\n",
    "                                      return_distance=True)[0][0][1])\n",
    "\n",
    "    H = sum(y) / (sum(x) + sum(y))\n",
    "    return 1 - H"
   ]
  },
  {
   "cell_type": "code",
   "execution_count": null,
   "metadata": {
    "id": "0irKQgOfgrP0"
   },
   "outputs": [],
   "source": [
    "def silhouette_plot(X, n_clusters=2, y_true=None):\n",
    "    fig, (ax1, ax2) = plt.subplots(1, 2)\n",
    "    fig.set_size_inches(18, 7)\n",
    "\n",
    "    ax1.set_xlim([-0.1, 1])\n",
    "    ax1.set_ylim([0, len(X) + (n_clusters + 1) * 10])\n",
    "\n",
    "    clusterer = KMeans(n_clusters=n_clusters, random_state=10)\n",
    "    y_pred = clusterer.fit_predict(X)\n",
    "\n",
    "    sample_silhouette_values = silhouette_samples(X, y_pred)\n",
    "    silhouette_avg = np.mean(sample_silhouette_values)\n",
    "\n",
    "    print('For n_clusters =', n_clusters,\n",
    "        '\\nThe average silhouette_score is', silhouette_avg)\n",
    "        \n",
    "    y_lower = 10\n",
    "    for i in range(n_clusters):\n",
    "        ith_cluster_silhouette_values = \\\n",
    "            sample_silhouette_values[y_pred == i]\n",
    "\n",
    "        ith_cluster_silhouette_values.sort()\n",
    "\n",
    "        size_cluster_i = ith_cluster_silhouette_values.shape[0]\n",
    "        y_upper = y_lower + size_cluster_i\n",
    "\n",
    "        color = cm.nipy_spectral(float(i) / n_clusters)\n",
    "        ax1.fill_betweenx(np.arange(y_lower, y_upper),\n",
    "                          0, ith_cluster_silhouette_values,\n",
    "                          facecolor=color, edgecolor=color, alpha=0.7)\n",
    "\n",
    "        ax1.text(-0.05, y_lower + 0.5 * size_cluster_i, str(i))\n",
    "\n",
    "        y_lower = y_upper + 10\n",
    "\n",
    "    if y_true is not None:\n",
    "        ax1.set_title(f'The silhouette plot for {n_clusters} clusters.' + \n",
    "            f'\\n Homogeneity index for MNIST ({n_clusters} clusters): ' +\n",
    "             f'{round(homogeneity_score(y_true, y_pred), 4)}')\n",
    "    else:\n",
    "        ax1.set_title(f'The silhouette plot for {n_clusters} clusters.')\n",
    "\n",
    "    ax1.set_xlabel('The silhouette coefficient values')\n",
    "    ax1.set_ylabel('Cluster label')\n",
    "\n",
    "    ax1.axvline(x=silhouette_avg, color='red', linestyle='--')\n",
    "\n",
    "    ax1.set_yticks([])\n",
    "    ax1.set_xticks([-0.1, 0, 0.2, 0.4, 0.6, 0.8, 1])\n",
    "\n",
    "    colors = cm.nipy_spectral(y_pred.astype(float) / n_clusters)\n",
    "    ax2.scatter(X[:, 0], X[:, 1], marker='.', s=30, lw=0, alpha=0.7,\n",
    "                c=colors, edgecolor='k')\n",
    "\n",
    "    centers = clusterer.cluster_centers_\n",
    "\n",
    "    ax2.scatter(centers[:, 0], centers[:, 1], marker='o',\n",
    "                c='white', alpha=1, s=200, edgecolor='k')\n",
    "\n",
    "    for i, c in enumerate(centers):\n",
    "        ax2.scatter(c[0], c[1], marker='$%d$' % i, alpha=1,\n",
    "                    s=50, edgecolor='k')\n",
    "\n",
    "    ax2.set_title('The visualization of the clustered data.')\n",
    "    ax2.set_xlabel('Feature space for the 1st feature')\n",
    "    ax2.set_ylabel('Feature space for the 2nd feature')\n",
    "\n",
    "    plt.suptitle(('Silhouette analysis for KMeans clustering on sample data '\n",
    "                  'with n_clusters = %d' % n_clusters),\n",
    "                 fontsize=14, fontweight='bold')\n",
    "\n",
    "    plt.show()"
   ]
  },
  {
   "cell_type": "markdown",
   "metadata": {},
   "source": [
    "1. Чем ближе к 0, тем более выраженная кластерная структура (значение меньше 0.25 означает 90% вероятность наличия кластерной структуры)\n",
    "2. Чем ближе к 0.5, тем больше данные похожи на шум. Может не очень хорошо работать в пространствах с большой размерностью\n",
    "3. Если статистика близка к единице, то в данных есть какая-то структура, но не кластерная"
   ]
  },
  {
   "cell_type": "code",
   "execution_count": null,
   "metadata": {
    "colab": {
     "base_uri": "https://localhost:8080/"
    },
    "executionInfo": {
     "elapsed": 26559,
     "status": "ok",
     "timestamp": 1622365259587,
     "user": {
      "displayName": "Тимур Каханович",
      "photoUrl": "",
      "userId": "01126912824027436107"
     },
     "user_tz": -180
    },
    "id": "sVEWmcNPedi9",
    "outputId": "77864aa4-64fa-46e5-97c9-45f1d45f1665"
   },
   "outputs": [],
   "source": [
    "print('Hopkins statistic for w2v:', hopkins_statistic(w2v_data[:1000]))"
   ]
  },
  {
   "cell_type": "code",
   "execution_count": null,
   "metadata": {
    "colab": {
     "base_uri": "https://localhost:8080/",
     "height": 526
    },
    "executionInfo": {
     "elapsed": 4141,
     "status": "ok",
     "timestamp": 1622367097577,
     "user": {
      "displayName": "Тимур Каханович",
      "photoUrl": "",
      "userId": "01126912824027436107"
     },
     "user_tz": -180
    },
    "id": "T7aCJ2uSgZuS",
    "outputId": "1d6fee1f-2855-4fdf-c9c8-d6e8588a5266"
   },
   "outputs": [],
   "source": [
    "silhouette_plot(w2v_data[:1000], 2, y[:1000])"
   ]
  },
  {
   "cell_type": "code",
   "execution_count": null,
   "metadata": {},
   "outputs": [],
   "source": [
    "print('Hopkins statistic for t-SNE:', hopkins_statistic(embeddings[:1000]))"
   ]
  },
  {
   "cell_type": "code",
   "execution_count": null,
   "metadata": {
    "colab": {
     "base_uri": "https://localhost:8080/",
     "height": 526
    },
    "executionInfo": {
     "elapsed": 2607,
     "status": "ok",
     "timestamp": 1622367100181,
     "user": {
      "displayName": "Тимур Каханович",
      "photoUrl": "",
      "userId": "01126912824027436107"
     },
     "user_tz": -180
    },
    "id": "6hifqOYQkECz",
    "outputId": "8d671596-2da4-49ad-bf5e-83ee5befda29"
   },
   "outputs": [],
   "source": [
    "silhouette_plot(embeddings, 2, y[:1000])"
   ]
  },
  {
   "cell_type": "code",
   "execution_count": null,
   "metadata": {},
   "outputs": [],
   "source": [
    "print(\"Homogeneity index :\",homogeneity_score(y[:1000], embeddings[:1000]))"
   ]
  },
  {
   "cell_type": "code",
   "execution_count": null,
   "metadata": {},
   "outputs": [],
   "source": [
    "print(\"Homogeneity index :\",homogeneity_score(y[:1000], w2v_data[:1000]))"
   ]
  },
  {
   "cell_type": "code",
   "execution_count": null,
   "metadata": {},
   "outputs": [],
   "source": []
  }
 ],
 "metadata": {
  "kernelspec": {
   "display_name": "Python 3",
   "language": "python",
   "name": "python3"
  },
  "language_info": {
   "codemirror_mode": {
    "name": "ipython",
    "version": 3
   },
   "file_extension": ".py",
   "mimetype": "text/x-python",
   "name": "python",
   "nbconvert_exporter": "python",
   "pygments_lexer": "ipython3",
   "version": "3.8.8"
  }
 },
 "nbformat": 4,
 "nbformat_minor": 4
}
